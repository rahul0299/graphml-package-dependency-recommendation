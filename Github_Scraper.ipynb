{
 "cells": [
  {
   "metadata": {
    "ExecuteTime": {
     "end_time": "2024-11-06T09:08:45.720881Z",
     "start_time": "2024-11-06T09:08:45.716436Z"
    }
   },
   "cell_type": "code",
   "source": [
    "from time import sleep\n",
    "\n",
    "import requests\n",
    "import json\n",
    "import pandas as pd\n",
    "from collections import defaultdict"
   ],
   "id": "514547032f0901b3",
   "outputs": [],
   "execution_count": 45
  },
  {
   "metadata": {
    "ExecuteTime": {
     "end_time": "2024-11-06T07:28:51.680935Z",
     "start_time": "2024-11-06T07:28:51.670897Z"
    }
   },
   "cell_type": "code",
   "source": [
    "# Read the CSV file\n",
    "file_path = './Application_types.csv'\n",
    "df = pd.read_csv(file_path)\n",
    "\n",
    "# Convert the 'Keyword' column to a list\n",
    "topic_list = df['Keyword'].tolist()\n",
    "\n",
    "# Display the list\n",
    "print(topic_list)\n",
    "\n",
    "\n",
    "def write_json_data(fileName,data):\n",
    "    with open(fileName, 'w') as file:\n",
    "    json.dump(data, file, indent=4)"
   ],
   "id": "cbbb646ead7e2bef",
   "outputs": [
    {
     "name": "stdout",
     "output_type": "stream",
     "text": [
      "['Dashboard', 'CMS', 'E-commerce', 'Portfolio', 'Blog', 'Chatbot', 'Social Network', 'Messaging', 'Forum', 'Community', 'News', 'Wiki', 'File Manager', 'Analytics', 'Project Management', 'Task Manager', 'Calendar', 'Notes', 'Kanban', 'ERP', 'CRM', 'POS', 'Inventory', 'To-do', 'Video Streaming', 'Music Player', 'Photo Gallery', 'Weather', 'Finance', 'Budget Tracker', 'Expense Tracker', 'Banking', 'Travel', 'Booking', 'Reservation', 'Hotel Management', 'Real Estate', 'Job Portal', 'Classroom', 'Learning Management System', 'Online Exam', 'Survey', 'Poll', 'E-learning', 'Quiz', 'Recipe', 'Cookbook', 'Portfolio', 'Resume Builder', 'Event Management', 'Gaming', 'Game Tracker', 'Game Leaderboard', 'VR', 'AR', '3D Modeling', 'Fitness', 'Workout Tracker', 'Health Tracker', 'Diet Planner', 'Meal Planner', 'Meditation', 'Habit Tracker', 'Productivity', 'Chat', 'Collaboration', 'Help Desk', 'Customer Support', 'Feedback', 'Documentation', 'Startup', 'Portfolio', 'Map', 'Geo-location', 'Travel Guide', 'Food Delivery', 'Shopping List', 'Wishlist', 'Expense Manager', 'HR Management', 'Payroll', 'Timesheet', 'Inventory Management', 'Expense Tracker', 'Order Tracking', 'Catalog', 'Scanner', 'File Sharing', 'Photo Editor', 'Video Editor', 'Streaming', 'E-voting', 'Blockchain', 'NFT', 'Cryptocurrency', 'Machine Learning', 'AI Assistant', 'Data Visualization', 'Trading', 'Stock Manager']\n"
     ]
    }
   ],
   "execution_count": 7
  },
  {
   "metadata": {
    "ExecuteTime": {
     "end_time": "2024-11-06T08:47:58.074658Z",
     "start_time": "2024-11-06T08:47:57.407900Z"
    }
   },
   "cell_type": "code",
   "source": [
    "url = 'https://api.github.com/search/repositories'\n",
    "params = {\n",
    "    'q': f'(language:JavaScript OR language:TypeScript) dashboard stars:>50',\n",
    "    'sort': 'stars',\n",
    "    'order': 'desc',\n",
    "    'per_page': 1,  \n",
    "    'page': 1\n",
    "}\n",
    "\n",
    "response = requests.get(url,  params=params)\n",
    "    \n",
    "print(response)"
   ],
   "id": "f2d4bf10639841c5",
   "outputs": [
    {
     "name": "stdout",
     "output_type": "stream",
     "text": [
      "<Response [200]>\n"
     ]
    }
   ],
   "execution_count": 32
  },
  {
   "metadata": {
    "ExecuteTime": {
     "end_time": "2024-11-06T08:53:26.293346Z",
     "start_time": "2024-11-06T08:53:19.635890Z"
    }
   },
   "cell_type": "code",
   "source": [
    "def get_github_projects_of_topic(num_results,topic, token=None):\n",
    "    headers = {'Authorization': f'token {token}'} if token else {}\n",
    "    url = 'https://api.github.com/search/repositories'\n",
    "    params = {\n",
    "        'q': f'(language:JavaScript OR language:TypeScript) {topic} stars:>50',\n",
    "        'sort': 'stars',\n",
    "        'order': 'desc',\n",
    "        'per_page': num_results,  \n",
    "        'page': 1\n",
    "    }\n",
    "\n",
    "    response = requests.get(url, headers=headers, params=params)\n",
    "    if response.status_code == 200:\n",
    "        data = response.json()\n",
    "        write_json_data('./topic_data.json',data)\n",
    "        # pretty_json = json.dumps(data['items'], indent=4)\n",
    "        # print(pretty_json)\n",
    "        projects = [{'id': item['id'], 'name': item['name'],'owner': item['owner']['login'], 'watchers': item['watchers_count'],\n",
    "                     'created_at': item['created_at'],'updated_at': item['updated_at']\n",
    "                     ,'size': item['size'],'stars': item['stargazers_count']\n",
    "                     ,'open_issues_count': item['open_issues_count']\n",
    "                     ,'forks': item['forks']} for item in data['items']]\n",
    "        # df = pd.DataFrame(projects)\n",
    "        return projects\n",
    "\n",
    "    else:\n",
    "        print(f\"Error: {response.status_code}\")\n",
    "        return None\n",
    "    \n",
    "topic_dict = {}\n",
    "num_topics = 10\n",
    "for i in range(num_topics):\n",
    "    currentTopic =  topic_list[i]\n",
    "    projects = get_github_projects_of_topic(num_results=10, topic=currentTopic)\n",
    "    if projects is not None:\n",
    "        topic_dict[currentTopic] = projects\n",
    "\n",
    "print(topic_dict)\n",
    "\n",
    "\n",
    "\n",
    "\n",
    "\n",
    "\n"
   ],
   "id": "159a22d8a6be98e9",
   "outputs": [
    {
     "name": "stdout",
     "output_type": "stream",
     "text": [
      "{'Dashboard': [{'id': 88464704, 'name': 'vue-element-admin', 'owner': 'PanJiaChen', 'watchers': 87908, 'created_at': '2017-04-17T03:35:49Z', 'updated_at': '2024-11-06T08:07:20Z', 'size': 15433, 'stars': 87908, 'open_issues_count': 1351, 'forks': 30462}, {'id': 15111821, 'name': 'grafana', 'owner': 'grafana', 'watchers': 64706, 'created_at': '2013-12-11T15:59:56Z', 'updated_at': '2024-11-06T08:48:50Z', 'size': 1168650, 'stars': 64706, 'open_issues_count': 4197, 'forks': 12109}, {'id': 43441403, 'name': 'strapi', 'owner': 'strapi', 'watchers': 63667, 'created_at': '2015-09-30T15:34:48Z', 'updated_at': '2024-11-06T08:32:27Z', 'size': 528703, 'stars': 63667, 'open_issues_count': 902, 'forks': 8099}, {'id': 20619036, 'name': 'pi-hole', 'owner': 'pi-hole', 'watchers': 49099, 'created_at': '2014-06-08T15:02:55Z', 'updated_at': '2024-11-06T08:09:37Z', 'size': 8239, 'stars': 49099, 'open_issues_count': 36, 'forks': 2698}, {'id': 15428480, 'name': 'AdminLTE', 'owner': 'ColorlibHQ', 'watchers': 44042, 'created_at': '2013-12-25T02:52:40Z', 'updated_at': '2024-11-06T08:24:19Z', 'size': 132669, 'stars': 44042, 'open_issues_count': 144, 'forks': 18167}, {'id': 229764465, 'name': '30-Days-Of-JavaScript', 'owner': 'Asabeneh', 'watchers': 43201, 'created_at': '2019-12-23T14:07:40Z', 'updated_at': '2024-11-06T08:47:16Z', 'size': 124975, 'stars': 43201, 'open_issues_count': 345, 'forks': 10018}, {'id': 30203935, 'name': 'metabase', 'owner': 'metabase', 'watchers': 38654, 'created_at': '2015-02-02T19:25:47Z', 'updated_at': '2024-11-06T08:26:27Z', 'size': 725546, 'stars': 38654, 'open_issues_count': 4300, 'forks': 5134}, {'id': 119811010, 'name': 'tabler', 'owner': 'tabler', 'watchers': 38037, 'created_at': '2018-02-01T09:08:59Z', 'updated_at': '2024-11-06T07:38:33Z', 'size': 297143, 'stars': 38037, 'open_issues_count': 91, 'forks': 3968}, {'id': 101394335, 'name': 'ant-design-pro', 'owner': 'ant-design', 'watchers': 36499, 'created_at': '2017-08-25T10:40:44Z', 'updated_at': '2024-11-06T08:07:17Z', 'size': 14000, 'stars': 36499, 'open_issues_count': 164, 'forks': 8145}, {'id': 37958358, 'name': 'tesseract.js', 'owner': 'naptha', 'watchers': 35236, 'created_at': '2015-06-24T02:49:52Z', 'updated_at': '2024-11-06T08:20:07Z', 'size': 109171, 'stars': 35236, 'open_issues_count': 34, 'forks': 2228}], 'CMS': [{'id': 11180687, 'name': 'hugo', 'owner': 'gohugoio', 'watchers': 75700, 'created_at': '2013-07-04T15:26:26Z', 'updated_at': '2024-11-06T08:49:31Z', 'size': 125798, 'stars': 75700, 'open_issues_count': 476, 'forks': 7527}, {'id': 43441403, 'name': 'strapi', 'owner': 'strapi', 'watchers': 63667, 'created_at': '2015-09-30T15:34:48Z', 'updated_at': '2024-11-06T08:32:27Z', 'size': 528703, 'stars': 63667, 'open_issues_count': 902, 'forks': 8099}, {'id': 9852918, 'name': 'Ghost', 'owner': 'TryGhost', 'watchers': 47405, 'created_at': '2013-05-04T11:09:13Z', 'updated_at': '2024-11-06T07:31:33Z', 'size': 322480, 'stars': 47405, 'open_issues_count': 167, 'forks': 10347}, {'id': 229764465, 'name': '30-Days-Of-JavaScript', 'owner': 'Asabeneh', 'watchers': 43201, 'created_at': '2019-12-23T14:07:40Z', 'updated_at': '2024-11-06T08:47:16Z', 'size': 124975, 'stars': 43201, 'open_issues_count': 345, 'forks': 10018}, {'id': 37958358, 'name': 'tesseract.js', 'owner': 'naptha', 'watchers': 35236, 'created_at': '2015-06-24T02:49:52Z', 'updated_at': '2024-11-06T08:20:07Z', 'size': 109171, 'stars': 35236, 'open_issues_count': 34, 'forks': 2228}, {'id': 126178683, 'name': 'halo', 'owner': 'halo-dev', 'watchers': 33967, 'created_at': '2018-03-21T12:56:52Z', 'updated_at': '2024-11-06T07:41:29Z', 'size': 75088, 'stars': 33967, 'open_issues_count': 300, 'forks': 9689}, {'id': 7122594, 'name': 'directus', 'owner': 'directus', 'watchers': 27975, 'created_at': '2012-12-12T01:35:36Z', 'updated_at': '2024-11-06T08:50:09Z', 'size': 401859, 'stars': 27975, 'open_issues_count': 555, 'forks': 3892}, {'id': 327089870, 'name': 'payload', 'owner': 'payloadcms', 'watchers': 24945, 'created_at': '2021-01-05T18:49:45Z', 'updated_at': '2024-11-06T06:17:13Z', 'size': 126402, 'stars': 24945, 'open_issues_count': 474, 'forks': 1589}, {'id': 1213225, 'name': 'highlight.js', 'owner': 'highlightjs', 'watchers': 23681, 'created_at': '2011-01-01T23:47:21Z', 'updated_at': '2024-11-06T03:50:18Z', 'size': 14995, 'stars': 23681, 'open_issues_count': 105, 'forks': 3594}, {'id': 248372441, 'name': 'filament', 'owner': 'filamentphp', 'watchers': 18990, 'created_at': '2020-03-19T00:19:18Z', 'updated_at': '2024-11-06T08:38:58Z', 'size': 367253, 'stars': 18990, 'open_issues_count': 214, 'forks': 2936}], 'E-commerce': [{'id': 229764465, 'name': '30-Days-Of-JavaScript', 'owner': 'Asabeneh', 'watchers': 43201, 'created_at': '2019-12-23T14:07:40Z', 'updated_at': '2024-11-06T08:47:16Z', 'size': 124975, 'stars': 43201, 'open_issues_count': 345, 'forks': 10018}, {'id': 37958358, 'name': 'tesseract.js', 'owner': 'naptha', 'watchers': 35236, 'created_at': '2015-06-24T02:49:52Z', 'updated_at': '2024-11-06T08:20:07Z', 'size': 109171, 'stars': 35236, 'open_issues_count': 34, 'forks': 2228}, {'id': 91253698, 'name': 'ccxt', 'owner': 'ccxt', 'watchers': 32960, 'created_at': '2017-05-14T15:41:56Z', 'updated_at': '2024-11-06T08:43:05Z', 'size': 3729805, 'stars': 32960, 'open_issues_count': 1261, 'forks': 7523}, {'id': 234739976, 'name': 'medusa', 'owner': 'medusajs', 'watchers': 25760, 'created_at': '2020-01-18T13:39:04Z', 'updated_at': '2024-11-06T08:46:04Z', 'size': 377748, 'stars': 25760, 'open_issues_count': 336, 'forks': 2570}, {'id': 1213225, 'name': 'highlight.js', 'owner': 'highlightjs', 'watchers': 23681, 'created_at': '2011-01-01T23:47:21Z', 'updated_at': '2024-11-06T03:50:18Z', 'size': 14995, 'stars': 23681, 'open_issues_count': 105, 'forks': 3594}, {'id': 2649214, 'name': 'arangodb', 'owner': 'arangodb', 'watchers': 13564, 'created_at': '2011-10-26T06:42:00Z', 'updated_at': '2024-11-06T07:58:12Z', 'size': 2845634, 'stars': 13564, 'open_issues_count': 777, 'forks': 838}, {'id': 3314, 'name': 'spree', 'owner': 'spree', 'watchers': 13063, 'created_at': '2008-03-10T14:45:35Z', 'updated_at': '2024-11-06T03:04:44Z', 'size': 155689, 'stars': 13063, 'open_issues_count': 290, 'forks': 4951}, {'id': 12926963, 'name': 'reaction', 'owner': 'reactioncommerce', 'watchers': 12344, 'created_at': '2013-09-18T15:30:36Z', 'updated_at': '2024-11-04T10:33:43Z', 'size': 112678, 'stars': 12344, 'open_issues_count': 108, 'forks': 2173}, {'id': 100346588, 'name': 'vue-storefront', 'owner': 'vuestorefront', 'watchers': 10630, 'created_at': '2017-08-15T06:33:52Z', 'updated_at': '2024-11-05T00:20:23Z', 'size': 128406, 'stars': 10630, 'open_issues_count': 39, 'forks': 2083}, {'id': 18586705, 'name': 'nopCommerce', 'owner': 'nopSolutions', 'watchers': 9289, 'created_at': '2014-04-09T05:47:50Z', 'updated_at': '2024-11-06T07:03:47Z', 'size': 1288527, 'stars': 9289, 'open_issues_count': 112, 'forks': 5321}], 'Portfolio': [{'id': 229764465, 'name': '30-Days-Of-JavaScript', 'owner': 'Asabeneh', 'watchers': 43201, 'created_at': '2019-12-23T14:07:40Z', 'updated_at': '2024-11-06T08:47:16Z', 'size': 124975, 'stars': 43201, 'open_issues_count': 345, 'forks': 10018}, {'id': 37958358, 'name': 'tesseract.js', 'owner': 'naptha', 'watchers': 35236, 'created_at': '2015-06-24T02:49:52Z', 'updated_at': '2024-11-06T08:20:07Z', 'size': 109171, 'stars': 35236, 'open_issues_count': 34, 'forks': 2228}, {'id': 279064706, 'name': 'awesome-github-profile-readme', 'owner': 'abhisheknaiidu', 'watchers': 24589, 'created_at': '2020-07-12T12:57:25Z', 'updated_at': '2024-11-06T08:00:24Z', 'size': 12655, 'stars': 24589, 'open_issues_count': 582, 'forks': 3750}, {'id': 1213225, 'name': 'highlight.js', 'owner': 'highlightjs', 'watchers': 23681, 'created_at': '2011-01-01T23:47:21Z', 'updated_at': '2024-11-06T03:50:18Z', 'size': 14995, 'stars': 23681, 'open_issues_count': 105, 'forks': 3594}, {'id': 2649214, 'name': 'arangodb', 'owner': 'arangodb', 'watchers': 13564, 'created_at': '2011-10-26T06:42:00Z', 'updated_at': '2024-11-06T07:58:12Z', 'size': 2845634, 'stars': 13564, 'open_issues_count': 777, 'forks': 838}, {'id': 194216404, 'name': 'simplefolio', 'owner': 'cobiwave', 'watchers': 13451, 'created_at': '2019-06-28T06:07:04Z', 'updated_at': '2024-11-06T08:39:18Z', 'size': 16960, 'stars': 13451, 'open_issues_count': 77, 'forks': 5731}, {'id': 10267810, 'name': 'minimal-mistakes', 'owner': 'mmistakes', 'watchers': 12403, 'created_at': '2013-05-24T14:13:30Z', 'updated_at': '2024-11-06T06:49:51Z', 'size': 47239, 'stars': 12403, 'open_issues_count': 26, 'forks': 25564}, {'id': 281297416, 'name': 'hugo-PaperMod', 'owner': 'adityatelange', 'watchers': 9923, 'created_at': '2020-07-21T04:45:10Z', 'updated_at': '2024-11-06T08:30:03Z', 'size': 9551, 'stars': 9923, 'open_issues_count': 97, 'forks': 2693}, {'id': 13206906, 'name': 'purescript', 'owner': 'purescript', 'watchers': 8562, 'created_at': '2013-09-30T05:29:23Z', 'updated_at': '2024-11-05T13:46:33Z', 'size': 13829, 'stars': 8562, 'open_issues_count': 297, 'forks': 564}, {'id': 57165232, 'name': 'hugo-blox-builder', 'owner': 'HugoBlox', 'watchers': 8375, 'created_at': '2016-04-26T22:09:15Z', 'updated_at': '2024-11-06T08:16:50Z', 'size': 64417, 'stars': 8375, 'open_issues_count': 14, 'forks': 2905}], 'Blog': [{'id': 138393139, 'name': 'the-book-of-secret-knowledge', 'owner': 'trimstray', 'watchers': 147922, 'created_at': '2018-06-23T10:43:14Z', 'updated_at': '2024-11-06T08:35:25Z', 'size': 1811, 'stars': 147922, 'open_issues_count': 76, 'forks': 9562}, {'id': 70107786, 'name': 'next.js', 'owner': 'vercel', 'watchers': 126779, 'created_at': '2016-10-05T23:32:51Z', 'updated_at': '2024-11-06T08:50:30Z', 'size': 2102148, 'stars': 126779, 'open_issues_count': 3523, 'forks': 26951}, {'id': 36040894, 'name': 'gatsby', 'owner': 'gatsbyjs', 'watchers': 55283, 'created_at': '2015-05-21T22:43:05Z', 'updated_at': '2024-11-06T03:33:46Z', 'size': 1146455, 'stars': 55283, 'open_issues_count': 389, 'forks': 10311}, {'id': 65252, 'name': 'jekyll', 'owner': 'jekyll', 'watchers': 49190, 'created_at': '2008-10-20T06:29:03Z', 'updated_at': '2024-11-06T07:34:58Z', 'size': 67255, 'stars': 49190, 'open_issues_count': 189, 'forks': 9976}, {'id': 348060227, 'name': 'astro', 'owner': 'withastro', 'watchers': 46609, 'created_at': '2021-03-15T17:19:47Z', 'updated_at': '2024-11-06T08:09:40Z', 'size': 186188, 'stars': 46609, 'open_issues_count': 172, 'forks': 2474}, {'id': 229764465, 'name': '30-Days-Of-JavaScript', 'owner': 'Asabeneh', 'watchers': 43201, 'created_at': '2019-12-23T14:07:40Z', 'updated_at': '2024-11-06T08:47:16Z', 'size': 124975, 'stars': 43201, 'open_issues_count': 345, 'forks': 10018}, {'id': 5923215, 'name': 'hexo', 'owner': 'hexojs', 'watchers': 39476, 'created_at': '2012-09-23T15:17:08Z', 'updated_at': '2024-11-06T08:28:25Z', 'size': 6872, 'stars': 39476, 'open_issues_count': 93, 'forks': 4855}, {'id': 37958358, 'name': 'tesseract.js', 'owner': 'naptha', 'watchers': 35236, 'created_at': '2015-06-24T02:49:52Z', 'updated_at': '2024-11-06T08:20:07Z', 'size': 109171, 'stars': 35236, 'open_issues_count': 34, 'forks': 2228}, {'id': 126178683, 'name': 'halo', 'owner': 'halo-dev', 'watchers': 33967, 'created_at': '2018-03-21T12:56:52Z', 'updated_at': '2024-11-06T07:41:29Z', 'size': 75088, 'stars': 33967, 'open_issues_count': 300, 'forks': 9689}, {'id': 37382858, 'name': 'engineering-blogs', 'owner': 'kilimchoi', 'watchers': 31662, 'created_at': '2015-06-13T18:25:17Z', 'updated_at': '2024-11-05T19:40:45Z', 'size': 1339, 'stars': 31662, 'open_issues_count': 128, 'forks': 1626}], 'Chatbot': [{'id': 574523116, 'name': 'awesome-chatgpt-prompts', 'owner': 'f', 'watchers': 112366, 'created_at': '2022-12-05T13:54:13Z', 'updated_at': '2024-11-06T08:51:57Z', 'size': 773, 'stars': 112366, 'open_issues_count': 299, 'forks': 15322}, {'id': 145553672, 'name': 'funNLP', 'owner': 'fighting41love', 'watchers': 68908, 'created_at': '2018-08-21T11:20:39Z', 'updated_at': '2024-11-06T08:35:30Z', 'size': 174188, 'stars': 68908, 'open_issues_count': 128, 'forks': 14499}, {'id': 620936652, 'name': 'gpt4free', 'owner': 'xtekky', 'watchers': 61021, 'created_at': '2023-03-29T17:00:43Z', 'updated_at': '2024-11-06T08:43:22Z', 'size': 162906, 'stars': 61021, 'open_issues_count': 26, 'forks': 13301}, {'id': 626805178, 'name': 'dify', 'owner': 'langgenius', 'watchers': 50787, 'created_at': '2023-04-12T07:40:24Z', 'updated_at': '2024-11-06T08:52:53Z', 'size': 55713, 'stars': 50787, 'open_issues_count': 332, 'forks': 7302}, {'id': 229764465, 'name': '30-Days-Of-JavaScript', 'owner': 'Asabeneh', 'watchers': 43201, 'created_at': '2019-12-23T14:07:40Z', 'updated_at': '2024-11-06T08:47:16Z', 'size': 124975, 'stars': 43201, 'open_issues_count': 345, 'forks': 10018}, {'id': 615882673, 'name': 'FastChat', 'owner': 'lm-sys', 'watchers': 36882, 'created_at': '2023-03-19T00:18:02Z', 'updated_at': '2024-11-06T07:48:56Z', 'size': 35159, 'stars': 36882, 'open_issues_count': 887, 'forks': 4544}, {'id': 640079149, 'name': 'quivr', 'owner': 'QuivrHQ', 'watchers': 36516, 'created_at': '2023-05-12T23:53:30Z', 'updated_at': '2024-11-06T07:12:37Z', 'size': 126552, 'stars': 36516, 'open_issues_count': 144, 'forks': 3565}, {'id': 37958358, 'name': 'tesseract.js', 'owner': 'naptha', 'watchers': 35236, 'created_at': '2015-06-24T02:49:52Z', 'updated_at': '2024-11-06T08:20:07Z', 'size': 109171, 'stars': 35236, 'open_issues_count': 34, 'forks': 2228}, {'id': 680120071, 'name': 'autogen', 'owner': 'microsoft', 'watchers': 32662, 'created_at': '2023-08-18T11:43:45Z', 'updated_at': '2024-11-06T08:26:51Z', 'size': 134663, 'stars': 32662, 'open_issues_count': 520, 'forks': 4753}, {'id': 621799276, 'name': 'Langchain-Chatchat', 'owner': 'chatchat-space', 'watchers': 31897, 'created_at': '2023-03-31T12:12:45Z', 'updated_at': '2024-11-06T08:39:10Z', 'size': 143590, 'stars': 31897, 'open_issues_count': 115, 'forks': 5562}], 'Social Network': [{'id': 36633370, 'name': 'awesome-selfhosted', 'owner': 'awesome-selfhosted', 'watchers': 201820, 'created_at': '2015-06-01T02:33:17Z', 'updated_at': '2024-11-06T08:48:33Z', 'size': 16476, 'stars': 201820, 'open_issues_count': 0, 'forks': 9658}, {'id': 65600975, 'name': 'pytorch', 'owner': 'pytorch', 'watchers': 83655, 'created_at': '2016-08-13T05:26:41Z', 'updated_at': '2024-11-06T08:53:01Z', 'size': 1002208, 'stars': 83655, 'open_issues_count': 15353, 'forks': 22573}, {'id': 212639071, 'name': 'devops-exercises', 'owner': 'bregman-arie', 'watchers': 66540, 'created_at': '2019-10-03T17:31:21Z', 'updated_at': '2024-11-06T05:14:02Z', 'size': 4703, 'stars': 66540, 'open_issues_count': 33, 'forks': 14858}, {'id': 3638964, 'name': 'ansible', 'owner': 'ansible', 'watchers': 62902, 'created_at': '2012-03-06T14:58:02Z', 'updated_at': '2024-11-06T08:47:07Z', 'size': 256322, 'stars': 62902, 'open_issues_count': 861, 'forks': 23904}, {'id': 162998479, 'name': 'sherlock', 'owner': 'sherlock-project', 'watchers': 60009, 'created_at': '2018-12-24T14:30:48Z', 'updated_at': '2024-11-06T08:25:16Z', 'size': 17971, 'stars': 60009, 'open_issues_count': 215, 'forks': 6912}, {'id': 41912791, 'name': 'v2ray-core', 'owner': 'v2ray', 'watchers': 45413, 'created_at': '2015-09-04T11:42:53Z', 'updated_at': '2024-11-06T08:25:23Z', 'size': 55125, 'stars': 45413, 'open_issues_count': 10, 'forks': 8947}, {'id': 423275200, 'name': 'fuels-rs', 'owner': 'FuelLabs', 'watchers': 44059, 'created_at': '2021-10-31T22:33:54Z', 'updated_at': '2024-11-05T02:34:35Z', 'size': 16941, 'stars': 44059, 'open_issues_count': 94, 'forks': 1344}, {'id': 402860175, 'name': 'fuels-ts', 'owner': 'FuelLabs', 'watchers': 44054, 'created_at': '2021-09-03T18:11:03Z', 'updated_at': '2024-11-06T08:11:24Z', 'size': 45245, 'stars': 44054, 'open_issues_count': 125, 'forks': 1344}, {'id': 22458259, 'name': 'Alamofire', 'owner': 'Alamofire', 'watchers': 41125, 'created_at': '2014-07-31T05:56:19Z', 'updated_at': '2024-11-06T02:00:58Z', 'size': 38881, 'stars': 41125, 'open_issues_count': 41, 'forks': 7540}, {'id': 191113739, 'name': 'interview_internal_reference', 'owner': '0voice', 'watchers': 36615, 'created_at': '2019-06-10T06:54:19Z', 'updated_at': '2024-11-05T23:50:34Z', 'size': 1160, 'stars': 36615, 'open_issues_count': 31, 'forks': 9447}], 'Messaging': [{'id': 229764465, 'name': '30-Days-Of-JavaScript', 'owner': 'Asabeneh', 'watchers': 43201, 'created_at': '2019-12-23T14:07:40Z', 'updated_at': '2024-11-06T08:47:16Z', 'size': 124975, 'stars': 43201, 'open_issues_count': 345, 'forks': 10018}, {'id': 37958358, 'name': 'tesseract.js', 'owner': 'naptha', 'watchers': 35236, 'created_at': '2015-06-24T02:49:52Z', 'updated_at': '2024-11-06T08:20:07Z', 'size': 109171, 'stars': 35236, 'open_issues_count': 34, 'forks': 2228}, {'id': 19374812, 'name': 'tdesktop', 'owner': 'telegramdesktop', 'watchers': 26253, 'created_at': '2014-05-02T12:36:31Z', 'updated_at': '2024-11-06T08:44:13Z', 'size': 235960, 'stars': 26253, 'open_issues_count': 855, 'forks': 5215}, {'id': 4307108, 'name': 'nsq', 'owner': 'nsqio', 'watchers': 24964, 'created_at': '2012-05-12T14:37:08Z', 'updated_at': '2024-11-06T07:04:42Z', 'size': 14163, 'stars': 24964, 'open_issues_count': 71, 'forks': 2902}, {'id': 1213225, 'name': 'highlight.js', 'owner': 'highlightjs', 'watchers': 23681, 'created_at': '2011-01-01T23:47:21Z', 'updated_at': '2024-11-06T03:50:18Z', 'size': 14995, 'stars': 23681, 'open_issues_count': 105, 'forks': 3594}, {'id': 75164823, 'name': 'rocketmq', 'owner': 'apache', 'watchers': 21219, 'created_at': '2016-11-30T08:00:08Z', 'updated_at': '2024-11-06T02:37:55Z', 'size': 42782, 'stars': 21219, 'open_issues_count': 428, 'forks': 11680}, {'id': 600596928, 'name': 'LibreChat', 'owner': 'danny-avila', 'watchers': 18864, 'created_at': '2023-02-12T01:06:52Z', 'updated_at': '2024-11-06T08:45:15Z', 'size': 45854, 'stars': 18864, 'open_issues_count': 182, 'forks': 3142}, {'id': 5901900, 'name': 'disruptor', 'owner': 'LMAX-Exchange', 'watchers': 17463, 'created_at': '2012-09-21T13:42:24Z', 'updated_at': '2024-11-06T01:15:40Z', 'size': 10070, 'stars': 17463, 'open_issues_count': 18, 'forks': 3926}, {'id': 51575745, 'name': 'commitlint', 'owner': 'conventional-changelog', 'watchers': 16854, 'created_at': '2016-02-12T08:37:56Z', 'updated_at': '2024-11-06T06:39:39Z', 'size': 17851, 'stars': 16854, 'open_issues_count': 178, 'forks': 906}, {'id': 6443435, 'name': 'nats-server', 'owner': 'nats-io', 'watchers': 15890, 'created_at': '2012-10-29T16:12:24Z', 'updated_at': '2024-11-06T06:43:51Z', 'size': 39265, 'stars': 15890, 'open_issues_count': 376, 'forks': 1404}], 'Forum': [{'id': 229764465, 'name': '30-Days-Of-JavaScript', 'owner': 'Asabeneh', 'watchers': 43201, 'created_at': '2019-12-23T14:07:40Z', 'updated_at': '2024-11-06T08:47:16Z', 'size': 124975, 'stars': 43201, 'open_issues_count': 345, 'forks': 10018}, {'id': 7569578, 'name': 'discourse', 'owner': 'discourse', 'watchers': 42241, 'created_at': '2013-01-12T00:25:55Z', 'updated_at': '2024-11-06T08:10:53Z', 'size': 673117, 'stars': 42241, 'open_issues_count': 70, 'forks': 8317}, {'id': 37958358, 'name': 'tesseract.js', 'owner': 'naptha', 'watchers': 35236, 'created_at': '2015-06-24T02:49:52Z', 'updated_at': '2024-11-06T08:20:07Z', 'size': 109171, 'stars': 35236, 'open_issues_count': 34, 'forks': 2228}, {'id': 1213225, 'name': 'highlight.js', 'owner': 'highlightjs', 'watchers': 23681, 'created_at': '2011-01-01T23:47:21Z', 'updated_at': '2024-11-06T03:50:18Z', 'size': 14995, 'stars': 23681, 'open_issues_count': 105, 'forks': 3594}, {'id': 28628034, 'name': 'flarum', 'owner': 'flarum', 'watchers': 15365, 'created_at': '2014-12-30T11:13:08Z', 'updated_at': '2024-11-06T06:34:00Z', 'size': 737, 'stars': 15365, 'open_issues_count': 1, 'forks': 1571}, {'id': 9603889, 'name': 'NodeBB', 'owner': 'NodeBB', 'watchers': 14209, 'created_at': '2013-04-22T16:49:40Z', 'updated_at': '2024-11-05T14:32:56Z', 'size': 91376, 'stars': 14209, 'open_issues_count': 179, 'forks': 2797}, {'id': 2649214, 'name': 'arangodb', 'owner': 'arangodb', 'watchers': 13564, 'created_at': '2011-10-26T06:42:00Z', 'updated_at': '2024-11-06T07:58:12Z', 'size': 2845634, 'stars': 13564, 'open_issues_count': 777, 'forks': 838}, {'id': 170729130, 'name': 'lemmy', 'owner': 'LemmyNet', 'watchers': 13251, 'created_at': '2019-02-14T17:17:17Z', 'updated_at': '2024-11-06T07:45:09Z', 'size': 36149, 'stars': 13251, 'open_issues_count': 192, 'forks': 879}, {'id': 542931741, 'name': 'incubator-answer', 'owner': 'apache', 'watchers': 12885, 'created_at': '2022-09-29T05:16:19Z', 'updated_at': '2024-11-06T07:29:31Z', 'size': 12464, 'stars': 12885, 'open_issues_count': 78, 'forks': 993}, {'id': 6486826, 'name': 'ppsspp', 'owner': 'hrydgard', 'watchers': 11318, 'created_at': '2012-11-01T08:41:48Z', 'updated_at': '2024-11-06T07:55:46Z', 'size': 313520, 'stars': 11318, 'open_issues_count': 1238, 'forks': 2178}], 'Community': [{'id': 28457823, 'name': 'freeCodeCamp', 'owner': 'freeCodeCamp', 'watchers': 405102, 'created_at': '2014-12-24T17:49:19Z', 'updated_at': '2024-11-06T08:35:54Z', 'size': 473968, 'stars': 405102, 'open_issues_count': 242, 'forks': 38002}, {'id': 291137, 'name': 'ohmyzsh', 'owner': 'ohmyzsh', 'watchers': 173760, 'created_at': '2009-08-28T18:15:37Z', 'updated_at': '2024-11-06T08:50:00Z', 'size': 12076, 'stars': 173760, 'open_issues_count': 425, 'forks': 25896}, {'id': 15204860, 'name': 'papers-we-love', 'owner': 'papers-we-love', 'watchers': 87934, 'created_at': '2013-12-15T14:31:41Z', 'updated_at': '2024-11-06T07:13:31Z', 'size': 230581, 'stars': 87934, 'open_issues_count': 1, 'forks': 5742}, {'id': 52281283, 'name': 'mastodon', 'owner': 'mastodon', 'watchers': 47063, 'created_at': '2016-02-22T15:01:25Z', 'updated_at': '2024-11-06T08:31:24Z', 'size': 262735, 'stars': 47063, 'open_issues_count': 4373, 'forks': 6964}, {'id': 68720867, 'name': 'first-contributions', 'owner': 'firstcontributions', 'watchers': 45388, 'created_at': '2016-09-20T14:35:09Z', 'updated_at': '2024-11-06T08:42:37Z', 'size': 49041, 'stars': 45388, 'open_issues_count': 1462, 'forks': 79742}, {'id': 229764465, 'name': '30-Days-Of-JavaScript', 'owner': 'Asabeneh', 'watchers': 43201, 'created_at': '2019-12-23T14:07:40Z', 'updated_at': '2024-11-06T08:47:16Z', 'size': 124975, 'stars': 43201, 'open_issues_count': 345, 'forks': 10018}, {'id': 7569578, 'name': 'discourse', 'owner': 'discourse', 'watchers': 42241, 'created_at': '2013-01-12T00:25:55Z', 'updated_at': '2024-11-06T08:10:53Z', 'size': 673117, 'stars': 42241, 'open_issues_count': 70, 'forks': 8317}, {'id': 69629434, 'name': 'freecodecamp.cn', 'owner': 'FreeCodeCampChina', 'watchers': 37064, 'created_at': '2016-09-30T03:13:43Z', 'updated_at': '2024-11-05T12:55:56Z', 'size': 30959, 'stars': 37064, 'open_issues_count': 151, 'forks': 1377}, {'id': 37958358, 'name': 'tesseract.js', 'owner': 'naptha', 'watchers': 35236, 'created_at': '2015-06-24T02:49:52Z', 'updated_at': '2024-11-06T08:20:07Z', 'size': 109171, 'stars': 35236, 'open_issues_count': 34, 'forks': 2228}, {'id': 441903012, 'name': '90DaysOfDevOps', 'owner': 'MichaelCade', 'watchers': 27198, 'created_at': '2021-12-26T13:55:18Z', 'updated_at': '2024-11-06T07:38:46Z', 'size': 373913, 'stars': 27198, 'open_issues_count': 9, 'forks': 6318}]}\n"
     ]
    }
   ],
   "execution_count": 35
  },
  {
   "metadata": {
    "ExecuteTime": {
     "end_time": "2024-11-06T08:54:40.331173Z",
     "start_time": "2024-11-06T08:54:40.320410Z"
    }
   },
   "cell_type": "code",
   "source": [
    "all_projects = []\n",
    "\n",
    "for topic, projects in topic_dict.items():\n",
    "    for project in projects:\n",
    "        # Add the topic as a new field in each project dictionary\n",
    "        project['topic'] = topic\n",
    "        all_projects.append(project)\n",
    "\n",
    "# Convert the list of all projects with topics into a DataFrame\n",
    "df = pd.DataFrame(all_projects)\n",
    "\n",
    "# Save the DataFrame to a CSV file\n",
    "df.to_csv('github_projects_with_topics.csv', index=False)\n",
    "\n",
    "print(\"Data saved to github_projects_with_topics.csv\")"
   ],
   "id": "7bfcfcd297a26bc9",
   "outputs": [
    {
     "name": "stdout",
     "output_type": "stream",
     "text": [
      "Data saved to github_projects_with_topics.csv\n"
     ]
    }
   ],
   "execution_count": 36
  },
  {
   "metadata": {
    "ExecuteTime": {
     "end_time": "2024-11-04T06:51:15.240579Z",
     "start_time": "2024-11-04T06:51:14.351151Z"
    }
   },
   "cell_type": "code",
   "source": "",
   "id": "adfd561da1e2de72",
   "outputs": [
    {
     "data": {
      "text/plain": [
       "          id                    name                owner  watchers  \\\n",
       "0   28457823            freeCodeCamp         freeCodeCamp    405050   \n",
       "1   10270250                   react             facebook    228937   \n",
       "2   11730342                     vue                vuejs    207957   \n",
       "3   88011908  project-based-learning  practical-tutorials    202947   \n",
       "4  126577260   javascript-algorithms             trekhleb    188244   \n",
       "\n",
       "             created_at            updated_at    size   stars  \\\n",
       "0  2014-12-24T17:49:19Z  2024-11-04T06:28:05Z  473268  405050   \n",
       "1  2013-05-24T16:15:54Z  2024-11-04T06:40:39Z  633391  228937   \n",
       "2  2013-07-29T03:24:51Z  2024-11-04T05:30:38Z   32152  207957   \n",
       "3  2017-04-12T05:07:46Z  2024-11-04T06:40:54Z     438  202947   \n",
       "4  2018-03-24T07:47:04Z  2024-11-04T05:43:52Z   13398  188244   \n",
       "\n",
       "   open_issues_count  forks  \n",
       "0                244  37992  \n",
       "1                869  46842  \n",
       "2                602  33677  \n",
       "3                186  26484  \n",
       "4                356  30247  "
      ],
      "text/html": [
       "<div>\n",
       "<style scoped>\n",
       "    .dataframe tbody tr th:only-of-type {\n",
       "        vertical-align: middle;\n",
       "    }\n",
       "\n",
       "    .dataframe tbody tr th {\n",
       "        vertical-align: top;\n",
       "    }\n",
       "\n",
       "    .dataframe thead th {\n",
       "        text-align: right;\n",
       "    }\n",
       "</style>\n",
       "<table border=\"1\" class=\"dataframe\">\n",
       "  <thead>\n",
       "    <tr style=\"text-align: right;\">\n",
       "      <th></th>\n",
       "      <th>id</th>\n",
       "      <th>name</th>\n",
       "      <th>owner</th>\n",
       "      <th>watchers</th>\n",
       "      <th>created_at</th>\n",
       "      <th>updated_at</th>\n",
       "      <th>size</th>\n",
       "      <th>stars</th>\n",
       "      <th>open_issues_count</th>\n",
       "      <th>forks</th>\n",
       "    </tr>\n",
       "  </thead>\n",
       "  <tbody>\n",
       "    <tr>\n",
       "      <th>0</th>\n",
       "      <td>28457823</td>\n",
       "      <td>freeCodeCamp</td>\n",
       "      <td>freeCodeCamp</td>\n",
       "      <td>405050</td>\n",
       "      <td>2014-12-24T17:49:19Z</td>\n",
       "      <td>2024-11-04T06:28:05Z</td>\n",
       "      <td>473268</td>\n",
       "      <td>405050</td>\n",
       "      <td>244</td>\n",
       "      <td>37992</td>\n",
       "    </tr>\n",
       "    <tr>\n",
       "      <th>1</th>\n",
       "      <td>10270250</td>\n",
       "      <td>react</td>\n",
       "      <td>facebook</td>\n",
       "      <td>228937</td>\n",
       "      <td>2013-05-24T16:15:54Z</td>\n",
       "      <td>2024-11-04T06:40:39Z</td>\n",
       "      <td>633391</td>\n",
       "      <td>228937</td>\n",
       "      <td>869</td>\n",
       "      <td>46842</td>\n",
       "    </tr>\n",
       "    <tr>\n",
       "      <th>2</th>\n",
       "      <td>11730342</td>\n",
       "      <td>vue</td>\n",
       "      <td>vuejs</td>\n",
       "      <td>207957</td>\n",
       "      <td>2013-07-29T03:24:51Z</td>\n",
       "      <td>2024-11-04T05:30:38Z</td>\n",
       "      <td>32152</td>\n",
       "      <td>207957</td>\n",
       "      <td>602</td>\n",
       "      <td>33677</td>\n",
       "    </tr>\n",
       "    <tr>\n",
       "      <th>3</th>\n",
       "      <td>88011908</td>\n",
       "      <td>project-based-learning</td>\n",
       "      <td>practical-tutorials</td>\n",
       "      <td>202947</td>\n",
       "      <td>2017-04-12T05:07:46Z</td>\n",
       "      <td>2024-11-04T06:40:54Z</td>\n",
       "      <td>438</td>\n",
       "      <td>202947</td>\n",
       "      <td>186</td>\n",
       "      <td>26484</td>\n",
       "    </tr>\n",
       "    <tr>\n",
       "      <th>4</th>\n",
       "      <td>126577260</td>\n",
       "      <td>javascript-algorithms</td>\n",
       "      <td>trekhleb</td>\n",
       "      <td>188244</td>\n",
       "      <td>2018-03-24T07:47:04Z</td>\n",
       "      <td>2024-11-04T05:43:52Z</td>\n",
       "      <td>13398</td>\n",
       "      <td>188244</td>\n",
       "      <td>356</td>\n",
       "      <td>30247</td>\n",
       "    </tr>\n",
       "  </tbody>\n",
       "</table>\n",
       "</div>"
      ]
     },
     "execution_count": 3,
     "metadata": {},
     "output_type": "execute_result"
    }
   ],
   "execution_count": 3
  },
  {
   "metadata": {
    "ExecuteTime": {
     "end_time": "2024-11-06T09:22:40.670359Z",
     "start_time": "2024-11-06T09:11:37.037283Z"
    }
   },
   "cell_type": "code",
   "source": [
    "from collections import defaultdict\n",
    "\n",
    "def get_Sbom_of_projects(repo_df, token=None):\n",
    "    headers = {'Authorization': f'token {token}'} if token else {}\n",
    "    url = 'https://api.github.com/repos/'\n",
    "    owner = repo_df['owner']\n",
    "    repo = repo_df['name']\n",
    "    url = url + f'{owner}/{repo}/dependency-graph/sbom'\n",
    "\n",
    "    response = requests.get(url, headers=headers)\n",
    "    if response.status_code == 200:\n",
    "        data = response.json()\n",
    "        write_json_data('./sbom.json',data)\n",
    "        packages = data['sbom']['packages']\n",
    "         # Extract npm packages with name and version\n",
    "        for package in packages:\n",
    "            if package['externalRefs'][0]['referenceLocator'].startswith('pkg:npm'):\n",
    "                try:\n",
    "                    if len(package['versionInfo'])>0:\n",
    "                        if 'versionInfo' in package:\n",
    "                            if package['name'].startswith('npm:'):\n",
    "                                sbom_dict[repo][package['name'][4:]] = package['versionInfo']\n",
    "                            else:\n",
    "                                sbom_dict[repo][package['name']] = package['versionInfo']\n",
    "                except:\n",
    "                    print(package)\n",
    "        \n",
    "        # Convert to DataFrame\n",
    "        # df = pd.DataFrame(npm_packages)\n",
    "        # return df\n",
    "\n",
    "    else:\n",
    "        print(f\"Error: {response.status_code}\")\n",
    "        return None\n",
    "\n",
    "sbom_dict = defaultdict(dict)\n",
    "for topic,projects in topic_dict.items():\n",
    "    for project in projects:\n",
    "        get_Sbom_of_projects(project)\n",
    "    print(f'{topic} done')\n",
    "    sleep(60)\n",
    "\n",
    "\n",
    "write_json_data('./project_packages.json',sbom_dict)\n",
    "# print(sbom_dict)"
   ],
   "id": "dc87f5d583d55974",
   "outputs": [
    {
     "name": "stdout",
     "output_type": "stream",
     "text": [
      "{'name': '@strapi/plugin-users-permissions', 'SPDXID': 'SPDXRef-npm-strapi-plugin-users-permissions-b951db', 'downloadLocation': 'NOASSERTION', 'filesAnalyzed': False, 'externalRefs': [{'referenceCategory': 'PACKAGE-MANAGER', 'referenceType': 'purl', 'referenceLocator': 'pkg:npm/%40strapi/plugin-users-permissions'}]}\n",
      "{'name': '@strapi/strapi', 'SPDXID': 'SPDXRef-npm-strapi-strapi-ec90fc', 'downloadLocation': 'NOASSERTION', 'filesAnalyzed': False, 'externalRefs': [{'referenceCategory': 'PACKAGE-MANAGER', 'referenceType': 'purl', 'referenceLocator': 'pkg:npm/%40strapi/strapi'}]}\n",
      "{'name': 'gensync', 'SPDXID': 'SPDXRef-npm-gensync-e3adf8', 'downloadLocation': 'NOASSERTION', 'filesAnalyzed': False, 'externalRefs': [{'referenceCategory': 'PACKAGE-MANAGER', 'referenceType': 'purl', 'referenceLocator': 'pkg:npm/gensync'}]}\n",
      "Dashboard done\n",
      "{'name': '@strapi/plugin-users-permissions', 'SPDXID': 'SPDXRef-npm-strapi-plugin-users-permissions-b951db', 'downloadLocation': 'NOASSERTION', 'filesAnalyzed': False, 'externalRefs': [{'referenceCategory': 'PACKAGE-MANAGER', 'referenceType': 'purl', 'referenceLocator': 'pkg:npm/%40strapi/plugin-users-permissions'}]}\n",
      "{'name': '@strapi/strapi', 'SPDXID': 'SPDXRef-npm-strapi-strapi-ec90fc', 'downloadLocation': 'NOASSERTION', 'filesAnalyzed': False, 'externalRefs': [{'referenceCategory': 'PACKAGE-MANAGER', 'referenceType': 'purl', 'referenceLocator': 'pkg:npm/%40strapi/strapi'}]}\n",
      "{'name': 'gensync', 'SPDXID': 'SPDXRef-npm-gensync-e3adf8', 'downloadLocation': 'NOASSERTION', 'filesAnalyzed': False, 'externalRefs': [{'referenceCategory': 'PACKAGE-MANAGER', 'referenceType': 'purl', 'referenceLocator': 'pkg:npm/gensync'}]}\n",
      "{'name': 'nock', 'SPDXID': 'SPDXRef-npm-nock-84bc34', 'downloadLocation': 'NOASSERTION', 'filesAnalyzed': False, 'externalRefs': [{'referenceCategory': 'PACKAGE-MANAGER', 'referenceType': 'purl', 'referenceLocator': 'pkg:npm/nock'}]}\n",
      "CMS done\n",
      "{'name': 'types', 'SPDXID': 'SPDXRef-npm-types-7accb5', 'downloadLocation': 'NOASSERTION', 'filesAnalyzed': False, 'externalRefs': [{'referenceCategory': 'PACKAGE-MANAGER', 'referenceType': 'purl', 'referenceLocator': 'pkg:npm/types'}]}\n",
      "{'name': 'docs-ui', 'SPDXID': 'SPDXRef-npm-docs-ui-83c280', 'downloadLocation': 'NOASSERTION', 'filesAnalyzed': False, 'externalRefs': [{'referenceCategory': 'PACKAGE-MANAGER', 'referenceType': 'purl', 'referenceLocator': 'pkg:npm/docs-ui'}]}\n",
      "{'name': 'eslint-config-docs', 'SPDXID': 'SPDXRef-npm-eslint-config-docs-fff2fe', 'downloadLocation': 'NOASSERTION', 'filesAnalyzed': False, 'externalRefs': [{'referenceCategory': 'PACKAGE-MANAGER', 'referenceType': 'purl', 'referenceLocator': 'pkg:npm/eslint-config-docs'}]}\n",
      "{'name': 'tailwind', 'SPDXID': 'SPDXRef-npm-tailwind-6e77c7', 'downloadLocation': 'NOASSERTION', 'filesAnalyzed': False, 'externalRefs': [{'referenceCategory': 'PACKAGE-MANAGER', 'referenceType': 'purl', 'referenceLocator': 'pkg:npm/tailwind'}]}\n",
      "{'name': 'tsconfig', 'SPDXID': 'SPDXRef-npm-tsconfig-7ad499', 'downloadLocation': 'NOASSERTION', 'filesAnalyzed': False, 'externalRefs': [{'referenceCategory': 'PACKAGE-MANAGER', 'referenceType': 'purl', 'referenceLocator': 'pkg:npm/tsconfig'}]}\n",
      "{'name': 'build-scripts', 'SPDXID': 'SPDXRef-npm-build-scripts-fa3861', 'downloadLocation': 'NOASSERTION', 'filesAnalyzed': False, 'externalRefs': [{'referenceCategory': 'PACKAGE-MANAGER', 'referenceType': 'purl', 'referenceLocator': 'pkg:npm/build-scripts'}]}\n",
      "{'name': 'remark-rehype-plugins', 'SPDXID': 'SPDXRef-npm-remark-rehype-plugins-0276cc', 'downloadLocation': 'NOASSERTION', 'filesAnalyzed': False, 'externalRefs': [{'referenceCategory': 'PACKAGE-MANAGER', 'referenceType': 'purl', 'referenceLocator': 'pkg:npm/remark-rehype-plugins'}]}\n",
      "{'name': 'next', 'SPDXID': 'SPDXRef-npm-next-f2f52b', 'downloadLocation': 'NOASSERTION', 'filesAnalyzed': False, 'externalRefs': [{'referenceCategory': 'PACKAGE-MANAGER', 'referenceType': 'purl', 'referenceLocator': 'pkg:npm/next'}]}\n",
      "{'name': 'utils', 'SPDXID': 'SPDXRef-npm-utils-082ad0', 'downloadLocation': 'NOASSERTION', 'filesAnalyzed': False, 'externalRefs': [{'referenceCategory': 'PACKAGE-MANAGER', 'referenceType': 'purl', 'referenceLocator': 'pkg:npm/utils'}]}\n",
      "{'name': 'typedoc-plugin-custom', 'SPDXID': 'SPDXRef-npm-typedoc-plugin-custom-2c26cb', 'downloadLocation': 'NOASSERTION', 'filesAnalyzed': False, 'externalRefs': [{'referenceCategory': 'PACKAGE-MANAGER', 'referenceType': 'purl', 'referenceLocator': 'pkg:npm/typedoc-plugin-custom'}]}\n",
      "{'name': 'typedoc-plugin-markdown-medusa', 'SPDXID': 'SPDXRef-npm-typedoc-plugin-markdown-medusa-0b8b5a', 'downloadLocation': 'NOASSERTION', 'filesAnalyzed': False, 'externalRefs': [{'referenceCategory': 'PACKAGE-MANAGER', 'referenceType': 'purl', 'referenceLocator': 'pkg:npm/typedoc-plugin-markdown-medusa'}]}\n",
      "{'name': 'typedoc-plugin-workflows', 'SPDXID': 'SPDXRef-npm-typedoc-plugin-workflows-083efb', 'downloadLocation': 'NOASSERTION', 'filesAnalyzed': False, 'externalRefs': [{'referenceCategory': 'PACKAGE-MANAGER', 'referenceType': 'purl', 'referenceLocator': 'pkg:npm/typedoc-plugin-workflows'}]}\n",
      "{'name': '@medusajs/workflows-sdk', 'SPDXID': 'SPDXRef-npm-medusajs-workflows-sdk-d35d4f', 'downloadLocation': 'NOASSERTION', 'filesAnalyzed': False, 'externalRefs': [{'referenceCategory': 'PACKAGE-MANAGER', 'referenceType': 'purl', 'referenceLocator': 'pkg:npm/%40medusajs/workflows-sdk'}]}\n",
      "{'name': 'gensync', 'SPDXID': 'SPDXRef-npm-gensync-5f7cbb', 'downloadLocation': 'NOASSERTION', 'filesAnalyzed': False, 'externalRefs': [{'referenceCategory': 'PACKAGE-MANAGER', 'referenceType': 'purl', 'referenceLocator': 'pkg:npm/gensync'}]}\n",
      "{'name': 'source-map', 'SPDXID': 'SPDXRef-npm-source-map-e92932', 'downloadLocation': 'NOASSERTION', 'filesAnalyzed': False, 'externalRefs': [{'referenceCategory': 'PACKAGE-MANAGER', 'referenceType': 'purl', 'referenceLocator': 'pkg:npm/source-map'}]}\n",
      "{'name': 'babel-plugin-syntax-trailing-function-commas', 'SPDXID': 'SPDXRef-npm-babel-plugin-syntax-trailing-function-commas-c66f92', 'downloadLocation': 'NOASSERTION', 'filesAnalyzed': False, 'externalRefs': [{'referenceCategory': 'PACKAGE-MANAGER', 'referenceType': 'purl', 'referenceLocator': 'pkg:npm/babel-plugin-syntax-trailing-function-commas'}]}\n",
      "{'name': 'cva', 'SPDXID': 'SPDXRef-npm-cva-5be60c', 'downloadLocation': 'NOASSERTION', 'filesAnalyzed': False, 'externalRefs': [{'referenceCategory': 'PACKAGE-MANAGER', 'referenceType': 'purl', 'referenceLocator': 'pkg:npm/cva'}]}\n",
      "{'name': 'web-streams-polyfill', 'SPDXID': 'SPDXRef-npm-web-streams-polyfill-d6b13a', 'downloadLocation': 'NOASSERTION', 'filesAnalyzed': False, 'externalRefs': [{'referenceCategory': 'PACKAGE-MANAGER', 'referenceType': 'purl', 'referenceLocator': 'pkg:npm/web-streams-polyfill'}]}\n",
      "{'name': '@snyk/protect', 'SPDXID': 'SPDXRef-npm-snyk-protect-c3b888', 'downloadLocation': 'NOASSERTION', 'filesAnalyzed': False, 'externalRefs': [{'referenceCategory': 'PACKAGE-MANAGER', 'referenceType': 'purl', 'referenceLocator': 'pkg:npm/%40snyk/protect'}]}\n",
      "E-commerce done\n",
      "Portfolio done\n",
      "{'name': 'gatsby-plugin-benchmark-reporting', 'SPDXID': 'SPDXRef-npm-gatsby-plugin-benchmark-reporting-665fca', 'downloadLocation': 'NOASSERTION', 'filesAnalyzed': False, 'externalRefs': [{'referenceCategory': 'PACKAGE-MANAGER', 'referenceType': 'purl', 'referenceLocator': 'pkg:npm/gatsby-plugin-benchmark-reporting'}]}\n",
      "{'name': 'rimraf', 'SPDXID': 'SPDXRef-npm-rimraf-f9b5e4', 'downloadLocation': 'NOASSERTION', 'filesAnalyzed': False, 'externalRefs': [{'referenceCategory': 'PACKAGE-MANAGER', 'referenceType': 'purl', 'referenceLocator': 'pkg:npm/rimraf'}]}\n",
      "{'name': 'progress', 'SPDXID': 'SPDXRef-npm-progress-922e5f', 'downloadLocation': 'NOASSERTION', 'filesAnalyzed': False, 'externalRefs': [{'referenceCategory': 'PACKAGE-MANAGER', 'referenceType': 'purl', 'referenceLocator': 'pkg:npm/progress'}]}\n",
      "{'name': 'js-image-generator', 'SPDXID': 'SPDXRef-npm-js-image-generator-cb791e', 'downloadLocation': 'NOASSERTION', 'filesAnalyzed': False, 'externalRefs': [{'referenceCategory': 'PACKAGE-MANAGER', 'referenceType': 'purl', 'referenceLocator': 'pkg:npm/js-image-generator'}]}\n",
      "{'name': 'gatsby-plugin-image', 'SPDXID': 'SPDXRef-npm-gatsby-plugin-image-315808', 'downloadLocation': 'NOASSERTION', 'filesAnalyzed': False, 'externalRefs': [{'referenceCategory': 'PACKAGE-MANAGER', 'referenceType': 'purl', 'referenceLocator': 'pkg:npm/gatsby-plugin-image'}]}\n",
      "{'name': 'gatsby-source-flotiq', 'SPDXID': 'SPDXRef-npm-gatsby-source-flotiq-4ed3e7', 'downloadLocation': 'NOASSERTION', 'filesAnalyzed': False, 'externalRefs': [{'referenceCategory': 'PACKAGE-MANAGER', 'referenceType': 'purl', 'referenceLocator': 'pkg:npm/gatsby-source-flotiq'}]}\n",
      "{'name': 'gatsby-theme-about', 'SPDXID': 'SPDXRef-npm-gatsby-theme-about-97fbc6', 'downloadLocation': 'NOASSERTION', 'filesAnalyzed': False, 'externalRefs': [{'referenceCategory': 'PACKAGE-MANAGER', 'referenceType': 'purl', 'referenceLocator': 'pkg:npm/gatsby-theme-about'}]}\n",
      "{'name': 'gatsby', 'SPDXID': 'SPDXRef-npm-gatsby-87d156', 'downloadLocation': 'NOASSERTION', 'filesAnalyzed': False, 'externalRefs': [{'referenceCategory': 'PACKAGE-MANAGER', 'referenceType': 'purl', 'referenceLocator': 'pkg:npm/gatsby'}]}\n",
      "{'name': 'gatsby-plugin-offline', 'SPDXID': 'SPDXRef-npm-gatsby-plugin-offline-b2f780', 'downloadLocation': 'NOASSERTION', 'filesAnalyzed': False, 'externalRefs': [{'referenceCategory': 'PACKAGE-MANAGER', 'referenceType': 'purl', 'referenceLocator': 'pkg:npm/gatsby-plugin-offline'}]}\n",
      "{'name': 'gatsby-link', 'SPDXID': 'SPDXRef-npm-gatsby-link-90aa66', 'downloadLocation': 'NOASSERTION', 'filesAnalyzed': False, 'externalRefs': [{'referenceCategory': 'PACKAGE-MANAGER', 'referenceType': 'purl', 'referenceLocator': 'pkg:npm/gatsby-link'}]}\n",
      "{'name': 'gatsby-plugin-google-analytics', 'SPDXID': 'SPDXRef-npm-gatsby-plugin-google-analytics-d8431c', 'downloadLocation': 'NOASSERTION', 'filesAnalyzed': False, 'externalRefs': [{'referenceCategory': 'PACKAGE-MANAGER', 'referenceType': 'purl', 'referenceLocator': 'pkg:npm/gatsby-plugin-google-analytics'}]}\n",
      "{'name': 'gatsby-plugin-postcss-sass', 'SPDXID': 'SPDXRef-npm-gatsby-plugin-postcss-sass-082ad0', 'downloadLocation': 'NOASSERTION', 'filesAnalyzed': False, 'externalRefs': [{'referenceCategory': 'PACKAGE-MANAGER', 'referenceType': 'purl', 'referenceLocator': 'pkg:npm/gatsby-plugin-postcss-sass'}]}\n",
      "{'name': 'gatsby-image', 'SPDXID': 'SPDXRef-npm-gatsby-image-7f128c', 'downloadLocation': 'NOASSERTION', 'filesAnalyzed': False, 'externalRefs': [{'referenceCategory': 'PACKAGE-MANAGER', 'referenceType': 'purl', 'referenceLocator': 'pkg:npm/gatsby-image'}]}\n",
      "{'name': 'gatsby-plugin-react-helmet', 'SPDXID': 'SPDXRef-npm-gatsby-plugin-react-helmet-1556ca', 'downloadLocation': 'NOASSERTION', 'filesAnalyzed': False, 'externalRefs': [{'referenceCategory': 'PACKAGE-MANAGER', 'referenceType': 'purl', 'referenceLocator': 'pkg:npm/gatsby-plugin-react-helmet'}]}\n",
      "{'name': 'gatsby-plugin-sharp', 'SPDXID': 'SPDXRef-npm-gatsby-plugin-sharp-70e48f', 'downloadLocation': 'NOASSERTION', 'filesAnalyzed': False, 'externalRefs': [{'referenceCategory': 'PACKAGE-MANAGER', 'referenceType': 'purl', 'referenceLocator': 'pkg:npm/gatsby-plugin-sharp'}]}\n",
      "{'name': 'gatsby-source-filesystem', 'SPDXID': 'SPDXRef-npm-gatsby-source-filesystem-f43633', 'downloadLocation': 'NOASSERTION', 'filesAnalyzed': False, 'externalRefs': [{'referenceCategory': 'PACKAGE-MANAGER', 'referenceType': 'purl', 'referenceLocator': 'pkg:npm/gatsby-source-filesystem'}]}\n",
      "{'name': 'gatsby-transformer-sharp', 'SPDXID': 'SPDXRef-npm-gatsby-transformer-sharp-0d79a8', 'downloadLocation': 'NOASSERTION', 'filesAnalyzed': False, 'externalRefs': [{'referenceCategory': 'PACKAGE-MANAGER', 'referenceType': 'purl', 'referenceLocator': 'pkg:npm/gatsby-transformer-sharp'}]}\n",
      "{'name': 'gatsby-plugin-gatsby-cloud', 'SPDXID': 'SPDXRef-npm-gatsby-plugin-gatsby-cloud-b93dc0', 'downloadLocation': 'NOASSERTION', 'filesAnalyzed': False, 'externalRefs': [{'referenceCategory': 'PACKAGE-MANAGER', 'referenceType': 'purl', 'referenceLocator': 'pkg:npm/gatsby-plugin-gatsby-cloud'}]}\n",
      "{'name': 'gatsby-core-utils', 'SPDXID': 'SPDXRef-npm-gatsby-core-utils-a19709', 'downloadLocation': 'NOASSERTION', 'filesAnalyzed': False, 'externalRefs': [{'referenceCategory': 'PACKAGE-MANAGER', 'referenceType': 'purl', 'referenceLocator': 'pkg:npm/gatsby-core-utils'}]}\n",
      "Blog done\n",
      "Error: 403\n",
      "Chatbot done\n",
      "Error: 403\n",
      "Error: 403\n",
      "Error: 403\n",
      "Error: 403\n",
      "Error: 403\n",
      "Error: 403\n",
      "Error: 403\n",
      "Error: 403\n",
      "Error: 403\n",
      "Error: 403\n",
      "Social Network done\n",
      "Error: 403\n",
      "Error: 403\n",
      "Error: 403\n",
      "Error: 403\n",
      "Error: 403\n",
      "Error: 403\n",
      "Error: 403\n",
      "Error: 403\n",
      "Error: 403\n",
      "Error: 403\n",
      "Messaging done\n",
      "Error: 403\n",
      "Error: 403\n",
      "Error: 403\n",
      "Error: 403\n",
      "Error: 403\n",
      "Error: 403\n",
      "Error: 403\n",
      "Error: 403\n",
      "Error: 403\n",
      "Error: 403\n",
      "Forum done\n",
      "Error: 403\n",
      "Error: 403\n",
      "Error: 403\n",
      "Error: 403\n",
      "Error: 403\n",
      "Error: 403\n",
      "Error: 403\n",
      "Error: 403\n",
      "Error: 403\n",
      "Error: 403\n",
      "Community done\n"
     ]
    }
   ],
   "execution_count": 48
  },
  {
   "metadata": {},
   "cell_type": "code",
   "outputs": [],
   "execution_count": null,
   "source": "",
   "id": "b92aa571b67710e"
  }
 ],
 "metadata": {
  "kernelspec": {
   "display_name": "Python 3",
   "language": "python",
   "name": "python3"
  },
  "language_info": {
   "codemirror_mode": {
    "name": "ipython",
    "version": 2
   },
   "file_extension": ".py",
   "mimetype": "text/x-python",
   "name": "python",
   "nbconvert_exporter": "python",
   "pygments_lexer": "ipython2",
   "version": "2.7.6"
  }
 },
 "nbformat": 4,
 "nbformat_minor": 5
}
