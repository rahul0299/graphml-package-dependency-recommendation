{
 "cells": [
  {
   "metadata": {
    "ExecuteTime": {
     "end_time": "2024-11-07T05:58:52.922528Z",
     "start_time": "2024-11-07T05:58:52.005731Z"
    }
   },
   "cell_type": "code",
   "source": [
    "from time import sleep\n",
    "\n",
    "import requests\n",
    "import json\n",
    "import pandas as pd\n",
    "from collections import defaultdict"
   ],
   "id": "514547032f0901b3",
   "outputs": [],
   "execution_count": 2
  },
  {
   "metadata": {
    "ExecuteTime": {
     "end_time": "2024-11-07T05:59:14.230109Z",
     "start_time": "2024-11-07T05:59:14.221263Z"
    }
   },
   "cell_type": "code",
   "source": [
    "# Read the CSV file\n",
    "file_path = './Application_types.csv'\n",
    "df = pd.read_csv(file_path)\n",
    "\n",
    "# Convert the 'Keyword' column to a list\n",
    "topic_list = df['Keyword'].tolist()\n",
    "\n",
    "# Display the list\n",
    "print(topic_list)\n",
    "\n",
    "\n",
    "def write_json_data(fileName,data):\n",
    "    with open(fileName, 'w') as file:\n",
    "        json.dump(data, file, indent=4)\n",
    "    \n",
    "def append_json_data(fileName, data):\n",
    "    # Try to read existing data if the file exists\n",
    "    try:\n",
    "        with open(fileName, 'r') as file:\n",
    "            existing_data = json.load(file)\n",
    "    except FileNotFoundError:\n",
    "        existing_data = []  # Initialize as an empty list if the file doesn't exist\n",
    "    \n",
    "    # Append new data to existing data\n",
    "    existing_data.append(data)\n",
    "\n",
    "    # Write the updated data back to the file\n",
    "    with open(fileName, 'w') as file:\n",
    "        json.dump(existing_data, file, indent=4)"
   ],
   "id": "cbbb646ead7e2bef",
   "outputs": [
    {
     "name": "stdout",
     "output_type": "stream",
     "text": [
      "['Dashboard', 'CMS', 'E-commerce', 'Portfolio', 'Blog', 'Chatbot', 'Social Network', 'Messaging', 'Forum', 'Community', 'News', 'Wiki', 'File Manager', 'Analytics', 'Project Management', 'Task Manager', 'Calendar', 'Notes', 'Kanban', 'ERP', 'CRM', 'POS', 'Inventory', 'To-do', 'Video Streaming', 'Music Player', 'Photo Gallery', 'Weather', 'Finance', 'Budget Tracker', 'Expense Tracker', 'Banking', 'Travel', 'Booking', 'Reservation', 'Hotel Management', 'Real Estate', 'Job Portal', 'Classroom', 'Learning Management System', 'Online Exam', 'Survey', 'Poll', 'E-learning', 'Quiz', 'Recipe', 'Cookbook', 'Portfolio', 'Resume Builder', 'Event Management', 'Gaming', 'Game Tracker', 'Game Leaderboard', 'VR', 'AR', '3D Modeling', 'Fitness', 'Workout Tracker', 'Health Tracker', 'Diet Planner', 'Meal Planner', 'Meditation', 'Habit Tracker', 'Productivity', 'Chat', 'Collaboration', 'Help Desk', 'Customer Support', 'Feedback', 'Documentation', 'Startup', 'Portfolio', 'Map', 'Geo-location', 'Travel Guide', 'Food Delivery', 'Shopping List', 'Wishlist', 'Expense Manager', 'HR Management', 'Payroll', 'Timesheet', 'Inventory Management', 'Expense Tracker', 'Order Tracking', 'Catalog', 'Scanner', 'File Sharing', 'Photo Editor', 'Video Editor', 'Streaming', 'E-voting', 'Blockchain', 'NFT', 'Cryptocurrency', 'Machine Learning', 'AI Assistant', 'Data Visualization', 'Trading', 'Stock Manager']\n"
     ]
    }
   ],
   "execution_count": 4
  },
  {
   "metadata": {
    "ExecuteTime": {
     "end_time": "2024-11-07T05:59:18.803509Z",
     "start_time": "2024-11-07T05:59:18.030957Z"
    }
   },
   "cell_type": "code",
   "source": [
    "url = 'https://api.github.com/search/repositories'\n",
    "params = {\n",
    "    'q': f'(language:JavaScript OR language:TypeScript) dashboard stars:>50',\n",
    "    'sort': 'stars',\n",
    "    'order': 'desc',\n",
    "    'per_page': 1,  \n",
    "    'page': 1\n",
    "}\n",
    "\n",
    "response = requests.get(url,  params=params)\n",
    "    \n",
    "print(response)"
   ],
   "id": "f2d4bf10639841c5",
   "outputs": [
    {
     "name": "stdout",
     "output_type": "stream",
     "text": [
      "<Response [200]>\n"
     ]
    }
   ],
   "execution_count": 5
  },
  {
   "metadata": {
    "ExecuteTime": {
     "end_time": "2024-11-07T06:15:34.350852Z",
     "start_time": "2024-11-07T06:14:22.441286Z"
    }
   },
   "cell_type": "code",
   "source": [
    "def get_github_projects_of_topic(num_results,topic, token=None):\n",
    "    headers = {'Authorization': f'token {token}'} if token else {}\n",
    "    url = 'https://api.github.com/search/repositories'\n",
    "    params = {\n",
    "        'q': f'(language:JavaScript OR language:TypeScript) {topic} stars:>50',\n",
    "        'sort': 'stars',\n",
    "        'order': 'desc',\n",
    "        'per_page': num_results,  \n",
    "        'page': 1\n",
    "    }\n",
    "\n",
    "    response = requests.get(url, headers=headers, params=params)\n",
    "    if response.status_code == 200:\n",
    "        data = response.json()\n",
    "        write_json_data('./topic_data.json',data)\n",
    "        # pretty_json = json.dumps(data['items'], indent=4)\n",
    "        # print(pretty_json)\n",
    "        projects = [{'id': item['id'], 'name': item['name'],'owner': item['owner']['login'], 'watchers': item['watchers_count'],\n",
    "                     'created_at': item['created_at'],'updated_at': item['updated_at']\n",
    "                     ,'size': item['size'],'stars': item['stargazers_count']\n",
    "                     ,'open_issues_count': item['open_issues_count']\n",
    "                     ,'forks': item['forks']} for item in data['items']]\n",
    "        # df = pd.DataFrame(projects)\n",
    "        return projects\n",
    "\n",
    "    else:\n",
    "        print(f\"Error: {response.status_code}\")\n",
    "        return None\n",
    "    \n",
    "topic_dict = {}\n",
    "num_topics = 10\n",
    "for i in range(num_topics):\n",
    "    currentTopic =  topic_list[i]\n",
    "    projects = get_github_projects_of_topic(num_results=10, topic=currentTopic)\n",
    "    if projects is not None:\n",
    "        topic_dict[currentTopic] = projects\n",
    "\n",
    "print(topic_dict)\n",
    "\n",
    "\n",
    "\n",
    "\n",
    "\n",
    "\n"
   ],
   "id": "159a22d8a6be98e9",
   "outputs": [
    {
     "name": "stdout",
     "output_type": "stream",
     "text": [
      "{'Dashboard': [{'id': 88464704, 'name': 'vue-element-admin', 'owner': 'PanJiaChen', 'watchers': 87907, 'created_at': '2017-04-17T03:35:49Z', 'updated_at': '2024-11-07T06:04:04Z', 'size': 15433, 'stars': 87907, 'open_issues_count': 1351, 'forks': 30462}, {'id': 15111821, 'name': 'grafana', 'owner': 'grafana', 'watchers': 64711, 'created_at': '2013-12-11T15:59:56Z', 'updated_at': '2024-11-07T06:00:49Z', 'size': 1169352, 'stars': 64711, 'open_issues_count': 4208, 'forks': 12113}, {'id': 43441403, 'name': 'strapi', 'owner': 'strapi', 'watchers': 63676, 'created_at': '2015-09-30T15:34:48Z', 'updated_at': '2024-11-07T03:19:44Z', 'size': 534844, 'stars': 63676, 'open_issues_count': 910, 'forks': 8101}, {'id': 20619036, 'name': 'pi-hole', 'owner': 'pi-hole', 'watchers': 49114, 'created_at': '2014-06-08T15:02:55Z', 'updated_at': '2024-11-07T02:41:27Z', 'size': 8178, 'stars': 49114, 'open_issues_count': 36, 'forks': 2696}, {'id': 15428480, 'name': 'AdminLTE', 'owner': 'ColorlibHQ', 'watchers': 44046, 'created_at': '2013-12-25T02:52:40Z', 'updated_at': '2024-11-07T03:41:19Z', 'size': 132669, 'stars': 44046, 'open_issues_count': 144, 'forks': 18165}, {'id': 229764465, 'name': '30-Days-Of-JavaScript', 'owner': 'Asabeneh', 'watchers': 43212, 'created_at': '2019-12-23T14:07:40Z', 'updated_at': '2024-11-07T05:37:10Z', 'size': 124975, 'stars': 43212, 'open_issues_count': 345, 'forks': 10018}, {'id': 30203935, 'name': 'metabase', 'owner': 'metabase', 'watchers': 38656, 'created_at': '2015-02-02T19:25:47Z', 'updated_at': '2024-11-07T05:04:27Z', 'size': 724198, 'stars': 38656, 'open_issues_count': 4332, 'forks': 5136}, {'id': 119811010, 'name': 'tabler', 'owner': 'tabler', 'watchers': 38038, 'created_at': '2018-02-01T09:08:59Z', 'updated_at': '2024-11-07T05:16:29Z', 'size': 297143, 'stars': 38038, 'open_issues_count': 91, 'forks': 3968}, {'id': 101394335, 'name': 'ant-design-pro', 'owner': 'ant-design', 'watchers': 36502, 'created_at': '2017-08-25T10:40:44Z', 'updated_at': '2024-11-07T01:07:34Z', 'size': 14000, 'stars': 36502, 'open_issues_count': 164, 'forks': 8145}, {'id': 37958358, 'name': 'tesseract.js', 'owner': 'naptha', 'watchers': 35240, 'created_at': '2015-06-24T02:49:52Z', 'updated_at': '2024-11-07T02:52:51Z', 'size': 109171, 'stars': 35240, 'open_issues_count': 34, 'forks': 2228}], 'CMS': [{'id': 11180687, 'name': 'hugo', 'owner': 'gohugoio', 'watchers': 75715, 'created_at': '2013-07-04T15:26:26Z', 'updated_at': '2024-11-07T05:56:38Z', 'size': 125863, 'stars': 75715, 'open_issues_count': 476, 'forks': 7528}, {'id': 43441403, 'name': 'strapi', 'owner': 'strapi', 'watchers': 63676, 'created_at': '2015-09-30T15:34:48Z', 'updated_at': '2024-11-07T03:19:44Z', 'size': 534844, 'stars': 63676, 'open_issues_count': 910, 'forks': 8101}, {'id': 9852918, 'name': 'Ghost', 'owner': 'TryGhost', 'watchers': 47410, 'created_at': '2013-05-04T11:09:13Z', 'updated_at': '2024-11-07T02:47:57Z', 'size': 323141, 'stars': 47410, 'open_issues_count': 173, 'forks': 10351}, {'id': 229764465, 'name': '30-Days-Of-JavaScript', 'owner': 'Asabeneh', 'watchers': 43212, 'created_at': '2019-12-23T14:07:40Z', 'updated_at': '2024-11-07T05:37:10Z', 'size': 124975, 'stars': 43212, 'open_issues_count': 345, 'forks': 10018}, {'id': 37958358, 'name': 'tesseract.js', 'owner': 'naptha', 'watchers': 35240, 'created_at': '2015-06-24T02:49:52Z', 'updated_at': '2024-11-07T02:52:51Z', 'size': 109171, 'stars': 35240, 'open_issues_count': 34, 'forks': 2228}, {'id': 126178683, 'name': 'halo', 'owner': 'halo-dev', 'watchers': 33978, 'created_at': '2018-03-21T12:56:52Z', 'updated_at': '2024-11-07T06:02:53Z', 'size': 75088, 'stars': 33978, 'open_issues_count': 300, 'forks': 9693}, {'id': 7122594, 'name': 'directus', 'owner': 'directus', 'watchers': 27997, 'created_at': '2012-12-12T01:35:36Z', 'updated_at': '2024-11-07T05:58:26Z', 'size': 401617, 'stars': 27997, 'open_issues_count': 558, 'forks': 3896}, {'id': 327089870, 'name': 'payload', 'owner': 'payloadcms', 'watchers': 24962, 'created_at': '2021-01-05T18:49:45Z', 'updated_at': '2024-11-07T03:25:31Z', 'size': 126574, 'stars': 24962, 'open_issues_count': 466, 'forks': 1591}, {'id': 1213225, 'name': 'highlight.js', 'owner': 'highlightjs', 'watchers': 23682, 'created_at': '2011-01-01T23:47:21Z', 'updated_at': '2024-11-07T05:06:25Z', 'size': 14997, 'stars': 23682, 'open_issues_count': 104, 'forks': 3594}, {'id': 248372441, 'name': 'filament', 'owner': 'filamentphp', 'watchers': 19012, 'created_at': '2020-03-19T00:19:18Z', 'updated_at': '2024-11-07T04:07:20Z', 'size': 367489, 'stars': 19012, 'open_issues_count': 219, 'forks': 2939}], 'E-commerce': [{'id': 229764465, 'name': '30-Days-Of-JavaScript', 'owner': 'Asabeneh', 'watchers': 43212, 'created_at': '2019-12-23T14:07:40Z', 'updated_at': '2024-11-07T05:37:10Z', 'size': 124975, 'stars': 43212, 'open_issues_count': 345, 'forks': 10018}, {'id': 37958358, 'name': 'tesseract.js', 'owner': 'naptha', 'watchers': 35240, 'created_at': '2015-06-24T02:49:52Z', 'updated_at': '2024-11-07T02:52:51Z', 'size': 109171, 'stars': 35240, 'open_issues_count': 34, 'forks': 2228}, {'id': 91253698, 'name': 'ccxt', 'owner': 'ccxt', 'watchers': 32965, 'created_at': '2017-05-14T15:41:56Z', 'updated_at': '2024-11-07T06:00:50Z', 'size': 3733203, 'stars': 32965, 'open_issues_count': 1258, 'forks': 7524}, {'id': 234739976, 'name': 'medusa', 'owner': 'medusajs', 'watchers': 25766, 'created_at': '2020-01-18T13:39:04Z', 'updated_at': '2024-11-07T02:36:44Z', 'size': 384832, 'stars': 25766, 'open_issues_count': 327, 'forks': 2570}, {'id': 1213225, 'name': 'highlight.js', 'owner': 'highlightjs', 'watchers': 23682, 'created_at': '2011-01-01T23:47:21Z', 'updated_at': '2024-11-07T05:06:25Z', 'size': 14997, 'stars': 23682, 'open_issues_count': 104, 'forks': 3594}, {'id': 2649214, 'name': 'arangodb', 'owner': 'arangodb', 'watchers': 13562, 'created_at': '2011-10-26T06:42:00Z', 'updated_at': '2024-11-06T20:43:53Z', 'size': 2846117, 'stars': 13562, 'open_issues_count': 776, 'forks': 838}, {'id': 3314, 'name': 'spree', 'owner': 'spree', 'watchers': 13065, 'created_at': '2008-03-10T14:45:35Z', 'updated_at': '2024-11-07T02:09:38Z', 'size': 155694, 'stars': 13065, 'open_issues_count': 290, 'forks': 4951}, {'id': 12926963, 'name': 'reaction', 'owner': 'reactioncommerce', 'watchers': 12342, 'created_at': '2013-09-18T15:30:36Z', 'updated_at': '2024-11-06T19:53:43Z', 'size': 112678, 'stars': 12342, 'open_issues_count': 108, 'forks': 2173}, {'id': 100346588, 'name': 'vue-storefront', 'owner': 'vuestorefront', 'watchers': 10631, 'created_at': '2017-08-15T06:33:52Z', 'updated_at': '2024-11-06T12:31:09Z', 'size': 128670, 'stars': 10631, 'open_issues_count': 38, 'forks': 2082}, {'id': 18586705, 'name': 'nopCommerce', 'owner': 'nopSolutions', 'watchers': 9290, 'created_at': '2014-04-09T05:47:50Z', 'updated_at': '2024-11-06T16:30:42Z', 'size': 1288547, 'stars': 9290, 'open_issues_count': 110, 'forks': 5321}], 'Portfolio': [{'id': 229764465, 'name': '30-Days-Of-JavaScript', 'owner': 'Asabeneh', 'watchers': 43212, 'created_at': '2019-12-23T14:07:40Z', 'updated_at': '2024-11-07T05:37:10Z', 'size': 124975, 'stars': 43212, 'open_issues_count': 345, 'forks': 10018}, {'id': 37958358, 'name': 'tesseract.js', 'owner': 'naptha', 'watchers': 35240, 'created_at': '2015-06-24T02:49:52Z', 'updated_at': '2024-11-07T02:52:51Z', 'size': 109171, 'stars': 35240, 'open_issues_count': 34, 'forks': 2228}, {'id': 279064706, 'name': 'awesome-github-profile-readme', 'owner': 'abhisheknaiidu', 'watchers': 24592, 'created_at': '2020-07-12T12:57:25Z', 'updated_at': '2024-11-07T04:40:38Z', 'size': 12655, 'stars': 24592, 'open_issues_count': 585, 'forks': 3753}, {'id': 1213225, 'name': 'highlight.js', 'owner': 'highlightjs', 'watchers': 23682, 'created_at': '2011-01-01T23:47:21Z', 'updated_at': '2024-11-07T05:06:25Z', 'size': 14997, 'stars': 23682, 'open_issues_count': 104, 'forks': 3594}, {'id': 2649214, 'name': 'arangodb', 'owner': 'arangodb', 'watchers': 13562, 'created_at': '2011-10-26T06:42:00Z', 'updated_at': '2024-11-06T20:43:53Z', 'size': 2846117, 'stars': 13562, 'open_issues_count': 776, 'forks': 838}, {'id': 194216404, 'name': 'simplefolio', 'owner': 'cobiwave', 'watchers': 13455, 'created_at': '2019-06-28T06:07:04Z', 'updated_at': '2024-11-06T16:37:35Z', 'size': 16960, 'stars': 13455, 'open_issues_count': 77, 'forks': 5732}, {'id': 10267810, 'name': 'minimal-mistakes', 'owner': 'mmistakes', 'watchers': 12409, 'created_at': '2013-05-24T14:13:30Z', 'updated_at': '2024-11-07T05:40:04Z', 'size': 47239, 'stars': 12409, 'open_issues_count': 26, 'forks': 25555}, {'id': 281297416, 'name': 'hugo-PaperMod', 'owner': 'adityatelange', 'watchers': 9924, 'created_at': '2020-07-21T04:45:10Z', 'updated_at': '2024-11-06T23:52:51Z', 'size': 9551, 'stars': 9924, 'open_issues_count': 97, 'forks': 2692}, {'id': 13206906, 'name': 'purescript', 'owner': 'purescript', 'watchers': 8562, 'created_at': '2013-09-30T05:29:23Z', 'updated_at': '2024-11-06T21:39:50Z', 'size': 13829, 'stars': 8562, 'open_issues_count': 297, 'forks': 564}, {'id': 57165232, 'name': 'hugo-blox-builder', 'owner': 'HugoBlox', 'watchers': 8374, 'created_at': '2016-04-26T22:09:15Z', 'updated_at': '2024-11-06T20:05:40Z', 'size': 64417, 'stars': 8374, 'open_issues_count': 14, 'forks': 2905}], 'Blog': [{'id': 138393139, 'name': 'the-book-of-secret-knowledge', 'owner': 'trimstray', 'watchers': 147997, 'created_at': '2018-06-23T10:43:14Z', 'updated_at': '2024-11-07T06:05:22Z', 'size': 1811, 'stars': 147997, 'open_issues_count': 76, 'forks': 9569}, {'id': 70107786, 'name': 'next.js', 'owner': 'vercel', 'watchers': 126798, 'created_at': '2016-10-05T23:32:51Z', 'updated_at': '2024-11-07T06:13:04Z', 'size': 2104766, 'stars': 126798, 'open_issues_count': 3514, 'forks': 26953}, {'id': 36040894, 'name': 'gatsby', 'owner': 'gatsbyjs', 'watchers': 55278, 'created_at': '2015-05-21T22:43:05Z', 'updated_at': '2024-11-07T00:23:09Z', 'size': 1147601, 'stars': 55278, 'open_issues_count': 391, 'forks': 10310}, {'id': 65252, 'name': 'jekyll', 'owner': 'jekyll', 'watchers': 49194, 'created_at': '2008-10-20T06:29:03Z', 'updated_at': '2024-11-07T03:46:32Z', 'size': 67255, 'stars': 49194, 'open_issues_count': 189, 'forks': 9975}, {'id': 348060227, 'name': 'astro', 'owner': 'withastro', 'watchers': 46620, 'created_at': '2021-03-15T17:19:47Z', 'updated_at': '2024-11-07T06:09:46Z', 'size': 186215, 'stars': 46620, 'open_issues_count': 160, 'forks': 2474}, {'id': 229764465, 'name': '30-Days-Of-JavaScript', 'owner': 'Asabeneh', 'watchers': 43212, 'created_at': '2019-12-23T14:07:40Z', 'updated_at': '2024-11-07T05:37:10Z', 'size': 124975, 'stars': 43212, 'open_issues_count': 345, 'forks': 10018}, {'id': 5923215, 'name': 'hexo', 'owner': 'hexojs', 'watchers': 39476, 'created_at': '2012-09-23T15:17:08Z', 'updated_at': '2024-11-07T04:02:14Z', 'size': 6872, 'stars': 39476, 'open_issues_count': 93, 'forks': 4855}, {'id': 37958358, 'name': 'tesseract.js', 'owner': 'naptha', 'watchers': 35240, 'created_at': '2015-06-24T02:49:52Z', 'updated_at': '2024-11-07T02:52:51Z', 'size': 109171, 'stars': 35240, 'open_issues_count': 34, 'forks': 2228}, {'id': 126178683, 'name': 'halo', 'owner': 'halo-dev', 'watchers': 33978, 'created_at': '2018-03-21T12:56:52Z', 'updated_at': '2024-11-07T06:02:53Z', 'size': 75088, 'stars': 33978, 'open_issues_count': 300, 'forks': 9693}, {'id': 37382858, 'name': 'engineering-blogs', 'owner': 'kilimchoi', 'watchers': 31664, 'created_at': '2015-06-13T18:25:17Z', 'updated_at': '2024-11-07T03:33:33Z', 'size': 1339, 'stars': 31664, 'open_issues_count': 128, 'forks': 1626}], 'Chatbot': [{'id': 574523116, 'name': 'awesome-chatgpt-prompts', 'owner': 'f', 'watchers': 112393, 'created_at': '2022-12-05T13:54:13Z', 'updated_at': '2024-11-07T06:05:37Z', 'size': 773, 'stars': 112393, 'open_issues_count': 298, 'forks': 15329}, {'id': 145553672, 'name': 'funNLP', 'owner': 'fighting41love', 'watchers': 68933, 'created_at': '2018-08-21T11:20:39Z', 'updated_at': '2024-11-07T05:49:26Z', 'size': 174188, 'stars': 68933, 'open_issues_count': 128, 'forks': 14499}, {'id': 620936652, 'name': 'gpt4free', 'owner': 'xtekky', 'watchers': 61036, 'created_at': '2023-03-29T17:00:43Z', 'updated_at': '2024-11-07T04:53:41Z', 'size': 162906, 'stars': 61036, 'open_issues_count': 25, 'forks': 13304}, {'id': 626805178, 'name': 'dify', 'owner': 'langgenius', 'watchers': 50878, 'created_at': '2023-04-12T07:40:24Z', 'updated_at': '2024-11-07T06:13:12Z', 'size': 55983, 'stars': 50878, 'open_issues_count': 337, 'forks': 7318}, {'id': 229764465, 'name': '30-Days-Of-JavaScript', 'owner': 'Asabeneh', 'watchers': 43212, 'created_at': '2019-12-23T14:07:40Z', 'updated_at': '2024-11-07T05:37:10Z', 'size': 124975, 'stars': 43212, 'open_issues_count': 345, 'forks': 10018}, {'id': 615882673, 'name': 'FastChat', 'owner': 'lm-sys', 'watchers': 36887, 'created_at': '2023-03-19T00:18:02Z', 'updated_at': '2024-11-07T06:03:20Z', 'size': 35160, 'stars': 36887, 'open_issues_count': 889, 'forks': 4545}, {'id': 640079149, 'name': 'quivr', 'owner': 'QuivrHQ', 'watchers': 36521, 'created_at': '2023-05-12T23:53:30Z', 'updated_at': '2024-11-07T05:19:19Z', 'size': 126552, 'stars': 36521, 'open_issues_count': 144, 'forks': 3565}, {'id': 37958358, 'name': 'tesseract.js', 'owner': 'naptha', 'watchers': 35240, 'created_at': '2015-06-24T02:49:52Z', 'updated_at': '2024-11-07T02:52:51Z', 'size': 109171, 'stars': 35240, 'open_issues_count': 34, 'forks': 2228}, {'id': 680120071, 'name': 'autogen', 'owner': 'microsoft', 'watchers': 32728, 'created_at': '2023-08-18T11:43:45Z', 'updated_at': '2024-11-07T06:02:25Z', 'size': 134314, 'stars': 32728, 'open_issues_count': 524, 'forks': 4762}, {'id': 621799276, 'name': 'Langchain-Chatchat', 'owner': 'chatchat-space', 'watchers': 31908, 'created_at': '2023-03-31T12:12:45Z', 'updated_at': '2024-11-07T04:00:08Z', 'size': 143590, 'stars': 31908, 'open_issues_count': 112, 'forks': 5563}], 'Social Network': [{'id': 36633370, 'name': 'awesome-selfhosted', 'owner': 'awesome-selfhosted', 'watchers': 201986, 'created_at': '2015-06-01T02:33:17Z', 'updated_at': '2024-11-07T06:08:10Z', 'size': 16476, 'stars': 201986, 'open_issues_count': 0, 'forks': 9663}, {'id': 65600975, 'name': 'pytorch', 'owner': 'pytorch', 'watchers': 83679, 'created_at': '2016-08-13T05:26:41Z', 'updated_at': '2024-11-07T06:09:14Z', 'size': 1004384, 'stars': 83679, 'open_issues_count': 15367, 'forks': 22576}, {'id': 212639071, 'name': 'devops-exercises', 'owner': 'bregman-arie', 'watchers': 66542, 'created_at': '2019-10-03T17:31:21Z', 'updated_at': '2024-11-06T23:50:11Z', 'size': 4703, 'stars': 66542, 'open_issues_count': 33, 'forks': 14859}, {'id': 3638964, 'name': 'ansible', 'owner': 'ansible', 'watchers': 62909, 'created_at': '2012-03-06T14:58:02Z', 'updated_at': '2024-11-07T04:54:16Z', 'size': 256419, 'stars': 62909, 'open_issues_count': 860, 'forks': 23901}, {'id': 162998479, 'name': 'sherlock', 'owner': 'sherlock-project', 'watchers': 60093, 'created_at': '2018-12-24T14:30:48Z', 'updated_at': '2024-11-07T05:52:46Z', 'size': 17971, 'stars': 60093, 'open_issues_count': 215, 'forks': 6917}, {'id': 41912791, 'name': 'v2ray-core', 'owner': 'v2ray', 'watchers': 45414, 'created_at': '2015-09-04T11:42:53Z', 'updated_at': '2024-11-07T03:19:49Z', 'size': 55125, 'stars': 45414, 'open_issues_count': 10, 'forks': 8947}, {'id': 423275200, 'name': 'fuels-rs', 'owner': 'FuelLabs', 'watchers': 44056, 'created_at': '2021-10-31T22:33:54Z', 'updated_at': '2024-11-06T20:42:13Z', 'size': 16948, 'stars': 44056, 'open_issues_count': 94, 'forks': 1344}, {'id': 402860175, 'name': 'fuels-ts', 'owner': 'FuelLabs', 'watchers': 44053, 'created_at': '2021-09-03T18:11:03Z', 'updated_at': '2024-11-06T11:51:05Z', 'size': 45290, 'stars': 44053, 'open_issues_count': 122, 'forks': 1345}, {'id': 22458259, 'name': 'Alamofire', 'owner': 'Alamofire', 'watchers': 41125, 'created_at': '2014-07-31T05:56:19Z', 'updated_at': '2024-11-07T03:26:17Z', 'size': 38881, 'stars': 41125, 'open_issues_count': 41, 'forks': 7541}, {'id': 191113739, 'name': 'interview_internal_reference', 'owner': '0voice', 'watchers': 36615, 'created_at': '2019-06-10T06:54:19Z', 'updated_at': '2024-11-06T22:28:41Z', 'size': 1160, 'stars': 36615, 'open_issues_count': 31, 'forks': 9447}], 'Messaging': [{'id': 229764465, 'name': '30-Days-Of-JavaScript', 'owner': 'Asabeneh', 'watchers': 43212, 'created_at': '2019-12-23T14:07:40Z', 'updated_at': '2024-11-07T05:37:10Z', 'size': 124975, 'stars': 43212, 'open_issues_count': 345, 'forks': 10018}, {'id': 37958358, 'name': 'tesseract.js', 'owner': 'naptha', 'watchers': 35240, 'created_at': '2015-06-24T02:49:52Z', 'updated_at': '2024-11-07T02:52:51Z', 'size': 109171, 'stars': 35240, 'open_issues_count': 34, 'forks': 2228}, {'id': 19374812, 'name': 'tdesktop', 'owner': 'telegramdesktop', 'watchers': 26259, 'created_at': '2014-05-02T12:36:31Z', 'updated_at': '2024-11-07T06:05:03Z', 'size': 236311, 'stars': 26259, 'open_issues_count': 852, 'forks': 5216}, {'id': 4307108, 'name': 'nsq', 'owner': 'nsqio', 'watchers': 24967, 'created_at': '2012-05-12T14:37:08Z', 'updated_at': '2024-11-07T06:11:24Z', 'size': 14163, 'stars': 24967, 'open_issues_count': 71, 'forks': 2902}, {'id': 1213225, 'name': 'highlight.js', 'owner': 'highlightjs', 'watchers': 23682, 'created_at': '2011-01-01T23:47:21Z', 'updated_at': '2024-11-07T05:06:25Z', 'size': 14997, 'stars': 23682, 'open_issues_count': 104, 'forks': 3594}, {'id': 75164823, 'name': 'rocketmq', 'owner': 'apache', 'watchers': 21219, 'created_at': '2016-11-30T08:00:08Z', 'updated_at': '2024-11-06T11:30:23Z', 'size': 42785, 'stars': 21219, 'open_issues_count': 428, 'forks': 11680}, {'id': 600596928, 'name': 'LibreChat', 'owner': 'danny-avila', 'watchers': 18893, 'created_at': '2023-02-12T01:06:52Z', 'updated_at': '2024-11-07T05:38:43Z', 'size': 45837, 'stars': 18893, 'open_issues_count': 184, 'forks': 3147}, {'id': 5901900, 'name': 'disruptor', 'owner': 'LMAX-Exchange', 'watchers': 17463, 'created_at': '2012-09-21T13:42:24Z', 'updated_at': '2024-11-07T05:28:27Z', 'size': 10070, 'stars': 17463, 'open_issues_count': 18, 'forks': 3927}, {'id': 51575745, 'name': 'commitlint', 'owner': 'conventional-changelog', 'watchers': 16859, 'created_at': '2016-02-12T08:37:56Z', 'updated_at': '2024-11-07T01:27:20Z', 'size': 17851, 'stars': 16859, 'open_issues_count': 178, 'forks': 907}, {'id': 6443435, 'name': 'nats-server', 'owner': 'nats-io', 'watchers': 15894, 'created_at': '2012-10-29T16:12:24Z', 'updated_at': '2024-11-07T03:22:12Z', 'size': 38818, 'stars': 15894, 'open_issues_count': 376, 'forks': 1404}], 'Forum': [{'id': 229764465, 'name': '30-Days-Of-JavaScript', 'owner': 'Asabeneh', 'watchers': 43212, 'created_at': '2019-12-23T14:07:40Z', 'updated_at': '2024-11-07T05:37:10Z', 'size': 124975, 'stars': 43212, 'open_issues_count': 345, 'forks': 10018}, {'id': 7569578, 'name': 'discourse', 'owner': 'discourse', 'watchers': 42238, 'created_at': '2013-01-12T00:25:55Z', 'updated_at': '2024-11-07T05:54:45Z', 'size': 673358, 'stars': 42238, 'open_issues_count': 66, 'forks': 8318}, {'id': 37958358, 'name': 'tesseract.js', 'owner': 'naptha', 'watchers': 35240, 'created_at': '2015-06-24T02:49:52Z', 'updated_at': '2024-11-07T02:52:51Z', 'size': 109171, 'stars': 35240, 'open_issues_count': 34, 'forks': 2228}, {'id': 1213225, 'name': 'highlight.js', 'owner': 'highlightjs', 'watchers': 23682, 'created_at': '2011-01-01T23:47:21Z', 'updated_at': '2024-11-07T05:06:25Z', 'size': 14997, 'stars': 23682, 'open_issues_count': 104, 'forks': 3594}, {'id': 28628034, 'name': 'flarum', 'owner': 'flarum', 'watchers': 15366, 'created_at': '2014-12-30T11:13:08Z', 'updated_at': '2024-11-07T02:43:48Z', 'size': 737, 'stars': 15366, 'open_issues_count': 1, 'forks': 1570}, {'id': 9603889, 'name': 'NodeBB', 'owner': 'NodeBB', 'watchers': 14209, 'created_at': '2013-04-22T16:49:40Z', 'updated_at': '2024-11-07T03:11:38Z', 'size': 91443, 'stars': 14209, 'open_issues_count': 180, 'forks': 2798}, {'id': 2649214, 'name': 'arangodb', 'owner': 'arangodb', 'watchers': 13562, 'created_at': '2011-10-26T06:42:00Z', 'updated_at': '2024-11-06T20:43:53Z', 'size': 2846117, 'stars': 13562, 'open_issues_count': 776, 'forks': 838}, {'id': 170729130, 'name': 'lemmy', 'owner': 'LemmyNet', 'watchers': 13251, 'created_at': '2019-02-14T17:17:17Z', 'updated_at': '2024-11-06T15:58:46Z', 'size': 36174, 'stars': 13251, 'open_issues_count': 191, 'forks': 879}, {'id': 542931741, 'name': 'incubator-answer', 'owner': 'apache', 'watchers': 12885, 'created_at': '2022-09-29T05:16:19Z', 'updated_at': '2024-11-07T02:55:34Z', 'size': 12464, 'stars': 12885, 'open_issues_count': 78, 'forks': 993}, {'id': 6486826, 'name': 'ppsspp', 'owner': 'hrydgard', 'watchers': 11328, 'created_at': '2012-11-01T08:41:48Z', 'updated_at': '2024-11-07T05:57:57Z', 'size': 314015, 'stars': 11328, 'open_issues_count': 1237, 'forks': 2178}], 'Community': [{'id': 28457823, 'name': 'freeCodeCamp', 'owner': 'freeCodeCamp', 'watchers': 405132, 'created_at': '2014-12-24T17:49:19Z', 'updated_at': '2024-11-07T06:14:30Z', 'size': 474255, 'stars': 405132, 'open_issues_count': 240, 'forks': 38000}, {'id': 291137, 'name': 'ohmyzsh', 'owner': 'ohmyzsh', 'watchers': 173781, 'created_at': '2009-08-28T18:15:37Z', 'updated_at': '2024-11-07T05:53:59Z', 'size': 12076, 'stars': 173781, 'open_issues_count': 425, 'forks': 25899}, {'id': 15204860, 'name': 'papers-we-love', 'owner': 'papers-we-love', 'watchers': 87946, 'created_at': '2013-12-15T14:31:41Z', 'updated_at': '2024-11-07T04:56:34Z', 'size': 230581, 'stars': 87946, 'open_issues_count': 1, 'forks': 5740}, {'id': 52281283, 'name': 'mastodon', 'owner': 'mastodon', 'watchers': 47068, 'created_at': '2016-02-22T15:01:25Z', 'updated_at': '2024-11-07T06:13:00Z', 'size': 263056, 'stars': 47068, 'open_issues_count': 4376, 'forks': 6967}, {'id': 68720867, 'name': 'first-contributions', 'owner': 'firstcontributions', 'watchers': 45373, 'created_at': '2016-09-20T14:35:09Z', 'updated_at': '2024-11-07T06:09:44Z', 'size': 48871, 'stars': 45373, 'open_issues_count': 1469, 'forks': 79788}, {'id': 229764465, 'name': '30-Days-Of-JavaScript', 'owner': 'Asabeneh', 'watchers': 43212, 'created_at': '2019-12-23T14:07:40Z', 'updated_at': '2024-11-07T05:37:10Z', 'size': 124975, 'stars': 43212, 'open_issues_count': 345, 'forks': 10018}, {'id': 7569578, 'name': 'discourse', 'owner': 'discourse', 'watchers': 42238, 'created_at': '2013-01-12T00:25:55Z', 'updated_at': '2024-11-07T05:54:45Z', 'size': 673358, 'stars': 42238, 'open_issues_count': 66, 'forks': 8318}, {'id': 69629434, 'name': 'freecodecamp.cn', 'owner': 'FreeCodeCampChina', 'watchers': 37061, 'created_at': '2016-09-30T03:13:43Z', 'updated_at': '2024-11-06T20:45:15Z', 'size': 30959, 'stars': 37061, 'open_issues_count': 151, 'forks': 1377}, {'id': 37958358, 'name': 'tesseract.js', 'owner': 'naptha', 'watchers': 35241, 'created_at': '2015-06-24T02:49:52Z', 'updated_at': '2024-11-07T06:15:06Z', 'size': 109171, 'stars': 35241, 'open_issues_count': 34, 'forks': 2228}, {'id': 441903012, 'name': '90DaysOfDevOps', 'owner': 'MichaelCade', 'watchers': 27202, 'created_at': '2021-12-26T13:55:18Z', 'updated_at': '2024-11-07T03:49:26Z', 'size': 373913, 'stars': 27202, 'open_issues_count': 9, 'forks': 6318}]}\n"
     ]
    }
   ],
   "execution_count": 8
  },
  {
   "metadata": {
    "ExecuteTime": {
     "end_time": "2024-11-07T06:15:39.719422Z",
     "start_time": "2024-11-07T06:15:39.709631Z"
    }
   },
   "cell_type": "code",
   "source": [
    "all_projects = []\n",
    "\n",
    "for topic, projects in topic_dict.items():\n",
    "    for project in projects:\n",
    "        # Add the topic as a new field in each project dictionary\n",
    "        project['topic'] = topic\n",
    "        all_projects.append(project)\n",
    "\n",
    "# Convert the list of all projects with topics into a DataFrame\n",
    "df = pd.DataFrame(all_projects)\n",
    "\n",
    "# Save the DataFrame to a CSV file\n",
    "df.to_csv('github_projects_with_topics.csv', index=False)\n",
    "\n",
    "print(\"Data saved to github_projects_with_topics.csv\")\n",
    "\n",
    "error_from = \"\""
   ],
   "id": "7bfcfcd297a26bc9",
   "outputs": [
    {
     "name": "stdout",
     "output_type": "stream",
     "text": [
      "Data saved to github_projects_with_topics.csv\n"
     ]
    }
   ],
   "execution_count": 9
  },
  {
   "metadata": {
    "ExecuteTime": {
     "end_time": "2024-11-04T06:51:15.240579Z",
     "start_time": "2024-11-04T06:51:14.351151Z"
    }
   },
   "cell_type": "code",
   "source": "",
   "id": "adfd561da1e2de72",
   "outputs": [
    {
     "data": {
      "text/plain": [
       "          id                    name                owner  watchers  \\\n",
       "0   28457823            freeCodeCamp         freeCodeCamp    405050   \n",
       "1   10270250                   react             facebook    228937   \n",
       "2   11730342                     vue                vuejs    207957   \n",
       "3   88011908  project-based-learning  practical-tutorials    202947   \n",
       "4  126577260   javascript-algorithms             trekhleb    188244   \n",
       "\n",
       "             created_at            updated_at    size   stars  \\\n",
       "0  2014-12-24T17:49:19Z  2024-11-04T06:28:05Z  473268  405050   \n",
       "1  2013-05-24T16:15:54Z  2024-11-04T06:40:39Z  633391  228937   \n",
       "2  2013-07-29T03:24:51Z  2024-11-04T05:30:38Z   32152  207957   \n",
       "3  2017-04-12T05:07:46Z  2024-11-04T06:40:54Z     438  202947   \n",
       "4  2018-03-24T07:47:04Z  2024-11-04T05:43:52Z   13398  188244   \n",
       "\n",
       "   open_issues_count  forks  \n",
       "0                244  37992  \n",
       "1                869  46842  \n",
       "2                602  33677  \n",
       "3                186  26484  \n",
       "4                356  30247  "
      ],
      "text/html": [
       "<div>\n",
       "<style scoped>\n",
       "    .dataframe tbody tr th:only-of-type {\n",
       "        vertical-align: middle;\n",
       "    }\n",
       "\n",
       "    .dataframe tbody tr th {\n",
       "        vertical-align: top;\n",
       "    }\n",
       "\n",
       "    .dataframe thead th {\n",
       "        text-align: right;\n",
       "    }\n",
       "</style>\n",
       "<table border=\"1\" class=\"dataframe\">\n",
       "  <thead>\n",
       "    <tr style=\"text-align: right;\">\n",
       "      <th></th>\n",
       "      <th>id</th>\n",
       "      <th>name</th>\n",
       "      <th>owner</th>\n",
       "      <th>watchers</th>\n",
       "      <th>created_at</th>\n",
       "      <th>updated_at</th>\n",
       "      <th>size</th>\n",
       "      <th>stars</th>\n",
       "      <th>open_issues_count</th>\n",
       "      <th>forks</th>\n",
       "    </tr>\n",
       "  </thead>\n",
       "  <tbody>\n",
       "    <tr>\n",
       "      <th>0</th>\n",
       "      <td>28457823</td>\n",
       "      <td>freeCodeCamp</td>\n",
       "      <td>freeCodeCamp</td>\n",
       "      <td>405050</td>\n",
       "      <td>2014-12-24T17:49:19Z</td>\n",
       "      <td>2024-11-04T06:28:05Z</td>\n",
       "      <td>473268</td>\n",
       "      <td>405050</td>\n",
       "      <td>244</td>\n",
       "      <td>37992</td>\n",
       "    </tr>\n",
       "    <tr>\n",
       "      <th>1</th>\n",
       "      <td>10270250</td>\n",
       "      <td>react</td>\n",
       "      <td>facebook</td>\n",
       "      <td>228937</td>\n",
       "      <td>2013-05-24T16:15:54Z</td>\n",
       "      <td>2024-11-04T06:40:39Z</td>\n",
       "      <td>633391</td>\n",
       "      <td>228937</td>\n",
       "      <td>869</td>\n",
       "      <td>46842</td>\n",
       "    </tr>\n",
       "    <tr>\n",
       "      <th>2</th>\n",
       "      <td>11730342</td>\n",
       "      <td>vue</td>\n",
       "      <td>vuejs</td>\n",
       "      <td>207957</td>\n",
       "      <td>2013-07-29T03:24:51Z</td>\n",
       "      <td>2024-11-04T05:30:38Z</td>\n",
       "      <td>32152</td>\n",
       "      <td>207957</td>\n",
       "      <td>602</td>\n",
       "      <td>33677</td>\n",
       "    </tr>\n",
       "    <tr>\n",
       "      <th>3</th>\n",
       "      <td>88011908</td>\n",
       "      <td>project-based-learning</td>\n",
       "      <td>practical-tutorials</td>\n",
       "      <td>202947</td>\n",
       "      <td>2017-04-12T05:07:46Z</td>\n",
       "      <td>2024-11-04T06:40:54Z</td>\n",
       "      <td>438</td>\n",
       "      <td>202947</td>\n",
       "      <td>186</td>\n",
       "      <td>26484</td>\n",
       "    </tr>\n",
       "    <tr>\n",
       "      <th>4</th>\n",
       "      <td>126577260</td>\n",
       "      <td>javascript-algorithms</td>\n",
       "      <td>trekhleb</td>\n",
       "      <td>188244</td>\n",
       "      <td>2018-03-24T07:47:04Z</td>\n",
       "      <td>2024-11-04T05:43:52Z</td>\n",
       "      <td>13398</td>\n",
       "      <td>188244</td>\n",
       "      <td>356</td>\n",
       "      <td>30247</td>\n",
       "    </tr>\n",
       "  </tbody>\n",
       "</table>\n",
       "</div>"
      ]
     },
     "execution_count": 3,
     "metadata": {},
     "output_type": "execute_result"
    }
   ],
   "execution_count": 3
  },
  {
   "metadata": {
    "jupyter": {
     "is_executing": true
    },
    "ExecuteTime": {
     "start_time": "2024-11-07T08:30:09.716143Z"
    }
   },
   "cell_type": "code",
   "source": [
    "from collections import defaultdict\n",
    "\n",
    "def get_Sbom_of_projects(repo_df, token=None):\n",
    "    headers = {'Authorization': f'token {token}'} if token else {}\n",
    "    url = 'https://api.github.com/repos/'\n",
    "    owner = repo_df['owner']\n",
    "    repo = repo_df['name']\n",
    "    url = url + f'{owner}/{repo}/dependency-graph/sbom'\n",
    "\n",
    "    response = requests.get(url, headers=headers)\n",
    "    if response.status_code == 200:\n",
    "        data = response.json()\n",
    "        # write_json_data('./sbom.json',data)\n",
    "        packages = data['sbom']['packages']\n",
    "         # Extract npm packages with name and version\n",
    "        pkg_dict = defaultdict(dict)\n",
    "        for package in packages:\n",
    "            if package['externalRefs'][0]['referenceLocator'].startswith('pkg:npm'):\n",
    "                try:\n",
    "                    if len(package['versionInfo'])>0:\n",
    "                        if 'versionInfo' in package:\n",
    "                            if package['name'].startswith('npm:'):\n",
    "                                sbom_dict[repo][package['name'][4:]] = package['versionInfo']\n",
    "                                pkg_dict[repo][package['name'][4:]] = package['versionInfo']\n",
    "                            else:\n",
    "                                sbom_dict[repo][package['name']] = package['versionInfo']\n",
    "                                pkg_dict[repo][package['name']] = package['versionInfo']\n",
    "                except:\n",
    "                    print(package)\n",
    "        append_json_data('./append_dependencies.json',pkg_dict)\n",
    "    else:\n",
    "        print(f\"Error: {response.status_code}\")\n",
    "        return None\n",
    "\n",
    "sbom_dict = defaultdict(dict)\n",
    "flag=False\n",
    "for topic,projects in topic_dict.items():\n",
    "    if(topic=='Blog'):\n",
    "        flag=True\n",
    "    if(flag):\n",
    "        for project in projects:\n",
    "            get_Sbom_of_projects(project)\n",
    "            sleep(10)\n",
    "        print(f'{topic} done')\n",
    "        sleep(60)\n",
    "\n",
    "\n",
    "# write_json_data('./project_packages.json',sbom_dict)\n",
    "# print(sbom_dict)"
   ],
   "id": "dc87f5d583d55974",
   "outputs": [],
   "execution_count": null
  },
  {
   "metadata": {},
   "cell_type": "code",
   "outputs": [],
   "execution_count": null,
   "source": "",
   "id": "b92aa571b67710e"
  }
 ],
 "metadata": {
  "kernelspec": {
   "display_name": "Python 3",
   "language": "python",
   "name": "python3"
  },
  "language_info": {
   "codemirror_mode": {
    "name": "ipython",
    "version": 2
   },
   "file_extension": ".py",
   "mimetype": "text/x-python",
   "name": "python",
   "nbconvert_exporter": "python",
   "pygments_lexer": "ipython2",
   "version": "2.7.6"
  }
 },
 "nbformat": 4,
 "nbformat_minor": 5
}
