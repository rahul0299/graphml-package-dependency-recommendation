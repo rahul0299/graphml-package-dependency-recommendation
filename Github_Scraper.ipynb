{
 "cells": [
  {
   "metadata": {
    "ExecuteTime": {
     "end_time": "2024-10-29T06:09:34.712881Z",
     "start_time": "2024-10-29T06:09:34.708437Z"
    }
   },
   "cell_type": "code",
   "source": [
    "import requests\n",
    "import json\n",
    "import pprint"
   ],
   "id": "514547032f0901b3",
   "outputs": [],
   "execution_count": 11
  },
  {
   "metadata": {
    "ExecuteTime": {
     "end_time": "2024-10-29T06:51:19.604891Z",
     "start_time": "2024-10-29T06:51:18.997207Z"
    }
   },
   "cell_type": "code",
   "source": [
    "def get_top_github_projects(x, token=None):\n",
    "    headers = {'Authorization': f'token {token}'} if token else {}\n",
    "    url = 'https://api.github.com/search/repositories'\n",
    "    params = {\n",
    "        'q': 'topic:javascript',\n",
    "        'sort': 'stars',\n",
    "        'order': 'desc',\n",
    "        'per_page': x,  # number of top repositories\n",
    "        'page': 1\n",
    "    }\n",
    "\n",
    "    response = requests.get(url, headers=headers, params=params)\n",
    "    if response.status_code == 200:\n",
    "        data = response.json()\n",
    "        pretty_json = json.dumps(data, indent=4)\n",
    "        # print(pretty_json)\n",
    "        top_projects = [(repo['name'], repo['stargazers_count']) for repo in data['items']]\n",
    "        return top_projects\n",
    "\n",
    "    else:\n",
    "        print(f\"Error: {response.status_code}\")\n",
    "        return None\n",
    "\n",
    "top_projects = get_top_github_projects(10)\n",
    "for project in top_projects:\n",
    "    print(f\"Repo: {project[0]}, Stars: {project[1]}\")"
   ],
   "id": "adfd561da1e2de72",
   "outputs": [
    {
     "name": "stdout",
     "output_type": "stream",
     "text": [
      "Repo: freeCodeCamp, Stars: 404692\n",
      "Repo: react, Stars: 228763\n",
      "Repo: vue, Stars: 207903\n",
      "Repo: project-based-learning, Stars: 202363\n",
      "Repo: javascript-algorithms, Stars: 188163\n",
      "Repo: You-Dont-Know-JS, Stars: 179585\n",
      "Repo: bootstrap, Stars: 170514\n",
      "Repo: javascript, Stars: 145149\n",
      "Repo: 30-seconds-of-code, Stars: 121598\n",
      "Repo: electron, Stars: 114225\n"
     ]
    }
   ],
   "execution_count": 21
  }
 ],
 "metadata": {
  "kernelspec": {
   "display_name": "Python 3",
   "language": "python",
   "name": "python3"
  },
  "language_info": {
   "codemirror_mode": {
    "name": "ipython",
    "version": 2
   },
   "file_extension": ".py",
   "mimetype": "text/x-python",
   "name": "python",
   "nbconvert_exporter": "python",
   "pygments_lexer": "ipython2",
   "version": "2.7.6"
  }
 },
 "nbformat": 4,
 "nbformat_minor": 5
}
