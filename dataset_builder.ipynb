{
 "cells": [
  {
   "cell_type": "code",
   "metadata": {
    "ExecuteTime": {
     "end_time": "2024-11-13T10:21:13.495644Z",
     "start_time": "2024-11-13T10:21:13.480948Z"
    }
   },
   "source": [
    "import json\n",
    "\n",
    "import pandas as pd\n",
    "import requests\n",
    "from tqdm.notebook import tqdm\n",
    "import threading\n",
    "from concurrent.futures import ThreadPoolExecutor, as_completed"
   ],
   "outputs": [],
   "execution_count": 26
  },
  {
   "metadata": {
    "ExecuteTime": {
     "end_time": "2024-11-13T11:19:50.197227Z",
     "start_time": "2024-11-13T11:19:50.189075Z"
    }
   },
   "cell_type": "code",
   "source": [
    "def filter_valid_package_names(packages):\n",
    "    packages = set(packages)\n",
    "    remove = set()\n",
    "    for package in packages:\n",
    "        if (not package.startswith('@')) and (not package[0].islower()):\n",
    "            remove.add(package)\n",
    "                \n",
    "    return packages - remove\n",
    "\n",
    "# test function\n",
    "print(filter_valid_package_names({'../cli', 'axios', '@blah/blah', '345'}))"
   ],
   "outputs": [
    {
     "name": "stdout",
     "output_type": "stream",
     "text": [
      "{'axios', '@blah/blah'}\n"
     ]
    }
   ],
   "execution_count": 97
  },
  {
   "metadata": {
    "ExecuteTime": {
     "end_time": "2024-11-13T11:19:56.815647Z",
     "start_time": "2024-11-13T11:19:56.809727Z"
    }
   },
   "cell_type": "code",
   "source": [
    "def create_package_space_from_project_json(filepath):\n",
    "    package_space = set()\n",
    "    project_data = json.load(open(filepath))\n",
    "    for _, deps in project_data.items():\n",
    "        for pkg in deps.keys():\n",
    "            if pkg.startswith(\"npm:\"):\n",
    "                pkg = pkg[4:]\n",
    "            package_space.add(pkg)\n",
    "            \n",
    "    return package_space"
   ],
   "outputs": [],
   "execution_count": 98
  },
  {
   "metadata": {
    "ExecuteTime": {
     "end_time": "2024-11-13T10:21:21.049081Z",
     "start_time": "2024-11-13T10:21:21.030088Z"
    }
   },
   "cell_type": "code",
   "source": [
    "from bs4 import BeautifulSoup\n",
    "import os\n",
    "\n",
    "def create_package_list():\n",
    "    res = requests.get(\"https://gist.github.com/anvaka/8e8fa57c7ee1350e3491\")\n",
    "    if res.status_code == 200:\n",
    "        parsed_html = BeautifulSoup(res.content, \"html.parser\")\n",
    "        selector = \"#gistcomment-4447488 > div.edit-comment-hide > task-lists > div > p:nth-child(3)\"\n",
    "        package_list = parsed_html.select(selector)\n",
    "        with open(\"./playground/package_list.txt\", \"w\") as f:\n",
    "            f.write(package_list[0].text)\n",
    "            \n",
    "def load_package_list():\n",
    "    if not os.path.exists(\"./playground/package_list.txt\"):\n",
    "        create_package_list()\n",
    "    else:\n",
    "        with open(\"./playground/package_list.txt\", \"r\") as f:\n",
    "            return [text for text in f.read().splitlines()]\n",
    "    \n",
    "def create_package_space_from_github_gist():\n",
    "    # packages = load_package_list()\n",
    "    # print(len(packages))\n",
    "    return set(load_package_list())\n",
    "    \n",
    "                \n",
    "print(len(create_package_space_from_github_gist()))"
   ],
   "outputs": [
    {
     "name": "stdout",
     "output_type": "stream",
     "text": [
      "5248\n"
     ]
    }
   ],
   "execution_count": 28
  },
  {
   "metadata": {
    "ExecuteTime": {
     "end_time": "2024-11-13T10:21:23.722841Z",
     "start_time": "2024-11-13T10:21:23.672142Z"
    }
   },
   "cell_type": "code",
   "source": [
    "pkg_space = create_package_space_from_project_json(\"./GithubScrape/Data/40_Projects/append_dependencies_40_1.json\")\n",
    "print(\"Number of packages:\", len(pkg_space))"
   ],
   "outputs": [
    {
     "name": "stdout",
     "output_type": "stream",
     "text": [
      "Number of packages: 16784\n"
     ]
    }
   ],
   "execution_count": 29
  },
  {
   "metadata": {
    "ExecuteTime": {
     "end_time": "2024-11-13T10:22:08.610475Z",
     "start_time": "2024-11-13T10:22:08.592197Z"
    }
   },
   "cell_type": "code",
   "source": [
    "from datetime import datetime, timedelta\n",
    "\n",
    "def convert_time_to_epoch(timestamp):\n",
    "    timestamp = timestamp.replace('Z', '+00:00')\n",
    "    timestamp = datetime.fromisoformat(timestamp)\n",
    "    return datetime.strftime(timestamp, '%s')\n",
    "    "
   ],
   "outputs": [],
   "execution_count": 31
  },
  {
   "metadata": {
    "ExecuteTime": {
     "end_time": "2024-11-13T10:26:50.611805Z",
     "start_time": "2024-11-13T10:26:50.593587Z"
    }
   },
   "cell_type": "code",
   "source": [
    "def fetch_package_data(package, base_url=\"https://registry.npmjs.org/\", max_retries=3):\n",
    "    for attempt in range(max_retries):\n",
    "        try:\n",
    "            res = requests.get(base_url + package)\n",
    "            data = res.json()\n",
    "            \n",
    "            if res.status_code == 200:\n",
    "                if 'dist-tags' not in data:\n",
    "                    print(f\"{package} is unpublished\")\n",
    "                    return {}\n",
    "            \n",
    "                latest_version = data[\"dist-tags\"][\"latest\"]\n",
    "                \n",
    "                package_details = {\n",
    "                    \"latest_version\": latest_version,\n",
    "                    \"keywords\": data.get(\"keywords\", []),\n",
    "                    \"publish_time\": convert_time_to_epoch(data[\"time\"][latest_version]),\n",
    "                    \"description\": data.get(\"description\", \"\"),\n",
    "                    \"creation_date\": data[\"time\"][\"created\"],\n",
    "                    \"number_of_versions\": len(data[\"versions\"]),\n",
    "                    \"dependencies\": data[\"versions\"][latest_version].get(\"dependencies\", {}), \n",
    "                    \"devDependencies\": data[\"versions\"][latest_version].get(\"devDependencies\", {}), \n",
    "                    \"peerDependencies\": data[\"versions\"][latest_version].get(\"peerDependencies\", {}), \n",
    "                }\n",
    "                \n",
    "                return package_details\n",
    "            \n",
    "            else:\n",
    "                print(f\"{package} failed with status code {res.status_code}\")\n",
    "                return {}\n",
    "                \n",
    "        except requests.exceptions.ConnectionError as ce:\n",
    "            if attempt < max_retries - 1:\n",
    "                print(f\"Failed to fetch {package} due to connection error: attempt {attempt + 1}\")\n",
    "            else:\n",
    "                print(\"Failed to fetch {package}: max attempts exceeded\")\n",
    "                return {}\n",
    "        except Exception as e:\n",
    "            print(\"EXCEPTION OCCURED\", package, e)"
   ],
   "outputs": [],
   "execution_count": 42
  },
  {
   "metadata": {
    "ExecuteTime": {
     "end_time": "2024-11-13T11:20:04.721907Z",
     "start_time": "2024-11-13T11:20:03.284204Z"
    }
   },
   "cell_type": "code",
   "source": "fetch_package_data(\"@types/recordrtc\")",
   "outputs": [
    {
     "data": {
      "text/plain": [
       "{'latest_version': '5.6.14',\n",
       " 'keywords': [],\n",
       " 'publish_time': '1699340797',\n",
       " 'description': 'TypeScript definitions for recordrtc',\n",
       " 'creation_date': '2020-08-06T00:41:07.911Z',\n",
       " 'number_of_versions': 15,\n",
       " 'dependencies': {},\n",
       " 'devDependencies': {},\n",
       " 'peerDependencies': {}}"
      ]
     },
     "execution_count": 99,
     "metadata": {},
     "output_type": "execute_result"
    }
   ],
   "execution_count": 99
  },
  {
   "metadata": {
    "ExecuteTime": {
     "end_time": "2024-11-13T10:27:06.545763Z",
     "start_time": "2024-11-13T10:27:06.542850Z"
    }
   },
   "cell_type": "code",
   "source": [
    "def limit_package_space(full_space, n):\n",
    "    limit_space = set()\n",
    "    for _ in range(n):\n",
    "        limit_space.add(full_space.pop())\n",
    "    return limit_space"
   ],
   "outputs": [],
   "execution_count": 44
  },
  {
   "metadata": {
    "ExecuteTime": {
     "end_time": "2024-11-13T11:24:02.116257Z",
     "start_time": "2024-11-13T11:24:02.091458Z"
    }
   },
   "cell_type": "code",
   "source": [
    "def build_package_space(max_workers=20, max_iters=2, test_mode=False, src='project'):\n",
    "    \n",
    "    package_space = []\n",
    "    \n",
    "    if src == 'github':\n",
    "        package_space = create_package_space_from_github_gist()\n",
    "    elif src == 'project':\n",
    "        package_space = create_package_space_from_project_json(\"./GithubScrape/Data/40_Projects/append_dependencies_40_1.json\")\n",
    "\n",
    "    \n",
    "    if test_mode:\n",
    "        package_space = limit_package_space(package_space, 20)\n",
    "        \n",
    "    package_space = filter_valid_package_names(package_space)\n",
    "    \n",
    "    fetched = set()\n",
    "    package_features = dict()\n",
    "    dep_graph = dict()\n",
    "    \n",
    "    feat_lock = threading.Lock()\n",
    "    graph_lock = threading.Lock()\n",
    "    fetched_lock = threading.Lock()\n",
    "    \n",
    "    data_fields = [\n",
    "        \"latest_version\",\n",
    "        \"keywords\",\n",
    "        \"publish_time\",\n",
    "        \"description\",\n",
    "        \"creation_date\", \n",
    "        \"number_of_versions\"\n",
    "    ]\n",
    "    \n",
    "    # THIS CODE IS FOR IF WE WANT TO INCLUDE MULTIPLE DEPENDENCY TYPES\n",
    "    # ----------------------------------------------------------------\n",
    "    # dep_types = [\n",
    "    #     (\"dependencies\", \"PROD\"), \n",
    "    #     (\"devDependencies\", \"DEV\"), \n",
    "    #     (\"peerDependencies\", \"PEER\")\n",
    "    # ]\n",
    "    \n",
    "    next_iter = set()\n",
    "    next_iter.update(package_space)\n",
    "    # print(next_iter)\n",
    "    \n",
    "    curr_iter = 1\n",
    "    \n",
    "    while (max_iters == -1 and len(next_iter) > 0) or curr_iter <= max_iters:\n",
    "        package_set, next_iter = next_iter, set()\n",
    "        \n",
    "        with ThreadPoolExecutor(max_workers=max_workers) as executor:\n",
    "            futures = { executor.submit(fetch_package_data, package): package for package in package_set }\n",
    "            \n",
    "            try: \n",
    "                for future in tqdm(as_completed(futures), total=len(futures), desc=f'Iteration {curr_iter}'):\n",
    "                    pkg = futures[future]\n",
    "                    package_data = future.result()\n",
    "                    \n",
    "                    with fetched_lock:\n",
    "                        fetched.add(pkg)\n",
    "                    \n",
    "                    if package_data != {}:\n",
    "                        with feat_lock, graph_lock:\n",
    "                            package_features[pkg] = {field: package_data[field] for field in data_fields}\n",
    "                            deps = {d: package_data[\"dependencies\"][d] for d in filter_valid_package_names(package_data[\"dependencies\"])}\n",
    "                            dep_graph[pkg] = deps\n",
    "                            next_iter.update(deps.keys())\n",
    "    \n",
    "                            # THIS CODE IS FOR IF WE WANT TO INCLUDE MULTIPLE DEPENDENCY TYPES\n",
    "                            # ----------------------------------------------------------------\n",
    "                            # dep = dict()\n",
    "                            # for d_type, code in dep_types:\n",
    "                            #     for d,v in package_data[d_type].items():\n",
    "                            #         dep[d] = (v, code)\n",
    "                            #         \n",
    "                            # dep_graph[pkg] = dep\n",
    "                            # \n",
    "                            # next_iter.update(package_data[\"dependencies\"].keys())\n",
    "                            # next_iter.update(package_data[\"devDependencies\"].keys())\n",
    "                            # next_iter.update(package_data[\"peerDependencies\"].keys())\n",
    "                            \n",
    "                            \n",
    "            except Exception as e:\n",
    "                print(e)\n",
    "                \n",
    "        next_iter.difference_update(fetched)\n",
    "        \n",
    "        print(f\"Next Iteration - {curr_iter + 1}: {len(next_iter)} packages\")\n",
    "        curr_iter += 1\n",
    "    \n",
    "    return package_features, dep_graph\n",
    "            "
   ],
   "outputs": [],
   "execution_count": 100
  },
  {
   "metadata": {
    "ExecuteTime": {
     "end_time": "2024-11-13T11:35:00.909634Z",
     "start_time": "2024-11-13T11:24:06.737277Z"
    }
   },
   "cell_type": "code",
   "source": "feats, graph = build_package_space(max_iters=-1)",
   "outputs": [
    {
     "data": {
      "text/plain": [
       "Iteration 1:   0%|          | 0/16773 [00:00<?, ?it/s]"
      ],
      "application/vnd.jupyter.widget-view+json": {
       "version_major": 2,
       "version_minor": 0,
       "model_id": "1bc36c867d5f499bac945ca7f0bd8d37"
      }
     },
     "metadata": {},
     "output_type": "display_data"
    },
    {
     "name": "stdout",
     "output_type": "stream",
     "text": [
      "@hcengineering/task failed with status code 404\n",
      "@vue/test-utils-vue3 failed with status code 404\n",
      "@dataspherestudio/shared failed with status code 404\n",
      "@hcengineering/model-chunter failed with status code 404\n",
      "@hcengineering/print-assets failed with status code 404\n",
      "@hcengineering/highlight failed with status code 404\n",
      "@hcengineering/presentation failed with status code 404\n",
      "@hcengineering/desktop-preferences failed with status code 404\n",
      "@hcengineering/login-resources failed with status code 404\n",
      "@tryghost/staff-service failed with status code 404\n",
      "pdfjs-dist-v4 failed with status code 404\n",
      "@hcengineering/request-resources failed with status code 404\n",
      "@hcengineering/server-recruit failed with status code 404\n",
      "@hcengineering/model-inventory failed with status code 404\n",
      "@tryghost/adapter-cache-redis failed with status code 404\n",
      "@hcengineering/model-tracker failed with status code 404\n",
      "@hcengineering/training failed with status code 404\n",
      "@hcengineering/notification failed with status code 404\n",
      "@tryghost/link-replacer failed with status code 404\n",
      "@hcengineering/server-contact failed with status code 404\n",
      "packages/notifications failed with status code 404\n",
      "@hcengineering/hr-assets failed with status code 404\n",
      "@hcengineering/calendar failed with status code 404\n",
      "@hcengineering/server-ai-bot failed with status code 404\n",
      "@hcengineering/server-telegram-resources failed with status code 404\n",
      "install-test is unpublished\n",
      "@hcengineering/analytics-collector-resources failed with status code 404\n",
      "@tryghost/recommendations failed with status code 404\n",
      "@hcengineering/recruit-assets failed with status code 404\n",
      "@reactioncommerce/api-plugin-promotions-coupons failed with status code 404\n",
      "@hcengineering/server-calendar-resources failed with status code 404\n",
      "@hcengineering/model-lead failed with status code 404\n",
      "@tryghost/importer-handler-content-files failed with status code 404\n",
      "@hcengineering/pod-telegram-bot failed with status code 404\n",
      "packages/api-test failed with status code 404\n",
      "@hcengineering/account failed with status code 404\n",
      "@tryghost/mailgun-client failed with status code 404\n",
      "@tryghost/referrers failed with status code 404\n",
      "@hcengineering/server-preference failed with status code 404\n",
      "@tryghost/link-redirects failed with status code 404\n",
      "@hcengineering/model-print failed with status code 404\n",
      "@hcengineering/model-products failed with status code 404\n",
      "@hcengineering/prod failed with status code 404\n",
      "@hcengineering/uploader-assets failed with status code 404\n",
      "@hcengineering/model-server-tracker failed with status code 404\n",
      "@hcengineering/server-tracker-resources failed with status code 404\n",
      "@hcengineering/model-server-core failed with status code 404\n",
      "@hcengineering/client failed with status code 404\n",
      "@tryghost/activitypub failed with status code 404\n",
      "@hcengineering/github-assets failed with status code 404\n",
      "@hcengineering/inventory-assets failed with status code 404\n",
      "@tryghost/dynamic-routing-events failed with status code 404\n",
      "@hcengineering/model-notification failed with status code 404\n",
      "@hcengineering/storage failed with status code 404\n",
      "@hcengineering/model-server-gmail failed with status code 404\n",
      "@hcengineering/server-setting failed with status code 404\n",
      "@hcengineering/model-bitrix failed with status code 404\n",
      "@hcengineering/model-server-products failed with status code 404\n",
      "@hcengineering/rpc failed with status code 404\n",
      "@hcengineering/preference-assets failed with status code 404\n",
      "@hcengineering/server-pipeline failed with status code 404\n",
      "@hcengineering/model-tags failed with status code 404\n",
      "@hcengineering/board-resources failed with status code 404\n",
      "@hcengineering/github-resources failed with status code 404\n",
      "@tryghost/identity-token-service failed with status code 404\n",
      "@hcengineering/notification-assets failed with status code 404\n",
      "@hcengineering/analytics-service failed with status code 404\n",
      "@hcengineering/text-editor-resources failed with status code 404\n",
      "@hcengineering/server-token failed with status code 404\n",
      "@hcengineering/model-guest failed with status code 404\n",
      "@tryghost/html-to-plaintext failed with status code 404\n",
      "@hcengineering/tracker-resources failed with status code 404\n",
      "@hcengineering/server-training failed with status code 404\n",
      "@hcengineering/task-assets failed with status code 404\n",
      "@tryghost/link-tracking failed with status code 404\n",
      "@reactioncommerce/api-plugin-fulfillment failed with status code 404\n",
      "@reactioncommerce/api-plugin-sequences failed with status code 404\n",
      "@tryghost/member-attribution failed with status code 404\n",
      "@hcengineering/view-resources failed with status code 404\n",
      "@hcengineering/collaborator failed with status code 404\n",
      "@hcengineering/model-server-ai-bot failed with status code 404\n",
      "@hcengineering/recruit-resources failed with status code 404\n",
      "@hcengineering/model-recruit failed with status code 404\n",
      "@hcengineering/devmodel-resources failed with status code 404\n",
      "@hcengineering/login-assets failed with status code 404\n",
      "@hcengineering/controlled-documents-assets failed with status code 404\n",
      "@hcengineering/setting-resources failed with status code 404\n",
      "@hcengineering/model-setting failed with status code 404\n",
      "@hcengineering/gmail-resources failed with status code 404\n",
      "@hcengineering/model-server-task failed with status code 404\n",
      "@hcengineering/workspace-service failed with status code 404\n",
      "@hcengineering/model-server-chunter failed with status code 404\n",
      "@hcengineering/ai-bot failed with status code 404\n",
      "@hcengineering/server-tags failed with status code 404\n",
      "@hcengineering/model-hr failed with status code 404\n",
      "@hcengineering/backup-service failed with status code 404\n",
      "@hcengineering/contact-resources failed with status code 404\n",
      "@hcengineering/lead failed with status code 404\n",
      "@hcengineering/model-desktop-preferences failed with status code 404\n",
      "@reactioncommerce/api-plugin-promotions failed with status code 404\n",
      "@hcengineering/server-recruit-resources failed with status code 404\n",
      "@hcengineering/server-controlled-documents failed with status code 404\n",
      "@hcengineering/model-github failed with status code 404\n",
      "@hcengineering/model-love failed with status code 404\n",
      "@hcengineering/ai-bot-resources failed with status code 404\n",
      "packages/data-provider failed with status code 404\n",
      "@hcengineering/server-time-resources failed with status code 404\n",
      "@hcengineering/model-templates failed with status code 404\n",
      "tsconfig-mod failed with status code 404\n",
      "@hcengineering/model-server-recruit failed with status code 404\n",
      "vuex-vue3 is unpublished\n",
      "@hcengineering/server-attachment failed with status code 404\n",
      "@hcengineering/model-server-controlled-documents failed with status code 404\n",
      "@hcengineering/desktop-preferences-resources failed with status code 404\n",
      "@hcengineering/platform-rig failed with status code 404\n",
      "@hcengineering/tags-resources failed with status code 404\n",
      "install-test1 failed with status code 404\n",
      "@hcengineering/model-server-document failed with status code 404\n",
      "@hcengineering/diffview-resources failed with status code 404\n",
      "@hcengineering/server-telegram failed with status code 404\n",
      "@hcengineering/model-drive failed with status code 404\n",
      "@hcengineering/mongo failed with status code 404\n",
      "@hcengineering/model-server-hr failed with status code 404\n",
      "@hcengineering/server-lead-resources failed with status code 404\n",
      "@hcengineering/templates-resources failed with status code 404\n",
      "packages/blog-cms failed with status code 404\n",
      "@hcengineering/workbench-resources failed with status code 404\n",
      "@tryghost/mail-events failed with status code 404\n",
      "@tryghost/email-service failed with status code 404\n",
      "@hcengineering/model-server-contact failed with status code 404\n",
      "@hcengineering/products-resources failed with status code 404\n",
      "@hcengineering/model-server-lead failed with status code 404\n",
      "@hcengineering/server-lead failed with status code 404\n",
      "@hcengineering/model-questions failed with status code 404\n",
      "@hcengineering/templates-assets failed with status code 404\n",
      "@hcengineering/notification-resources failed with status code 404\n",
      "@tryghost/bookshelf-repository failed with status code 404\n",
      "@hcengineering/lead-assets failed with status code 404\n",
      "@hcengineering/server-attachment-resources failed with status code 404\n",
      "@hcengineering/desktop failed with status code 404\n",
      "codemirror5 failed with status code 404\n",
      "elasticsearch8 failed with status code 404\n",
      "@hcengineering/chunter failed with status code 404\n",
      "@hcengineering/server-setting-resources failed with status code 404\n",
      "@hcengineering/model-analytics-collector failed with status code 404\n",
      "@hcengineering/model-core failed with status code 404\n",
      "@hcengineering/hr-resources failed with status code 404\n",
      "@hcengineering/telegram-assets failed with status code 404\n",
      "packages/blog failed with status code 404\n",
      "@pnpm.e2e/pkg-with-1-dep failed with status code 404\n",
      "@hcengineering/github failed with status code 404\n",
      "@hcengineering/activity-assets failed with status code 404\n",
      "@hcengineering/minio failed with status code 404\n",
      "@hcengineering/model-server-request failed with status code 404\n",
      "pdfjs-dist-v3 failed with status code 404\n",
      "@tryghost/api-framework failed with status code 404\n",
      "@hcengineering/server-core failed with status code 404\n",
      "@tryghost/in-memory-repository failed with status code 404\n",
      "@hcengineering/task-resources failed with status code 404\n",
      "@tryghost/collections failed with status code 404\n",
      "@hcengineering/telegram failed with status code 404\n",
      "@hcengineering/support-resources failed with status code 404\n",
      "@hcengineering/diffview failed with status code 404\n",
      "@hcengineering/model-server-tags failed with status code 404\n",
      "@hcengineering/server-document failed with status code 404\n",
      "@hcengineering/server-ws failed with status code 404\n",
      "@hcengineering/server-task failed with status code 404\n",
      "@hcengineering/rekoni failed with status code 404\n",
      "@hcengineering/model-preference failed with status code 404\n",
      "@tryghost/post-revisions failed with status code 404\n",
      "@reactioncommerce/api-plugin-fulfillment-type-shipping failed with status code 404\n",
      "@hcengineering/server-inventory failed with status code 404\n",
      "@tryghost/email-suppression-list failed with status code 404\n",
      "@hcengineering/guest-assets failed with status code 404\n",
      "@hcengineering/model-activity failed with status code 404\n",
      "@hcengineering/model-server-guest failed with status code 404\n",
      "elasticsearch6 failed with status code 404\n",
      "@hcengineering/inventory-resources failed with status code 404\n",
      "public-install-test failed with status code 404\n",
      "@hcengineering/server-github failed with status code 404\n",
      "@hcengineering/gmail failed with status code 404\n",
      "@hcengineering/model-server-notification failed with status code 404\n",
      "@hcengineering/model-server-setting failed with status code 404\n",
      "@hcengineering/server-drive failed with status code 404\n",
      "@tryghost/posts-service failed with status code 404\n",
      "@hcengineering/server-tracker failed with status code 404\n",
      "@tryghost/nql-filter-expansions failed with status code 404\n",
      "@hcengineering/model-training failed with status code 404\n",
      "@hcengineering/calendar-assets failed with status code 404\n",
      "@hcengineering/server-github-model failed with status code 404\n",
      "@hcengineering/desktop-preferences-assets failed with status code 404\n",
      "@tryghost/announcement-bar-settings failed with status code 404\n",
      "@hcengineering/server-guest failed with status code 404\n",
      "@hcengineering/model-server-attachment failed with status code 404\n",
      "@hcengineering/preference failed with status code 404\n",
      "@hcengineering/server-time failed with status code 404\n",
      "@hcengineering/time-resources failed with status code 404\n",
      "@hcengineering/analytics failed with status code 404\n",
      "@hcengineering/chunter-assets failed with status code 404\n",
      "@hcengineering/server-storage failed with status code 404\n",
      "@hcengineering/server-hr-resources failed with status code 404\n",
      "@hcengineering/support-assets failed with status code 404\n",
      "@hcengineering/questions-assets failed with status code 404\n",
      "@hcengineering/model-server-collaboration failed with status code 404\n",
      "@hcengineering/model failed with status code 404\n",
      "@hcengineering/text-editor-assets failed with status code 404\n",
      "@hcengineering/server-task-resources failed with status code 404\n",
      "@reactioncommerce/api-plugin-fulfillment-method-shipping-dynamic-rate failed with status code 404\n",
      "@tryghost/mw-version-match failed with status code 404\n",
      "@hcengineering/server-backup failed with status code 404\n",
      "@prettier/eslint failed with status code 404\n",
      "@tryghost/mw-vhost failed with status code 404\n",
      "@pnpm.e2e/dep-of-pkg-with-1-dep failed with status code 404\n",
      "@hcengineering/tracker failed with status code 404\n",
      "@hcengineering/recruit failed with status code 404\n",
      "@dataspherestudio/cyeditor failed with status code 404\n",
      "@hcengineering/server-view-resources failed with status code 404\n",
      "@hcengineering/model-text-editor failed with status code 404\n",
      "@hcengineering/account-service failed with status code 404\n",
      "@hcengineering/server-templates failed with status code 404\n",
      "@grafana/plugin-configs failed with status code 404\n",
      "@hcengineering/contact-assets failed with status code 404\n",
      "@hcengineering/attachment failed with status code 404\n",
      "@hcengineering/view failed with status code 404\n",
      "@hcengineering/model-calendar failed with status code 404\n",
      "@hcengineering/questions-resources failed with status code 404\n",
      "@hcengineering/request failed with status code 404\n",
      "@hcengineering/model-server-telegram failed with status code 404\n",
      "@tryghost/post-events failed with status code 404\n",
      "@joplin/default-plugins failed with status code 404\n",
      "@hcengineering/model-contact failed with status code 404\n",
      "@hcengineering/model-board failed with status code 404\n",
      "@hcengineering/server-contact-resources failed with status code 404\n",
      "@reactioncommerce/api-plugin-bull-queue failed with status code 404\n",
      "@hcengineering/time failed with status code 404\n",
      "@hcengineering/document-assets failed with status code 404\n",
      "@hcengineering/ui failed with status code 404\n",
      "@hcengineering/server-gmail failed with status code 404\n",
      "@hcengineering/server-hr failed with status code 404\n",
      "@hcengineering/model-telegram failed with status code 404\n",
      "@hcengineering/server-view failed with status code 404\n",
      "@hcengineering/onboard failed with status code 404\n",
      "@hcengineering/training-resources failed with status code 404\n",
      "@hcengineering/auth-providers failed with status code 404\n",
      "@hcengineering/server-ai-bot-resources failed with status code 404\n",
      "@hcengineering/server-tags-resources failed with status code 404\n",
      "@tryghost/email-addresses failed with status code 404\n",
      "@hcengineering/middleware failed with status code 404\n",
      "@hcengineering/model-server-time failed with status code 404\n",
      "@hcengineering/rank failed with status code 404\n",
      "@tryghost/model-to-domain-event-interceptor failed with status code 404\n",
      "@hcengineering/server-document-resources failed with status code 404\n",
      "@hcengineering/telegram-resources failed with status code 404\n",
      "@hcengineering/drive-assets failed with status code 404\n",
      "@hcengineering/model-attachment failed with status code 404\n",
      "@hcengineering/openai failed with status code 404\n",
      "@hcengineering/login failed with status code 404\n",
      "@hcengineering/server failed with status code 404\n",
      "packages/stripe failed with status code 404\n",
      "@tryghost/audience-feedback failed with status code 404\n",
      "@hcengineering/collaborator-client failed with status code 404\n",
      "@tryghost/i18n failed with status code 404\n",
      "@hcengineering/model-all failed with status code 404\n",
      "@hcengineering/model-server-templates failed with status code 404\n",
      "packages/with-postinstall failed with status code 404\n",
      "@hcengineering/attachment-assets failed with status code 404\n",
      "@hcengineering/model-ai-bot failed with status code 404\n",
      "@hcengineering/love-assets failed with status code 404\n",
      "@hcengineering/text-editor failed with status code 404\n",
      "@hcengineering/print-resources failed with status code 404\n",
      "@hcengineering/love-resources failed with status code 404\n",
      "@hcengineering/model-time failed with status code 404\n",
      "@hcengineering/server-controlled-documents-resources failed with status code 404\n",
      "@hcengineering/document failed with status code 404\n",
      "@hcengineering/view-assets failed with status code 404\n",
      "@hcengineering/model-server-training failed with status code 404\n",
      "@hcengineering/server-training-resources failed with status code 404\n",
      "@hcengineering/server-tool failed with status code 404\n",
      "@tryghost/oembed-service failed with status code 404\n",
      "@hcengineering/server-inventory-resources failed with status code 404\n",
      "@hcengineering/server-collaboration-resources failed with status code 404\n",
      "@hcengineering/model-server-love failed with status code 404\n",
      "@hcengineering/hr failed with status code 404\n",
      "@hcengineering/client-resources failed with status code 404\n",
      "@hcengineering/model-view failed with status code 404\n",
      "@hcengineering/datalake failed with status code 404\n",
      "@hcengineering/model-presentation failed with status code 404\n",
      "@hcengineering/server-guest-resources failed with status code 404\n",
      "@hcengineering/activity-resources failed with status code 404\n",
      "@hcengineering/bitrix-resources failed with status code 404\n",
      "@reactioncommerce/api-plugin-promotions-discounts failed with status code 404\n",
      "@hcengineering/support failed with status code 404\n",
      "@joplin/editor failed with status code 404\n",
      "@hcengineering/setting-assets failed with status code 404\n",
      "@hcengineering/server-love-resources failed with status code 404\n",
      "@hcengineering/tags failed with status code 404\n",
      "@hcengineering/tags-assets failed with status code 404\n",
      "@hcengineering/diffview-assets failed with status code 404\n",
      "@hcengineering/controlled-documents failed with status code 404\n",
      "@hcengineering/guest-resources failed with status code 404\n",
      "@hcengineering/devmodel failed with status code 404\n",
      "packages/foam-vscode failed with status code 404\n",
      "@hcengineering/attachment-resources failed with status code 404\n",
      "@hcengineering/tracker-assets failed with status code 404\n",
      "@hcengineering/front failed with status code 404\n",
      "@hcengineering/training-assets failed with status code 404\n",
      "@tryghost/data-generator failed with status code 404\n",
      "@hcengineering/postgres failed with status code 404\n",
      "packages/portal failed with status code 404\n",
      "@tryghost/tiers failed with status code 404\n",
      "@hcengineering/server-notification failed with status code 404\n",
      "@tryghost/mw-cache-control failed with status code 404\n",
      "@hcengineering/contact failed with status code 404\n",
      "@hcengineering/model-server-activity failed with status code 404\n",
      "@hcengineering/server-notification-resources failed with status code 404\n",
      "@hcengineering/sign failed with status code 404\n",
      "@hcengineering/image-cropper-resources failed with status code 404\n",
      "@hcengineering/bitrix-assets failed with status code 404\n",
      "@hcengineering/model-support failed with status code 404\n",
      "@tryghost/admin-x-framework failed with status code 404\n",
      "@hcengineering/gmail-assets failed with status code 404\n",
      "@hcengineering/kanban failed with status code 404\n",
      "@hcengineering/calendar-resources failed with status code 404\n",
      "@tryghost/importer-revue failed with status code 404\n",
      "@hcengineering/uploader failed with status code 404\n",
      "@hcengineering/love failed with status code 404\n",
      "@hcengineering/server-calendar failed with status code 404\n",
      "@hcengineering/model-server-drive failed with status code 404\n",
      "@hcengineering/model-document failed with status code 404\n",
      "@hcengineering/products-assets failed with status code 404\n",
      "@tryghost/custom-fonts failed with status code 404\n",
      "@pnpm.e2e/external-depend-on-internal-dep failed with status code 404\n",
      "@medusajs/toolbox failed with status code 404\n",
      "packages/testing failed with status code 404\n",
      "@hcengineering/server-chunter-resources failed with status code 404\n",
      "@hcengineering/model-server-view failed with status code 404\n",
      "@tryghost/email-events failed with status code 404\n",
      "@hcengineering/panel failed with status code 404\n",
      "@reactioncommerce/api-plugin-fulfillment-method-pickup-store failed with status code 404\n",
      "@hcengineering/workbench failed with status code 404\n",
      "@hcengineering/activity failed with status code 404\n",
      "@hcengineering/drive failed with status code 404\n",
      "@hcengineering/server-request-resources failed with status code 404\n",
      "@hcengineering/server-request failed with status code 404\n",
      "elasticsearch7 failed with status code 404\n",
      "packages/second failed with status code 404\n",
      "@hcengineering/core failed with status code 404\n",
      "@hcengineering/onboard-assets failed with status code 404\n",
      "@tryghost/milestones failed with status code 404\n",
      "@hcengineering/analytics-collector failed with status code 404\n",
      "@tryghost/external-media-inliner failed with status code 404\n",
      "@hcengineering/image-cropper failed with status code 404\n",
      "@tryghost/prometheus-metrics failed with status code 404\n",
      "@hcengineering/model-server-calendar failed with status code 404\n",
      "@hcengineering/board-assets failed with status code 404\n",
      "@tryghost/admin-x-design-system failed with status code 404\n",
      "@hcengineering/model-workbench failed with status code 404\n",
      "@hcengineering/chunter-resources failed with status code 404\n",
      "@hcengineering/query failed with status code 404\n",
      "@reactioncommerce/api-plugin-fulfillment-method-shipping-flat-rate failed with status code 404\n",
      "@hcengineering/s3 failed with status code 404\n",
      "@hcengineering/collaboration failed with status code 404\n",
      "@hcengineering/setting failed with status code 404\n",
      "@hcengineering/text failed with status code 404\n",
      "@hcengineering/products failed with status code 404\n",
      "@reactioncommerce/api-plugin-fulfillment-type-pickup failed with status code 404\n",
      "@hcengineering/server-github-resources failed with status code 404\n",
      "@hcengineering/server-activity-resources failed with status code 404\n",
      "@hcengineering/guest failed with status code 404\n",
      "@hcengineering/model-gmail failed with status code 404\n",
      "@next/swc failed with status code 404\n",
      "@hcengineering/platform failed with status code 404\n",
      "@hcengineering/server-indexer failed with status code 404\n",
      "@hcengineering/model-request failed with status code 404\n",
      "@hcengineering/model-uploader failed with status code 404\n",
      "@hcengineering/model-task failed with status code 404\n",
      "@types/codemirror5 failed with status code 404\n",
      "@hcengineering/board failed with status code 404\n",
      "@hcengineering/drive-resources failed with status code 404\n",
      "@hcengineering/server-drive-resources failed with status code 404\n",
      "@hcengineering/server-activity failed with status code 404\n",
      "@hcengineering/elastic failed with status code 404\n",
      "@hcengineering/questions failed with status code 404\n",
      "@hcengineering/request-assets failed with status code 404\n",
      "@tryghost/webmentions failed with status code 404\n",
      "@hcengineering/model-server-inventory failed with status code 404\n",
      "@hcengineering/server-gmail-resources failed with status code 404\n",
      "@hcengineering/time-assets failed with status code 404\n",
      "@hcengineering/print failed with status code 404\n",
      "packages/api failed with status code 404\n",
      "vue-loader-vue3 failed with status code 404\n",
      "@hcengineering/onboard-resources failed with status code 404\n",
      "@hcengineering/controlled-documents-resources failed with status code 404\n",
      "@hcengineering/bitrix failed with status code 404\n",
      "@hcengineering/analytics-collector-assets failed with status code 404\n",
      "@hcengineering/server-chunter failed with status code 404\n",
      "@hcengineering/server-analytics-collector-resources failed with status code 404\n",
      "@hcengineering/lead-resources failed with status code 404\n",
      "@hcengineering/theme failed with status code 404\n",
      "@hcengineering/server-love failed with status code 404\n",
      "@reactioncommerce/api-plugin-promotions-offers failed with status code 404\n",
      "@tryghost/mentions-email-report failed with status code 404\n",
      "@dataspherestudio/scriptis failed with status code 404\n",
      "@hcengineering/workbench-assets failed with status code 404\n",
      "@hcengineering/uploader-resources failed with status code 404\n",
      "@tryghost/ghost failed with status code 404\n",
      "packages/body-parser failed with status code 404\n",
      "@joplin/react-native-alarm-notification failed with status code 404\n",
      "@hcengineering/server-collaboration failed with status code 404\n",
      "@hcengineering/templates failed with status code 404\n",
      "@hcengineering/inventory failed with status code 404\n",
      "@tryghost/donations failed with status code 404\n",
      "@hcengineering/server-client failed with status code 404\n",
      "google-caja-bower failed with status code 404\n",
      "@hcengineering/model-controlled-documents failed with status code 404\n",
      "@tryghost/slack-notifications failed with status code 404\n",
      "@hcengineering/document-resources failed with status code 404\n",
      "Next Iteration - 2: 1326 packages\n"
     ]
    },
    {
     "data": {
      "text/plain": [
       "Iteration 2:   0%|          | 0/1326 [00:00<?, ?it/s]"
      ],
      "application/vnd.jupyter.widget-view+json": {
       "version_major": 2,
       "version_minor": 0,
       "model_id": "8a899263027b42628c14e37fd300daf4"
      }
     },
     "metadata": {},
     "output_type": "display_data"
    },
    {
     "name": "stdout",
     "output_type": "stream",
     "text": [
      "cbw-sdk failed with status code 404\n",
      "@azure/functions-old failed with status code 404\n",
      "@babel/traverse--for-generate-function-map failed with status code 404\n",
      "@vue/vue-loader-v15 failed with status code 404\n",
      "Next Iteration - 3: 604 packages\n"
     ]
    },
    {
     "data": {
      "text/plain": [
       "Iteration 3:   0%|          | 0/604 [00:00<?, ?it/s]"
      ],
      "application/vnd.jupyter.widget-view+json": {
       "version_major": 2,
       "version_minor": 0,
       "model_id": "cdeb3df81b314200b6107911081f2d17"
      }
     },
     "metadata": {},
     "output_type": "display_data"
    },
    {
     "name": "stdout",
     "output_type": "stream",
     "text": [
      "@stdlib/complex-float64-base-assert failed with status code 404\n",
      "typescript-5.7 failed with status code 404\n",
      "typescript-5.5 failed with status code 404\n",
      "typescript-5.8 failed with status code 404\n",
      "typescript-5.4 failed with status code 404\n",
      "typescript-5.0 failed with status code 404\n",
      "typescript-5.1 failed with status code 404\n",
      "typescript-5.3 failed with status code 404\n",
      "typescript-4.9 failed with status code 404\n",
      "typescript-5.6 failed with status code 404\n",
      "typescript-5.2 failed with status code 404\n",
      "Next Iteration - 4: 208 packages\n"
     ]
    },
    {
     "data": {
      "text/plain": [
       "Iteration 4:   0%|          | 0/208 [00:00<?, ?it/s]"
      ],
      "application/vnd.jupyter.widget-view+json": {
       "version_major": 2,
       "version_minor": 0,
       "model_id": "014a70dd31ad45d89d1f80039012be66"
      }
     },
     "metadata": {},
     "output_type": "display_data"
    },
    {
     "name": "stdout",
     "output_type": "stream",
     "text": [
      "Next Iteration - 5: 35 packages\n"
     ]
    },
    {
     "data": {
      "text/plain": [
       "Iteration 5:   0%|          | 0/35 [00:00<?, ?it/s]"
      ],
      "application/vnd.jupyter.widget-view+json": {
       "version_major": 2,
       "version_minor": 0,
       "model_id": "877c51b5cd2c4d1383109dfdbf87c83f"
      }
     },
     "metadata": {},
     "output_type": "display_data"
    },
    {
     "name": "stdout",
     "output_type": "stream",
     "text": [
      "Next Iteration - 6: 21 packages\n"
     ]
    },
    {
     "data": {
      "text/plain": [
       "Iteration 6:   0%|          | 0/21 [00:00<?, ?it/s]"
      ],
      "application/vnd.jupyter.widget-view+json": {
       "version_major": 2,
       "version_minor": 0,
       "model_id": "db11e4d8a3a44bf483521e9c8f42c56e"
      }
     },
     "metadata": {},
     "output_type": "display_data"
    },
    {
     "name": "stdout",
     "output_type": "stream",
     "text": [
      "Next Iteration - 7: 3 packages\n"
     ]
    },
    {
     "data": {
      "text/plain": [
       "Iteration 7:   0%|          | 0/3 [00:00<?, ?it/s]"
      ],
      "application/vnd.jupyter.widget-view+json": {
       "version_major": 2,
       "version_minor": 0,
       "model_id": "f5e6621483054ce9aaf6c71c8bf3b8a9"
      }
     },
     "metadata": {},
     "output_type": "display_data"
    },
    {
     "name": "stdout",
     "output_type": "stream",
     "text": [
      "Next Iteration - 8: 1 packages\n"
     ]
    },
    {
     "data": {
      "text/plain": [
       "Iteration 8:   0%|          | 0/1 [00:00<?, ?it/s]"
      ],
      "application/vnd.jupyter.widget-view+json": {
       "version_major": 2,
       "version_minor": 0,
       "model_id": "b2db59ea37034a50bd51560773ba0534"
      }
     },
     "metadata": {},
     "output_type": "display_data"
    },
    {
     "name": "stdout",
     "output_type": "stream",
     "text": [
      "Next Iteration - 9: 0 packages\n"
     ]
    }
   ],
   "execution_count": 101
  },
  {
   "metadata": {
    "ExecuteTime": {
     "end_time": "2024-11-13T11:35:05.608868Z",
     "start_time": "2024-11-13T11:35:05.586868Z"
    }
   },
   "cell_type": "code",
   "source": [
    "# divide into scoped and unscoped packages\n",
    "scoped = []\n",
    "unscoped = []\n",
    "for package in feats.keys():\n",
    "    if package.find(\"@\") != -1:\n",
    "        scoped.append((package, feats[package][\"creation_date\"]))\n",
    "    else:\n",
    "        unscoped.append(package)\n",
    "print(f'scoped: {len(scoped)}\\tunscoped: {len(unscoped)}')"
   ],
   "outputs": [
    {
     "name": "stdout",
     "output_type": "stream",
     "text": [
      "scoped: 7672\tunscoped: 10867\n"
     ]
    }
   ],
   "execution_count": 102
  },
  {
   "metadata": {
    "ExecuteTime": {
     "end_time": "2024-11-13T11:35:07.849211Z",
     "start_time": "2024-11-13T11:35:07.828622Z"
    }
   },
   "cell_type": "code",
   "source": [
    "chunks = []\n",
    "for i in range(0, len(unscoped), 128):\n",
    "    chunks.append(unscoped[i:i + 128])\n",
    "print(len(chunks))"
   ],
   "outputs": [
    {
     "name": "stdout",
     "output_type": "stream",
     "text": [
      "85\n"
     ]
    }
   ],
   "execution_count": 103
  },
  {
   "metadata": {
    "ExecuteTime": {
     "end_time": "2024-11-13T11:35:33.411695Z",
     "start_time": "2024-11-13T11:35:33.384119Z"
    }
   },
   "cell_type": "code",
   "source": [
    "# CAN GET DOWNLOAD COUNTS FOR UNSCOPED PACKAGES IN BULK\n",
    "\n",
    "def get_all_time_download_counts_bulk(packages, format=\"%Y-%m-%d\"):\n",
    "    start_date = datetime(day=10, month=1, year=2015).date()\n",
    "    curr_date = datetime.now().date()\n",
    "    \n",
    "    intervals = []\n",
    "    while start_date < curr_date:\n",
    "        interval_end = min(start_date + timedelta(days=365), curr_date)\n",
    "        intervals.append(f'{start_date.strftime(format)}:{interval_end.strftime(format)}')\n",
    "        start_date = interval_end + timedelta(days=1)\n",
    "        \n",
    "    download_counts = {package: 0 for package in packages}\n",
    "    for interval in intervals:\n",
    "        url = f\"https://api.npmjs.org/downloads/point/{interval}/{','.join(packages)}\"\n",
    "        res = requests.get(url)\n",
    "        if res.status_code == 200:\n",
    "            download_data = res.json()\n",
    "            for package in packages:\n",
    "                try:\n",
    "                    download_counts[package] += download_data[package][\"downloads\"]\n",
    "                except Exception as e:\n",
    "                    print(f\"[ERROR] getting download count for {package}\")\n",
    "    \n",
    "    return download_counts\n",
    "    "
   ],
   "outputs": [],
   "execution_count": 105
  },
  {
   "metadata": {
    "ExecuteTime": {
     "end_time": "2024-11-13T11:38:14.137774Z",
     "start_time": "2024-11-13T11:35:36.023989Z"
    }
   },
   "cell_type": "code",
   "source": [
    "with ThreadPoolExecutor(max_workers=5) as executor:\n",
    "    futures = { executor.submit(get_all_time_download_counts_bulk, chunk): chunk for chunk in chunks }\n",
    "    \n",
    "    for future in tqdm(as_completed(futures), total=len(futures), desc=\"Getting download counts for unscoped packages\"):\n",
    "        for package, count in future.result().items():\n",
    "            feats[package][\"download_count\"] = count"
   ],
   "outputs": [
    {
     "data": {
      "text/plain": [
       "Getting download counts for unscoped packages:   0%|          | 0/85 [00:00<?, ?it/s]"
      ],
      "application/vnd.jupyter.widget-view+json": {
       "version_major": 2,
       "version_minor": 0,
       "model_id": "28350d2b36a743f8b2821bcb446c84ce"
      }
     },
     "metadata": {},
     "output_type": "display_data"
    }
   ],
   "execution_count": 106
  },
  {
   "metadata": {
    "ExecuteTime": {
     "end_time": "2024-11-13T11:38:17.456977Z",
     "start_time": "2024-11-13T11:38:17.454753Z"
    }
   },
   "cell_type": "code",
   "source": "print(f'{feats[\"semver\"][\"download_count\"]:,}')",
   "outputs": [
    {
     "name": "stdout",
     "output_type": "stream",
     "text": [
      "50,318,547,289\n"
     ]
    }
   ],
   "execution_count": 107
  },
  {
   "metadata": {
    "ExecuteTime": {
     "end_time": "2024-11-13T11:38:24.106242Z",
     "start_time": "2024-11-13T11:38:21.837737Z"
    }
   },
   "cell_type": "code",
   "source": [
    "# FOR UNSCOPED, update download function to process one package concurrently\n",
    "def get_year_downloads(package, interval):\n",
    "    url = f\"https://api.npmjs.org/downloads/point/{interval}/{package}\"\n",
    "    res = requests.get(url)\n",
    "    if res.status_code == 200:\n",
    "        return res.json()[\"downloads\"]\n",
    "    \n",
    "    return 0\n",
    "\n",
    "\n",
    "def get_all_time_download_count_concurrent(package, creation_date, format=\"%Y-%m-%d\", max_workers=3):\n",
    "    create_date = creation_date.replace('Z', '+00:00')\n",
    "    create_date = datetime.fromisoformat(create_date)\n",
    "    \n",
    "    start_date = max(datetime(day=10, month=1, year=2015).date(), create_date.date())\n",
    "    curr_date = datetime.now().date()\n",
    "    \n",
    "    intervals = []\n",
    "    while start_date < curr_date:\n",
    "        interval_end = min(start_date + timedelta(days=547), curr_date)\n",
    "        intervals.append(f'{start_date.strftime(format)}:{interval_end.strftime(format)}')\n",
    "        start_date = interval_end + timedelta(days=1)\n",
    "            \n",
    "    with ThreadPoolExecutor(max_workers=max_workers) as executor:\n",
    "        futures = { executor.submit(get_year_downloads, package, interval): interval for interval in intervals }\n",
    "        download_count = 0\n",
    "\n",
    "        for future in futures:\n",
    "            download_count += future.result()\n",
    "\n",
    "        return download_count\n",
    "\n",
    "# test function\n",
    "count = get_all_time_download_count_concurrent(\"semver\", \"2011-02-12T00:20:25.690Z\")\n",
    "print(f'{count:,}')\n",
    "    "
   ],
   "outputs": [
    {
     "name": "stdout",
     "output_type": "stream",
     "text": [
      "50,312,083,152\n"
     ]
    }
   ],
   "execution_count": 108
  },
  {
   "metadata": {
    "ExecuteTime": {
     "end_time": "2024-11-13T11:39:01.288014Z",
     "start_time": "2024-11-13T11:39:01.273642Z"
    }
   },
   "cell_type": "code",
   "source": [
    "def get_package_download_count(package, date, max_retries=3, max_workers=3):\n",
    "    for attempt in range(max_retries):\n",
    "        try:\n",
    "            download_count = get_all_time_download_count_concurrent(package, date, max_workers=max_workers)\n",
    "            return download_count\n",
    "        except requests.exceptions.ConnectionError as e:\n",
    "            if attempt < max_retries - 1:\n",
    "                print(f'Failed getting count for {package}: attempt {attempt + 1}')\n",
    "            else:\n",
    "                print(f'Failed getting count for {package}: max retries exceeded')\n",
    "    return -1\n",
    "\n",
    "def get_download_counts_scoped_concurrent(packages, max_retries=3, max_workers=2, max_sub_workers=3):\n",
    "    with ThreadPoolExecutor(max_workers=max_workers) as executor:\n",
    "        futures = { executor.submit(get_package_download_count, package, date, max_workers=max_sub_workers): package for package, date in packages }\n",
    "        \n",
    "        for future in tqdm(as_completed(futures), total=len(futures), desc=\"Scoped Packages\"):\n",
    "            package = futures[future]\n",
    "            download_count = future.result()\n",
    "            feats[package][\"download_count\"] = download_count\n",
    "            "
   ],
   "outputs": [],
   "execution_count": 109
  },
  {
   "metadata": {
    "ExecuteTime": {
     "end_time": "2024-11-13T15:33:28.703943Z",
     "start_time": "2024-11-13T14:51:57.612585Z"
    }
   },
   "cell_type": "code",
   "source": "get_download_counts_scoped_concurrent(scoped, max_workers=4, max_sub_workers=3)",
   "outputs": [
    {
     "data": {
      "text/plain": [
       "Scoped Packages:   0%|          | 0/7672 [00:00<?, ?it/s]"
      ],
      "application/vnd.jupyter.widget-view+json": {
       "version_major": 2,
       "version_minor": 0,
       "model_id": "efbd4ac9611f4487ab3dee9a357c2e9c"
      }
     },
     "metadata": {},
     "output_type": "display_data"
    }
   ],
   "execution_count": 112
  },
  {
   "metadata": {
    "ExecuteTime": {
     "end_time": "2024-11-13T15:39:57.995942Z",
     "start_time": "2024-11-13T15:39:57.839883Z"
    }
   },
   "cell_type": "code",
   "source": [
    "with open(\"./dataset/dep-graph.json\", mode=\"w\") as file:\n",
    "    json.dump(graph, file, indent=4)"
   ],
   "outputs": [],
   "execution_count": 113
  },
  {
   "metadata": {
    "ExecuteTime": {
     "end_time": "2024-11-13T15:39:59.560528Z",
     "start_time": "2024-11-13T15:39:59.023101Z"
    }
   },
   "cell_type": "code",
   "source": [
    "with open(\"./dataset/package-features.json\", mode=\"w\") as file:\n",
    "    json.dump(feats, file, indent=4)"
   ],
   "outputs": [],
   "execution_count": 114
  },
  {
   "metadata": {
    "ExecuteTime": {
     "end_time": "2024-11-13T15:40:00.762856Z",
     "start_time": "2024-11-13T15:40:00.750502Z"
    }
   },
   "cell_type": "code",
   "source": [
    "print(len(feats.keys()))\n",
    "print(len(graph.keys()))"
   ],
   "outputs": [
    {
     "name": "stdout",
     "output_type": "stream",
     "text": [
      "18539\n",
      "18539\n"
     ]
    }
   ],
   "execution_count": 115
  },
  {
   "metadata": {
    "ExecuteTime": {
     "end_time": "2024-11-13T15:42:56.713190Z",
     "start_time": "2024-11-13T15:42:56.570300Z"
    }
   },
   "cell_type": "code",
   "source": [
    "edges = []\n",
    "\n",
    "for package, deps in graph.items():\n",
    "    if len(deps) > 0:\n",
    "        for dep, version in deps.items():\n",
    "            edges.append((package, dep, version))\n",
    "\n",
    "headers = ['package', 'dependency', 'version']\n",
    "df = pd.DataFrame(edges, columns=headers)\n",
    "df.head()"
   ],
   "outputs": [
    {
     "data": {
      "text/plain": [
       "                package              dependency version\n",
       "0    @floating-ui/react      @floating-ui/utils  ^0.2.8\n",
       "1    @floating-ui/react                tabbable  ^6.0.0\n",
       "2    @floating-ui/react  @floating-ui/react-dom  ^2.1.2\n",
       "3          from2-string                   from2  ^2.0.3\n",
       "4  github-url-to-object                  is-url  ^1.1.0"
      ],
      "text/html": [
       "<div>\n",
       "<style scoped>\n",
       "    .dataframe tbody tr th:only-of-type {\n",
       "        vertical-align: middle;\n",
       "    }\n",
       "\n",
       "    .dataframe tbody tr th {\n",
       "        vertical-align: top;\n",
       "    }\n",
       "\n",
       "    .dataframe thead th {\n",
       "        text-align: right;\n",
       "    }\n",
       "</style>\n",
       "<table border=\"1\" class=\"dataframe\">\n",
       "  <thead>\n",
       "    <tr style=\"text-align: right;\">\n",
       "      <th></th>\n",
       "      <th>package</th>\n",
       "      <th>dependency</th>\n",
       "      <th>version</th>\n",
       "    </tr>\n",
       "  </thead>\n",
       "  <tbody>\n",
       "    <tr>\n",
       "      <th>0</th>\n",
       "      <td>@floating-ui/react</td>\n",
       "      <td>@floating-ui/utils</td>\n",
       "      <td>^0.2.8</td>\n",
       "    </tr>\n",
       "    <tr>\n",
       "      <th>1</th>\n",
       "      <td>@floating-ui/react</td>\n",
       "      <td>tabbable</td>\n",
       "      <td>^6.0.0</td>\n",
       "    </tr>\n",
       "    <tr>\n",
       "      <th>2</th>\n",
       "      <td>@floating-ui/react</td>\n",
       "      <td>@floating-ui/react-dom</td>\n",
       "      <td>^2.1.2</td>\n",
       "    </tr>\n",
       "    <tr>\n",
       "      <th>3</th>\n",
       "      <td>from2-string</td>\n",
       "      <td>from2</td>\n",
       "      <td>^2.0.3</td>\n",
       "    </tr>\n",
       "    <tr>\n",
       "      <th>4</th>\n",
       "      <td>github-url-to-object</td>\n",
       "      <td>is-url</td>\n",
       "      <td>^1.1.0</td>\n",
       "    </tr>\n",
       "  </tbody>\n",
       "</table>\n",
       "</div>"
      ]
     },
     "execution_count": 116,
     "metadata": {},
     "output_type": "execute_result"
    }
   ],
   "execution_count": 116
  },
  {
   "metadata": {
    "ExecuteTime": {
     "end_time": "2024-11-13T15:43:00.490690Z",
     "start_time": "2024-11-13T15:43:00.476434Z"
    }
   },
   "cell_type": "code",
   "source": "len(df)",
   "outputs": [
    {
     "data": {
      "text/plain": [
       "53208"
      ]
     },
     "execution_count": 117,
     "metadata": {},
     "output_type": "execute_result"
    }
   ],
   "execution_count": 117
  },
  {
   "metadata": {
    "ExecuteTime": {
     "end_time": "2024-11-13T10:45:57.943071Z",
     "start_time": "2024-11-13T10:45:57.788572Z"
    }
   },
   "cell_type": "code",
   "source": "df.to_csv(\"./dataset/dep-graph.csv\", index=False)",
   "outputs": [],
   "execution_count": 59
  },
  {
   "cell_type": "code",
   "source": [
    "feat_data = []\n",
    "headers = ['package', 'latest_version', 'keywords', 'publish_time', 'description', 'creation_date', 'number_of_versions', 'download_count']\n",
    "for package, feats in feats.items():\n",
    "    feat_data.append([package] + list(feats.values()))\n",
    "\n",
    "feat_df = pd.DataFrame(feat_data, columns=headers)\n",
    "feat_df.head()"
   ],
   "metadata": {
    "collapsed": false
   },
   "outputs": [],
   "execution_count": null
  },
  {
   "metadata": {
    "ExecuteTime": {
     "end_time": "2024-11-08T19:08:06.573704Z",
     "start_time": "2024-11-08T19:08:06.506450Z"
    }
   },
   "cell_type": "code",
   "source": "feat_df.to_csv(\"./dataset/package-feats.csv\", index=False)",
   "outputs": [],
   "execution_count": 21
  },
  {
   "metadata": {
    "ExecuteTime": {
     "end_time": "2024-11-09T03:56:23.133083Z",
     "start_time": "2024-11-09T03:56:23.115757Z"
    }
   },
   "cell_type": "code",
   "source": "len(feat_df)",
   "outputs": [
    {
     "data": {
      "text/plain": [
       "12370"
      ]
     },
     "execution_count": 73,
     "metadata": {},
     "output_type": "execute_result"
    }
   ],
   "execution_count": 73
  },
  {
   "metadata": {},
   "cell_type": "markdown",
   "source": "## Pagerank"
  },
  {
   "cell_type": "code",
   "source": [
    "import pandas as pd\n",
    "import networkx as nx\n",
    "from scipy.sparse import csr_matrix\n",
    "\n",
    "dep_df = pd.read_csv(\"./dataset/dep-graph.csv\")"
   ],
   "metadata": {
    "collapsed": false,
    "ExecuteTime": {
     "end_time": "2024-11-13T10:46:02.530398Z",
     "start_time": "2024-11-13T10:46:02.488621Z"
    }
   },
   "outputs": [],
   "execution_count": 60
  },
  {
   "cell_type": "code",
   "source": [
    "sources = set(dep_df['package'].unique())\n",
    "deps = set(dep_df['dependency'].unique())\n",
    "pkg_space = sources.union(deps)\n",
    "\n",
    "print(\"Unique packages in packages column\", len(sources))\n",
    "print(\"Unique packages in dependency column\", len(deps))\n",
    "print(\"Total unique\", len(pkg_space))"
   ],
   "metadata": {
    "collapsed": false,
    "ExecuteTime": {
     "end_time": "2024-11-13T10:46:03.804057Z",
     "start_time": "2024-11-13T10:46:03.758087Z"
    }
   },
   "outputs": [
    {
     "name": "stdout",
     "output_type": "stream",
     "text": [
      "Unique packages in packages column 11717\n",
      "Unique packages in dependency column 13220\n",
      "Total unique 16568\n"
     ]
    }
   ],
   "execution_count": 61
  },
  {
   "metadata": {
    "ExecuteTime": {
     "end_time": "2024-11-13T10:46:07.570727Z",
     "start_time": "2024-11-13T10:46:06.266961Z"
    }
   },
   "cell_type": "code",
   "source": [
    "no_out = {p for p, d in graph.items() if len(d) == 0}\n",
    "print(\"Nodes with 0 out-degree:\", len(no_out))\n",
    "\n",
    "with_in = set()\n",
    "for dependencies in graph.values():\n",
    "    with_in.update(dependencies)\n",
    "\n",
    "no_in = no_out - with_in\n",
    "\n",
    "print(\"Nodes with 0 in-degree and 0 out-degree:\", len(no_in))\n",
    "\n",
    "json_str = json.dumps(json.load(open(\"./playground/dep-graph.json\")))\n",
    "from_original = [p for p in no_in if json_str.find(p) != -1]\n",
    "print(\"Nodes with 0 in- and out-degree from source:\", len(from_original))"
   ],
   "outputs": [
    {
     "name": "stdout",
     "output_type": "stream",
     "text": [
      "Nodes with 0 out-degree: 6833\n",
      "Nodes with 0 in-degree and 0 out-degree: 1999\n",
      "Nodes with 0 in- and out-degree from source: 295\n"
     ]
    }
   ],
   "execution_count": 62
  },
  {
   "metadata": {
    "ExecuteTime": {
     "end_time": "2024-11-13T10:46:10.861238Z",
     "start_time": "2024-11-13T10:46:10.744129Z"
    }
   },
   "cell_type": "code",
   "source": [
    "# build adjacency matrix\n",
    "G = nx.from_pandas_edgelist(dep_df, source='package', target='dependency', create_using=nx.DiGraph)\n",
    "adj_matrix_sparse = csr_matrix(nx.adjacency_matrix(G))\n",
    "print(\"Adjacency Matrix shape:\", adj_matrix_sparse.shape)\n",
    "print(\"G:\", G)"
   ],
   "outputs": [
    {
     "name": "stdout",
     "output_type": "stream",
     "text": [
      "Adjacency Matrix shape: (16568, 16568)\n",
      "G: DiGraph with 16568 nodes and 53280 edges\n"
     ]
    }
   ],
   "execution_count": 63
  },
  {
   "metadata": {
    "ExecuteTime": {
     "end_time": "2024-11-13T10:46:13.292383Z",
     "start_time": "2024-11-13T10:46:13.187079Z"
    }
   },
   "cell_type": "code",
   "source": [
    "# Perform Pagerank\n",
    "ranks = nx.pagerank(G, alpha=0.25)\n",
    "ranks = list(ranks.items())\n",
    "ranks.sort(key=lambda x: x[1], reverse=True)\n",
    "ranks[:10]"
   ],
   "outputs": [
    {
     "data": {
      "text/plain": [
       "[('tslib', 0.004478827384936972),\n",
       " ('@babel/runtime', 0.002437925516313014),\n",
       " ('@types/node', 0.0020650509124260385),\n",
       " ('lodash', 0.001942576313660296),\n",
       " ('debug', 0.0015846850197234665),\n",
       " ('@babel/helper-plugin-utils', 0.0013095763320992559),\n",
       " ('chalk', 0.001235065148411343),\n",
       " ('prop-types', 0.0011532966237363497),\n",
       " ('semver', 0.0011525086295815416),\n",
       " ('@types/react', 0.0009419506036112651)]"
      ]
     },
     "execution_count": 64,
     "metadata": {},
     "output_type": "execute_result"
    }
   ],
   "execution_count": 64
  },
  {
   "metadata": {
    "ExecuteTime": {
     "end_time": "2024-11-13T10:46:18.424598Z",
     "start_time": "2024-11-13T10:46:16.661132Z"
    }
   },
   "cell_type": "code",
   "source": [
    "from bs4 import BeautifulSoup\n",
    "\n",
    "res = requests.get(\"https://gist.github.com/anvaka/8e8fa57c7ee1350e3491\")\n",
    "\n",
    "full_pagerank = []\n",
    "\n",
    "if res.status_code != 200:\n",
    "    print(\"Request failed\")\n",
    "else:\n",
    "    parsed_html = BeautifulSoup(res.content, \"html.parser\")\n",
    "    github_pagerank = parsed_html.select(\"#file-03-pagerank-md-readme > article > ol > li\")\n",
    "    full_pagerank = [(html.find('a').text, float(html.text.split(\" - \")[1])) for html in github_pagerank]\n",
    "    \n",
    "full_pagerank[:10]"
   ],
   "outputs": [
    {
     "data": {
      "text/plain": [
       "[('lodash', 0.010834060106227733),\n",
       " ('tslib', 0.0073019517213535595),\n",
       " ('request', 0.0057722307215751405),\n",
       " ('debug', 0.0054921316717398815),\n",
       " ('prop-types', 0.005007180072168596),\n",
       " ('ms', 0.004915039436489446),\n",
       " ('chalk', 0.004908854475195843),\n",
       " ('object-assign', 0.004052459060484455),\n",
       " ('minimist', 0.003987477138102914),\n",
       " ('loose-envify', 0.003959896618027232)]"
      ]
     },
     "execution_count": 65,
     "metadata": {},
     "output_type": "execute_result"
    }
   ],
   "execution_count": 65
  },
  {
   "metadata": {
    "ExecuteTime": {
     "end_time": "2024-11-13T10:46:19.940897Z",
     "start_time": "2024-11-13T10:46:19.936297Z"
    }
   },
   "cell_type": "code",
   "source": [
    "# Compare how many packages appear in both\n",
    "rank_set = set([p for p,c in ranks[:1000]])\n",
    "full_set = set([p for p,c in full_pagerank])\n",
    "print(f\"Number of common packages: {len(rank_set.intersection(full_set))}\")"
   ],
   "outputs": [
    {
     "name": "stdout",
     "output_type": "stream",
     "text": [
      "Number of common packages: 411\n"
     ]
    }
   ],
   "execution_count": 66
  },
  {
   "metadata": {
    "ExecuteTime": {
     "end_time": "2024-11-13T10:46:21.687850Z",
     "start_time": "2024-11-13T10:46:21.676354Z"
    }
   },
   "cell_type": "code",
   "source": [
    "count = 0\n",
    "for pkg, score in full_pagerank:\n",
    "    if pkg not in pkg_space:\n",
    "        count += 1\n",
    "        print(pkg)\n",
    "        \n",
    "print(f\"-------------\\nCount = {count}\")"
   ],
   "outputs": [
    {
     "name": "stdout",
     "output_type": "stream",
     "text": [
      "nan\n",
      "@alifd/next\n",
      "async-limiter\n",
      "angular\n",
      "datafire\n",
      "@polymer/polymer\n",
      "unique-random-array\n",
      "fs\n",
      "concat-map\n",
      "unique-random\n",
      "big.js\n",
      "emojis-list\n",
      "@types/cordova\n",
      "serialport\n",
      "redis-commands\n",
      "when\n",
      "windows.foundation\n",
      "double-ended-queue\n",
      "user\n",
      "amqplib\n",
      "@angular/http\n",
      "web3\n",
      "xmlhttprequest\n",
      "require-main-filename\n",
      "which-module\n",
      "babel\n",
      "@linclark/pkg\n",
      "keypress\n",
      "gulp-rename\n",
      "@sailshq/lodash\n",
      "elasticsearch\n",
      "@phosphor/algorithm\n",
      "has-binary2\n",
      "http\n",
      "ssh2-streams\n",
      "babel-plugin-transform-runtime\n",
      "diagnostics\n",
      "string\n",
      "vue-hot-reload-api\n",
      "restify\n",
      "ethereumjs-util\n",
      "strict-uri-encode\n",
      "hexlet-pairs\n",
      "hapi\n",
      "noble\n",
      "soap\n",
      "get-func-name\n",
      "nice-try\n",
      "material-ui\n",
      "alfy\n",
      "nedb\n",
      "child_process\n",
      "string-template\n",
      "grpc\n",
      "wrench\n",
      "unzip\n",
      "aurelia-pal\n",
      "indexof\n",
      "ref\n",
      "tslint-eslint-rules\n",
      "ffi\n",
      "unirest\n",
      "detect-conflict\n",
      "babelify\n",
      "-------------\n",
      "Count = 64\n"
     ]
    }
   ],
   "execution_count": 67
  }
 ],
 "metadata": {
  "kernelspec": {
   "display_name": "venv",
   "language": "python",
   "name": "python3"
  },
  "language_info": {
   "name": "python",
   "version": "3.8.11"
  }
 },
 "nbformat": 4,
 "nbformat_minor": 2
}
