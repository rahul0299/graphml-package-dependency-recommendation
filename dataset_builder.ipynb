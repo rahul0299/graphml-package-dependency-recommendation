{
 "cells": [
  {
   "cell_type": "code",
   "metadata": {
    "ExecuteTime": {
     "end_time": "2024-11-08T16:39:00.075090Z",
     "start_time": "2024-11-08T16:38:59.997035Z"
    }
   },
   "source": [
    "import json\n",
    "\n",
    "import pandas as pd\n",
    "import requests\n",
    "from tqdm.notebook import tqdm\n",
    "import threading\n",
    "from concurrent.futures import ThreadPoolExecutor, as_completed"
   ],
   "outputs": [],
   "execution_count": 6
  },
  {
   "metadata": {
    "ExecuteTime": {
     "end_time": "2024-11-08T16:42:30.372775Z",
     "start_time": "2024-11-08T16:42:30.335774Z"
    }
   },
   "cell_type": "code",
   "source": [
    "# constructing package space from github repository data\n",
    "package_space = set()\n",
    "project_data = json.load(open(\"project_packages.json\"))\n",
    "for _, deps in project_data.items():\n",
    "    for pkg in deps.keys():\n",
    "        if pkg.startswith(\"npm:\"):\n",
    "            pkg = pkg[4:]\n",
    "        package_space.add(pkg)\n",
    "        \n",
    "print(\"Number of packages:\", len(package_space))\n",
    "packages = package_space"
   ],
   "outputs": [
    {
     "name": "stdout",
     "output_type": "stream",
     "text": [
      "Number of packages: 10089\n"
     ]
    }
   ],
   "execution_count": 17
  },
  {
   "metadata": {
    "ExecuteTime": {
     "end_time": "2024-11-08T16:42:33.467830Z",
     "start_time": "2024-11-08T16:42:33.462345Z"
    }
   },
   "cell_type": "code",
   "source": [
    "from datetime import datetime, timedelta\n",
    "\n",
    "def convert_time_to_epoch(timestamp):\n",
    "    timestamp = timestamp.replace('Z', '+00:00')\n",
    "    timestamp = datetime.fromisoformat(timestamp)\n",
    "    return datetime.strftime(timestamp, '%s')\n",
    "    "
   ],
   "outputs": [],
   "execution_count": 18
  },
  {
   "metadata": {
    "ExecuteTime": {
     "end_time": "2024-11-08T17:07:18.023505Z",
     "start_time": "2024-11-08T17:07:17.942248Z"
    }
   },
   "cell_type": "code",
   "source": [
    "MAX_DEPTH = 1\n",
    "\n",
    "package_set = set()\n",
    "package_features = dict()\n",
    "dep_graph = dict()\n",
    "failed_packages = []\n",
    "layers = {i: [] for i in range(MAX_DEPTH + 1)}\n",
    "layers[0] = list(package_space)\n",
    "\n",
    "# Locks for shared data structures\n",
    "set_lock = threading.Lock()\n",
    "features_lock = threading.Lock()\n",
    "graph_lock = threading.Lock()\n",
    "layers_lock = threading.Lock()\n",
    "\n",
    "def get_package_details(package, base_url=\"https://registry.npmjs.org/\", depth=0):\n",
    "   # Check if not already obtained data for this package\n",
    "    with set_lock:\n",
    "        if package in package_set:\n",
    "            return\n",
    "\n",
    "        package_set.add(package)  # Add package to set to prevent duplicate processing\n",
    "    \n",
    "    res = requests.get(base_url + package)\n",
    "    jsonData = res.json()\n",
    "    \n",
    "    if res.status_code == 200:\n",
    "        try:\n",
    "            # Obtain latest version\n",
    "            latestVersion = jsonData[\"dist-tags\"][\"latest\"]\n",
    "            \n",
    "            # Handle dependencies\n",
    "            deps = jsonData[\"versions\"][latestVersion].get(\"dependencies\", [])\n",
    "            with graph_lock:\n",
    "                dep_graph[package] = deps\n",
    "            \n",
    "            # If within depth limit, fetch dependencies\n",
    "            if depth < MAX_DEPTH:\n",
    "                with layers_lock:\n",
    "                    for dep in deps:\n",
    "                        if dep not in package_set:\n",
    "                            layers[depth+1].append(dep)\n",
    "                \n",
    "            # Collect metadata\n",
    "            package_data = {\n",
    "                \"latestVersion\": latestVersion,\n",
    "                \"keywords\": jsonData.get(\"keywords\", []),\n",
    "                \"publishTime\": convert_time_to_epoch(jsonData[\"time\"][latestVersion]),\n",
    "                \"description\": jsonData.get(\"description\", \"\"),\n",
    "                \"creationDate\": jsonData[\"time\"][\"created\"],\n",
    "                \"numberOfVersions\": len(jsonData[\"versions\"]),\n",
    "            }\n",
    "            \n",
    "            with features_lock:\n",
    "                package_features[package] = package_data\n",
    "\n",
    "        except Exception as e:\n",
    "            print(f\"[ERROR] for {package}: {e}\")\n",
    "    else:\n",
    "        failed_packages.append(f\"Package unavailable: {package}\\n\")\n",
    "    "
   ],
   "outputs": [],
   "execution_count": 35
  },
  {
   "metadata": {
    "ExecuteTime": {
     "end_time": "2024-11-08T17:12:16.308135Z",
     "start_time": "2024-11-08T17:09:01.493371Z"
    }
   },
   "cell_type": "code",
   "source": [
    "for i in range(MAX_DEPTH + 1):\n",
    "    # filter out all the packages in the next layer that have already been fetched\n",
    "    layers[i] = [pkg for pkg in layers[i] if pkg not in package_set]\n",
    "    \n",
    "    with ThreadPoolExecutor(max_workers=50) as executor:\n",
    "        futures = { executor.submit(get_package_details, package, depth=i):package for package in layers[i] }\n",
    "        \n",
    "        for future in tqdm(as_completed(futures), total=len(futures), desc=f\"Layer {i}\"):\n",
    "            future.result()\n",
    "        "
   ],
   "outputs": [
    {
     "data": {
      "text/plain": [
       "Layer 0:   0%|          | 0/10089 [00:00<?, ?it/s]"
      ],
      "application/vnd.jupyter.widget-view+json": {
       "version_major": 2,
       "version_minor": 0,
       "model_id": "ad0fcc7743aa47328fc54cb625e8247b"
      }
     },
     "metadata": {},
     "output_type": "display_data"
    },
    {
     "data": {
      "text/plain": [
       "Layer 1:   0%|          | 0/1391 [00:00<?, ?it/s]"
      ],
      "application/vnd.jupyter.widget-view+json": {
       "version_major": 2,
       "version_minor": 0,
       "model_id": "dd0e0a7ccc204e8f91b4dfac1fa2d52a"
      }
     },
     "metadata": {},
     "output_type": "display_data"
    }
   ],
   "execution_count": 37
  },
  {
   "metadata": {
    "ExecuteTime": {
     "end_time": "2024-11-08T17:15:23.528734Z",
     "start_time": "2024-11-08T17:15:23.470877Z"
    }
   },
   "cell_type": "code",
   "source": [
    "# divide into scoped and unscoped packages\n",
    "scoped = []\n",
    "unscoped = []\n",
    "for package in package_features.keys():\n",
    "    if package.find(\"@\") != -1:\n",
    "        scoped.append((package, package_features[package][\"creationDate\"]))\n",
    "    else:\n",
    "        unscoped.append(package)\n",
    "print(f'scoped: {len(scoped)}\\tunscoped: {len(unscoped)}')"
   ],
   "outputs": [
    {
     "name": "stdout",
     "output_type": "stream",
     "text": [
      "scoped: 4431\tunscope: 6803\n"
     ]
    }
   ],
   "execution_count": 39
  },
  {
   "metadata": {
    "ExecuteTime": {
     "end_time": "2024-11-08T17:15:27.904154Z",
     "start_time": "2024-11-08T17:15:27.898996Z"
    }
   },
   "cell_type": "code",
   "source": [
    "chunks = []\n",
    "for i in range(0, len(unscoped), 128):\n",
    "    chunks.append(unscoped[i:i + 128])\n",
    "print(len(chunks))"
   ],
   "outputs": [
    {
     "name": "stdout",
     "output_type": "stream",
     "text": [
      "54\n"
     ]
    }
   ],
   "execution_count": 40
  },
  {
   "metadata": {
    "ExecuteTime": {
     "end_time": "2024-11-08T17:15:34.253392Z",
     "start_time": "2024-11-08T17:15:34.234314Z"
    }
   },
   "cell_type": "code",
   "source": [
    "# CAN GET DOWNLOAD COUNTS FOR UNSCOPED PACKAGES IN BULK\n",
    "from collections import defaultdict\n",
    "\n",
    "def get_all_time_download_counts_bulk(packages, format = \"%Y-%m-%d\"):\n",
    "    start_date = datetime(day=10, month=1, year=2015).date()\n",
    "    curr_date = datetime.now().date()\n",
    "    \n",
    "    intervals = []\n",
    "    while start_date < curr_date:\n",
    "        interval_end = min(start_date + timedelta(days=365), curr_date)\n",
    "        intervals.append(f'{start_date.strftime(format)}:{interval_end.strftime(format)}')\n",
    "        start_date = interval_end + timedelta(days=1)\n",
    "        \n",
    "    download_counts = defaultdict(int)\n",
    "    for interval in intervals:\n",
    "        url = f\"https://api.npmjs.org/downloads/point/{interval}/{','.join(packages)}\"\n",
    "        res = requests.get(url)\n",
    "        if res.status_code == 200:\n",
    "            download_data = res.json()\n",
    "            for package in packages:\n",
    "                download_counts[package] += download_data[package][\"downloads\"]\n",
    "    \n",
    "    return download_counts\n",
    "    "
   ],
   "outputs": [],
   "execution_count": 41
  },
  {
   "metadata": {
    "ExecuteTime": {
     "end_time": "2024-11-08T17:16:29.848933Z",
     "start_time": "2024-11-08T17:15:37.517469Z"
    }
   },
   "cell_type": "code",
   "source": [
    "with ThreadPoolExecutor() as executor:\n",
    "    futures = { executor.submit(get_all_time_download_counts_bulk, chunk): chunk for chunk in chunks }\n",
    "    \n",
    "    for future in tqdm(as_completed(futures), total=len(futures), desc=\"Getting download counts for unscoped packages\"):\n",
    "        for package, count in future.result().items():\n",
    "            package_features[package][\"download_count\"] = count"
   ],
   "outputs": [
    {
     "data": {
      "text/plain": [
       "Getting download counts for unscoped packages:   0%|          | 0/54 [00:00<?, ?it/s]"
      ],
      "application/vnd.jupyter.widget-view+json": {
       "version_major": 2,
       "version_minor": 0,
       "model_id": "213e782964c649dd8e905181a8948a60"
      }
     },
     "metadata": {},
     "output_type": "display_data"
    }
   ],
   "execution_count": 42
  },
  {
   "metadata": {
    "ExecuteTime": {
     "end_time": "2024-11-08T18:17:48.811917Z",
     "start_time": "2024-11-08T18:17:46.144973Z"
    }
   },
   "cell_type": "code",
   "source": [
    "# FOR UNSCOPED, update download function to process one package concurrently\n",
    "def get_year_downloads(package, interval):\n",
    "    url = f\"https://api.npmjs.org/downloads/point/{interval}/{package}\"\n",
    "    res = requests.get(url)\n",
    "    if res.status_code == 200:\n",
    "        return res.json()[\"downloads\"]\n",
    "    \n",
    "    return 0\n",
    "\n",
    "\n",
    "def get_all_time_download_count_concurrent(package, creation_date, format=\"%Y-%m-%d\", max_workers=3):\n",
    "    create_date = creation_date.replace('Z', '+00:00')\n",
    "    create_date = datetime.fromisoformat(create_date)\n",
    "    \n",
    "    start_date = max(datetime(day=10, month=1, year=2015).date(), create_date.date())\n",
    "    curr_date = datetime.now().date()\n",
    "    \n",
    "    intervals = []\n",
    "    while start_date < curr_date:\n",
    "        interval_end = min(start_date + timedelta(days=547), curr_date)\n",
    "        intervals.append(f'{start_date.strftime(format)}:{interval_end.strftime(format)}')\n",
    "        start_date = interval_end + timedelta(days=1)\n",
    "            \n",
    "    with ThreadPoolExecutor(max_workers=max_workers) as executor:\n",
    "        futures = { executor.submit(get_year_downloads, package, interval): interval for interval in intervals }\n",
    "        download_count = 0\n",
    "\n",
    "        for future in futures:\n",
    "            download_count += future.result()\n",
    "\n",
    "        return download_count\n",
    "\n",
    "# test function\n",
    "count = get_all_time_download_count_concurrent(\"semver\", \"2011-02-12T00:20:25.690Z\")\n",
    "print(f'{count:,}')\n",
    "    "
   ],
   "outputs": [
    {
     "name": "stdout",
     "output_type": "stream",
     "text": [
      "49,999,748,223\n"
     ]
    }
   ],
   "execution_count": 64
  },
  {
   "metadata": {
    "ExecuteTime": {
     "end_time": "2024-11-08T17:46:20.428397Z",
     "start_time": "2024-11-08T17:46:20.423096Z"
    }
   },
   "cell_type": "code",
   "source": [
    "def get_package_download_count(package, date, max_retries=3, max_workers=3):\n",
    "    for attempt in range(max_retries):\n",
    "        try:\n",
    "            download_count = get_all_time_download_count_concurrent(package, date, max_workers=max_workers)\n",
    "            return download_count\n",
    "        except requests.exceptions.ConnectionError as e:\n",
    "            if attempt < max_retries - 1:\n",
    "                print(f'Failed getting count for {package}: {attempt + 1}')\n",
    "            else:\n",
    "                print(f'Failed getting count for {package}: max retries exceeded')\n",
    "    return -1\n",
    "\n",
    "def get_download_counts_scoped_concurrent(packages, max_retries=3, max_workers=2, max_sub_workers=3):\n",
    "    with ThreadPoolExecutor(max_workers=max_workers) as executor:\n",
    "        futures = { executor.submit(get_package_download_count, package, date, max_workers=max_sub_workers): package for package, date in packages }\n",
    "        \n",
    "        for future in tqdm(as_completed(futures), total=len(futures), desc=\"Scoped Packages\"):\n",
    "            package = futures[future]\n",
    "            download_count = future.result()\n",
    "            package_features[package][\"download_count\"] = download_count\n",
    "            "
   ],
   "outputs": [],
   "execution_count": 52
  },
  {
   "metadata": {
    "ExecuteTime": {
     "end_time": "2024-11-08T18:14:39.937766Z",
     "start_time": "2024-11-08T17:58:21.029513Z"
    }
   },
   "cell_type": "code",
   "source": "get_download_counts_scoped_concurrent(scoped, max_workers=3, max_sub_workers=3)",
   "outputs": [
    {
     "data": {
      "text/plain": [
       "Scoped Packages:   0%|          | 0/4431 [00:00<?, ?it/s]"
      ],
      "application/vnd.jupyter.widget-view+json": {
       "version_major": 2,
       "version_minor": 0,
       "model_id": "8bdc165198eb4cd1bd454107f6335991"
      }
     },
     "metadata": {},
     "output_type": "display_data"
    }
   ],
   "execution_count": 54
  },
  {
   "metadata": {
    "ExecuteTime": {
     "end_time": "2024-11-08T18:16:54.954300Z",
     "start_time": "2024-11-08T18:16:54.857399Z"
    }
   },
   "cell_type": "code",
   "source": [
    "with open(\"./dataset/dep-graph.json\", mode=\"w\") as file:\n",
    "    json.dump(dep_graph, file, indent=4)"
   ],
   "outputs": [],
   "execution_count": 55
  },
  {
   "metadata": {
    "ExecuteTime": {
     "end_time": "2024-11-08T18:17:00.767648Z",
     "start_time": "2024-11-08T18:17:00.660563Z"
    }
   },
   "cell_type": "code",
   "source": [
    "with open(\"./dataset/package-features.json\", mode=\"w\") as file:\n",
    "    json.dump(package_features, file, indent=4)"
   ],
   "outputs": [],
   "execution_count": 56
  },
  {
   "metadata": {
    "ExecuteTime": {
     "end_time": "2024-11-08T18:17:02.139986Z",
     "start_time": "2024-11-08T18:17:02.125789Z"
    }
   },
   "cell_type": "code",
   "source": [
    "print(len(package_features.keys()))\n",
    "print(len(dep_graph.keys()))"
   ],
   "outputs": [
    {
     "name": "stdout",
     "output_type": "stream",
     "text": [
      "11234\n",
      "11234\n"
     ]
    }
   ],
   "execution_count": 57
  },
  {
   "metadata": {
    "ExecuteTime": {
     "end_time": "2024-11-08T18:17:05.853305Z",
     "start_time": "2024-11-08T18:17:05.770234Z"
    }
   },
   "cell_type": "code",
   "source": [
    "edges = []\n",
    "\n",
    "for package, deps in dep_graph.items():\n",
    "    if len(deps) > 0:\n",
    "        for dep, version in deps.items():\n",
    "            edges.append((package, dep, version))\n",
    "\n",
    "headers = ['package', 'dependency', 'version']\n",
    "df = pd.DataFrame(edges, columns=headers)\n",
    "df.head()"
   ],
   "outputs": [
    {
     "data": {
      "text/plain": [
       "         package           dependency version\n",
       "0  chromium-bidi                 mitt   3.0.1\n",
       "1  chromium-bidi  urlpattern-polyfill  10.0.0\n",
       "2  chromium-bidi                  zod  3.23.8\n",
       "3  get-intrinsic            es-errors  ^1.3.0\n",
       "4  get-intrinsic        function-bind  ^1.1.2"
      ],
      "text/html": [
       "<div>\n",
       "<style scoped>\n",
       "    .dataframe tbody tr th:only-of-type {\n",
       "        vertical-align: middle;\n",
       "    }\n",
       "\n",
       "    .dataframe tbody tr th {\n",
       "        vertical-align: top;\n",
       "    }\n",
       "\n",
       "    .dataframe thead th {\n",
       "        text-align: right;\n",
       "    }\n",
       "</style>\n",
       "<table border=\"1\" class=\"dataframe\">\n",
       "  <thead>\n",
       "    <tr style=\"text-align: right;\">\n",
       "      <th></th>\n",
       "      <th>package</th>\n",
       "      <th>dependency</th>\n",
       "      <th>version</th>\n",
       "    </tr>\n",
       "  </thead>\n",
       "  <tbody>\n",
       "    <tr>\n",
       "      <th>0</th>\n",
       "      <td>chromium-bidi</td>\n",
       "      <td>mitt</td>\n",
       "      <td>3.0.1</td>\n",
       "    </tr>\n",
       "    <tr>\n",
       "      <th>1</th>\n",
       "      <td>chromium-bidi</td>\n",
       "      <td>urlpattern-polyfill</td>\n",
       "      <td>10.0.0</td>\n",
       "    </tr>\n",
       "    <tr>\n",
       "      <th>2</th>\n",
       "      <td>chromium-bidi</td>\n",
       "      <td>zod</td>\n",
       "      <td>3.23.8</td>\n",
       "    </tr>\n",
       "    <tr>\n",
       "      <th>3</th>\n",
       "      <td>get-intrinsic</td>\n",
       "      <td>es-errors</td>\n",
       "      <td>^1.3.0</td>\n",
       "    </tr>\n",
       "    <tr>\n",
       "      <th>4</th>\n",
       "      <td>get-intrinsic</td>\n",
       "      <td>function-bind</td>\n",
       "      <td>^1.1.2</td>\n",
       "    </tr>\n",
       "  </tbody>\n",
       "</table>\n",
       "</div>"
      ]
     },
     "execution_count": 58,
     "metadata": {},
     "output_type": "execute_result"
    }
   ],
   "execution_count": 58
  },
  {
   "metadata": {
    "ExecuteTime": {
     "end_time": "2024-11-08T18:17:10.112309Z",
     "start_time": "2024-11-08T18:17:10.105282Z"
    }
   },
   "cell_type": "code",
   "source": "len(df)",
   "outputs": [
    {
     "data": {
      "text/plain": [
       "32281"
      ]
     },
     "execution_count": 59,
     "metadata": {},
     "output_type": "execute_result"
    }
   ],
   "execution_count": 59
  },
  {
   "metadata": {
    "ExecuteTime": {
     "end_time": "2024-11-08T18:17:12.652576Z",
     "start_time": "2024-11-08T18:17:12.592127Z"
    }
   },
   "cell_type": "code",
   "source": "df.to_csv(\"./dataset/dep-graph.csv\", index=False)",
   "outputs": [],
   "execution_count": 60
  },
  {
   "cell_type": "code",
   "source": [
    "feat_data = []\n",
    "headers = ['package', 'latest_version', 'keywords', 'publish_time', 'description', 'creation_date', 'number_of_versions', 'download_count']\n",
    "for package, feats in package_features.items():\n",
    "    feat_data.append([package] + list(feats.values()))\n",
    "\n",
    "feat_df = pd.DataFrame(feat_data, columns=headers)\n",
    "feat_df.head()"
   ],
   "metadata": {
    "collapsed": false,
    "ExecuteTime": {
     "end_time": "2024-11-08T18:17:14.736058Z",
     "start_time": "2024-11-08T18:17:14.693954Z"
    }
   },
   "outputs": [
    {
     "data": {
      "text/plain": [
       "           package latest_version  \\\n",
       "0    chromium-bidi          0.9.1   \n",
       "1    get-intrinsic          1.2.4   \n",
       "2         inherits          2.0.4   \n",
       "3  map-age-cleaner          0.2.0   \n",
       "4     magic-string        0.30.12   \n",
       "\n",
       "                                            keywords publish_time  \\\n",
       "0                                                 []   1730859566   \n",
       "1  [javascript, ecmascript, es, js, intrinsic, ge...   1707168726   \n",
       "2  [inheritance, class, klass, oop, object-orient...   1560946732   \n",
       "3  [map, age, cleaner, maxage, expire, expiration...   1629721812   \n",
       "4  [string, string manipulation, sourcemap, templ...   1728603240   \n",
       "\n",
       "                                         description  \\\n",
       "0  An implementation of the WebDriver BiDi protoc...   \n",
       "1  Get and robustly cache all JS language-level i...   \n",
       "2  Browser-friendly inheritance fully compatible ...   \n",
       "3       Automatically cleanup expired items in a Map   \n",
       "4                Modify strings, generate sourcemaps   \n",
       "\n",
       "              creation_date  number_of_versions  download_count  \n",
       "0  2022-04-28T08:05:03.963Z                  72       206302772  \n",
       "1  2020-10-30T15:03:39.549Z                  12      6992609115  \n",
       "2  2011-04-07T00:35:14.848Z                   7     18362723250  \n",
       "3  2018-08-21T18:21:55.611Z                   5      1780602259  \n",
       "4  2014-11-04T16:24:39.084Z                 116      3948486326  "
      ],
      "text/html": [
       "<div>\n",
       "<style scoped>\n",
       "    .dataframe tbody tr th:only-of-type {\n",
       "        vertical-align: middle;\n",
       "    }\n",
       "\n",
       "    .dataframe tbody tr th {\n",
       "        vertical-align: top;\n",
       "    }\n",
       "\n",
       "    .dataframe thead th {\n",
       "        text-align: right;\n",
       "    }\n",
       "</style>\n",
       "<table border=\"1\" class=\"dataframe\">\n",
       "  <thead>\n",
       "    <tr style=\"text-align: right;\">\n",
       "      <th></th>\n",
       "      <th>package</th>\n",
       "      <th>latest_version</th>\n",
       "      <th>keywords</th>\n",
       "      <th>publish_time</th>\n",
       "      <th>description</th>\n",
       "      <th>creation_date</th>\n",
       "      <th>number_of_versions</th>\n",
       "      <th>download_count</th>\n",
       "    </tr>\n",
       "  </thead>\n",
       "  <tbody>\n",
       "    <tr>\n",
       "      <th>0</th>\n",
       "      <td>chromium-bidi</td>\n",
       "      <td>0.9.1</td>\n",
       "      <td>[]</td>\n",
       "      <td>1730859566</td>\n",
       "      <td>An implementation of the WebDriver BiDi protoc...</td>\n",
       "      <td>2022-04-28T08:05:03.963Z</td>\n",
       "      <td>72</td>\n",
       "      <td>206302772</td>\n",
       "    </tr>\n",
       "    <tr>\n",
       "      <th>1</th>\n",
       "      <td>get-intrinsic</td>\n",
       "      <td>1.2.4</td>\n",
       "      <td>[javascript, ecmascript, es, js, intrinsic, ge...</td>\n",
       "      <td>1707168726</td>\n",
       "      <td>Get and robustly cache all JS language-level i...</td>\n",
       "      <td>2020-10-30T15:03:39.549Z</td>\n",
       "      <td>12</td>\n",
       "      <td>6992609115</td>\n",
       "    </tr>\n",
       "    <tr>\n",
       "      <th>2</th>\n",
       "      <td>inherits</td>\n",
       "      <td>2.0.4</td>\n",
       "      <td>[inheritance, class, klass, oop, object-orient...</td>\n",
       "      <td>1560946732</td>\n",
       "      <td>Browser-friendly inheritance fully compatible ...</td>\n",
       "      <td>2011-04-07T00:35:14.848Z</td>\n",
       "      <td>7</td>\n",
       "      <td>18362723250</td>\n",
       "    </tr>\n",
       "    <tr>\n",
       "      <th>3</th>\n",
       "      <td>map-age-cleaner</td>\n",
       "      <td>0.2.0</td>\n",
       "      <td>[map, age, cleaner, maxage, expire, expiration...</td>\n",
       "      <td>1629721812</td>\n",
       "      <td>Automatically cleanup expired items in a Map</td>\n",
       "      <td>2018-08-21T18:21:55.611Z</td>\n",
       "      <td>5</td>\n",
       "      <td>1780602259</td>\n",
       "    </tr>\n",
       "    <tr>\n",
       "      <th>4</th>\n",
       "      <td>magic-string</td>\n",
       "      <td>0.30.12</td>\n",
       "      <td>[string, string manipulation, sourcemap, templ...</td>\n",
       "      <td>1728603240</td>\n",
       "      <td>Modify strings, generate sourcemaps</td>\n",
       "      <td>2014-11-04T16:24:39.084Z</td>\n",
       "      <td>116</td>\n",
       "      <td>3948486326</td>\n",
       "    </tr>\n",
       "  </tbody>\n",
       "</table>\n",
       "</div>"
      ]
     },
     "execution_count": 61,
     "metadata": {},
     "output_type": "execute_result"
    }
   ],
   "execution_count": 61
  },
  {
   "metadata": {
    "ExecuteTime": {
     "end_time": "2024-11-08T18:17:19.616999Z",
     "start_time": "2024-11-08T18:17:19.523579Z"
    }
   },
   "cell_type": "code",
   "source": "feat_df.to_csv(\"./dataset/package-feats.csv\", index=False)",
   "outputs": [],
   "execution_count": 62
  },
  {
   "metadata": {
    "ExecuteTime": {
     "end_time": "2024-11-08T18:17:23.179575Z",
     "start_time": "2024-11-08T18:17:23.173670Z"
    }
   },
   "cell_type": "code",
   "source": "len(feat_df)",
   "outputs": [
    {
     "data": {
      "text/plain": [
       "11234"
      ]
     },
     "execution_count": 63,
     "metadata": {},
     "output_type": "execute_result"
    }
   ],
   "execution_count": 63
  },
  {
   "cell_type": "code",
   "outputs": [],
   "source": [],
   "metadata": {
    "collapsed": false,
    "ExecuteTime": {
     "end_time": "2024-10-29T09:02:35.476425Z",
     "start_time": "2024-10-29T09:02:35.458045Z"
    }
   },
   "execution_count": 26
  },
  {
   "cell_type": "code",
   "outputs": [],
   "source": [],
   "metadata": {
    "collapsed": false
   },
   "execution_count": null
  }
 ],
 "metadata": {
  "kernelspec": {
   "display_name": "venv",
   "language": "python",
   "name": "python3"
  },
  "language_info": {
   "name": "python",
   "version": "3.8.11"
  }
 },
 "nbformat": 4,
 "nbformat_minor": 2
}
