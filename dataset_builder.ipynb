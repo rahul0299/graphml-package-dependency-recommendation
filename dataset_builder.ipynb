{
 "cells": [
  {
   "cell_type": "code",
   "metadata": {
    "ExecuteTime": {
     "end_time": "2024-11-07T09:15:24.651890Z",
     "start_time": "2024-11-07T09:15:24.639099Z"
    }
   },
   "source": [
    "import json\n",
    "\n",
    "import pandas as pd\n",
    "import requests\n",
    "from bs4 import BeautifulSoup\n",
    "from time import sleep"
   ],
   "outputs": [],
   "execution_count": 20
  },
  {
   "cell_type": "code",
   "source": [
    "url = \"https://gist.github.com/anvaka/8e8fa57c7ee1350e3491\"\n",
    "res = requests.get(url)\n",
    "data = res.content\n",
    "# print(BeautifulSoup(data, 'html.parser').prettify())"
   ],
   "metadata": {
    "collapsed": false,
    "ExecuteTime": {
     "end_time": "2024-11-06T07:28:31.371223Z",
     "start_time": "2024-11-06T07:28:30.557346Z"
    }
   },
   "outputs": [],
   "execution_count": 2
  },
  {
   "cell_type": "code",
   "source": [
    "parsedData = BeautifulSoup(data, \"html.parser\")"
   ],
   "metadata": {
    "collapsed": false,
    "ExecuteTime": {
     "end_time": "2024-11-06T07:28:33.339841Z",
     "start_time": "2024-11-06T07:28:32.780769Z"
    }
   },
   "outputs": [],
   "execution_count": 3
  },
  {
   "cell_type": "code",
   "source": [
    "# Fetches from github rank page. No need to run since we are generating our own package space\n",
    "topDependencies = parsedData.select(\"#file-01-most-dependent-upon-md-readme > article > ol > li\")\n",
    "selectors = [\n",
    "    '#file-01-most-dependent-upon-md-readme > article > ol > li',\n",
    "    '#file-02-with-most-dependencies-md-readme > article > ol > li',\n",
    "    '#file-03-pagerank-md-readme > article > ol > li'\n",
    "]\n",
    "packages = set()\n",
    "top_k = 25\n",
    "for selector in selectors:\n",
    "    topPackages = parsedData.select(selector)\n",
    "    for html in topPackages[:top_k]:\n",
    "        packages.add(html.find('a').text)\n",
    "packages\n"
   ],
   "metadata": {
    "collapsed": false,
    "ExecuteTime": {
     "end_time": "2024-11-06T07:34:47.866426Z",
     "start_time": "2024-11-06T07:34:47.519763Z"
    }
   },
   "outputs": [
    {
     "data": {
      "text/plain": [
       "{'3.0.0',\n",
       " '@ericmcornelius/ease',\n",
       " '@ngxvoice/ngx-voicelistner',\n",
       " '@rstacruz/pnpm',\n",
       " 'async',\n",
       " 'axios',\n",
       " 'axios-yet-another-proxy-fix',\n",
       " 'babel-runtime',\n",
       " 'bloater',\n",
       " 'bluebird',\n",
       " 'chalk',\n",
       " 'classnames',\n",
       " 'colors',\n",
       " 'commander',\n",
       " 'debug',\n",
       " 'digital-keyboard-demos',\n",
       " 'express',\n",
       " 'fhir2',\n",
       " 'fs-extra',\n",
       " 'glob',\n",
       " 'inquirer',\n",
       " 'js-tokens',\n",
       " 'lodash',\n",
       " 'loose-envify',\n",
       " 'merino',\n",
       " 'miguelcostero-ng2-toasty',\n",
       " 'minimist',\n",
       " 'mkdirp',\n",
       " 'moment',\n",
       " 'ms',\n",
       " 'no-one-left-behind',\n",
       " 'object-assign',\n",
       " 'pb-schema',\n",
       " 'primeng-custom',\n",
       " 'prop-types',\n",
       " 'react',\n",
       " 'react-angular-component',\n",
       " 'react-dom',\n",
       " 'react-misc-toolbox',\n",
       " 'react-native-handcheque-engine',\n",
       " 'react-native-ok-sdk',\n",
       " 'react-native-template-vife',\n",
       " 'react-native-version-manager',\n",
       " 'react-redux-demo1',\n",
       " 'readable-stream',\n",
       " 'regenerator-runtime',\n",
       " 'request',\n",
       " 'safe-buffer',\n",
       " 'search-list-react',\n",
       " 'sindresorhus.js',\n",
       " 'tslib',\n",
       " 'underscore',\n",
       " 'uuid',\n",
       " 'vue',\n",
       " 'vue-compment',\n",
       " 'wc-starterkit',\n",
       " 'webche',\n",
       " 'webpack',\n",
       " 'yargs'}"
      ]
     },
     "execution_count": 11,
     "metadata": {},
     "output_type": "execute_result"
    }
   ],
   "execution_count": 11
  },
  {
   "metadata": {
    "ExecuteTime": {
     "end_time": "2024-11-07T08:47:50.904530Z",
     "start_time": "2024-11-07T08:47:50.851520Z"
    }
   },
   "cell_type": "code",
   "source": [
    "# constructing package space from repository data\n",
    "package_space = set()\n",
    "project_data = json.load(open(\"project_packages.json\"))\n",
    "for _, deps in project_data.items():\n",
    "    for pkg in deps.keys():\n",
    "        if pkg.startswith(\"npm:\"):\n",
    "            pkg = pkg[4:]\n",
    "        package_space.add(pkg)\n",
    "        \n",
    "print(\"Number of packages:\", len(package_space))\n",
    "packages = package_space"
   ],
   "outputs": [
    {
     "name": "stdout",
     "output_type": "stream",
     "text": [
      "Number of packages: 10089\n"
     ]
    }
   ],
   "execution_count": 8
  },
  {
   "metadata": {
    "ExecuteTime": {
     "end_time": "2024-11-07T08:47:05.081213Z",
     "start_time": "2024-11-07T08:47:05.077804Z"
    }
   },
   "cell_type": "code",
   "source": [
    "from datetime import datetime, timedelta\n",
    "\n",
    "def convert_time_to_epoch(timestamp):\n",
    "    timestamp = timestamp.replace('Z', '+00:00')\n",
    "    timestamp = datetime.fromisoformat(timestamp)\n",
    "    return datetime.strftime(timestamp, '%s')\n",
    "    "
   ],
   "outputs": [],
   "execution_count": 6
  },
  {
   "metadata": {
    "ExecuteTime": {
     "end_time": "2024-11-07T08:57:12.521992Z",
     "start_time": "2024-11-07T08:53:31.961410Z"
    }
   },
   "cell_type": "code",
   "source": [
    "# THIS IS CONCURRENT. MUCH FASTER\n",
    "from tqdm.notebook import tqdm\n",
    "import threading\n",
    "from concurrent.futures import ThreadPoolExecutor, as_completed\n",
    "\n",
    "package_set = set()\n",
    "package_features = dict()\n",
    "dep_graph = dict()\n",
    "failed_packages = []\n",
    "MAX_DEPTH = 1\n",
    "\n",
    "# Locks for shared data structures\n",
    "set_lock = threading.Lock()\n",
    "features_lock = threading.Lock()\n",
    "graph_lock = threading.Lock()\n",
    "\n",
    "# Function to fetch package data\n",
    "def get_package_features(package, base_url=\"https://registry.npmjs.org/\", depth=0):\n",
    "    # Check if not already obtained data for this package\n",
    "    with set_lock:\n",
    "        if package in package_set:\n",
    "            return\n",
    "\n",
    "        package_set.add(package)  # Add package to set to prevent duplicate processing\n",
    "    \n",
    "    res = requests.get(base_url + package)\n",
    "    jsonData = res.json()\n",
    "    \n",
    "    if res.status_code == 200:\n",
    "        try:\n",
    "            # Obtain latest version\n",
    "            latestVersion = jsonData[\"dist-tags\"][\"latest\"]\n",
    "            \n",
    "            # Handle dependencies\n",
    "            deps = jsonData[\"versions\"][latestVersion].get(\"dependencies\", {})\n",
    "            with graph_lock:\n",
    "                dep_graph[package] = deps\n",
    "            \n",
    "            # If within depth limit, fetch dependencies in parallel\n",
    "            if depth < MAX_DEPTH:\n",
    "                with ThreadPoolExecutor() as executor:\n",
    "                    futures = [executor.submit(get_package_features, dep, base_url, depth + 1) for dep in deps]\n",
    "                    for future in as_completed(futures):\n",
    "                        future.result()  # Trigger any exceptions if they occurred\n",
    "\n",
    "            # Collect metadata\n",
    "            package_data = {\n",
    "                \"latestVersion\": latestVersion,\n",
    "                \"keywords\": jsonData.get(\"keywords\", []),\n",
    "                \"publishTime\": convert_time_to_epoch(jsonData[\"time\"][latestVersion]),\n",
    "                \"creationDate\": jsonData[\"time\"][\"created\"],\n",
    "                \"numberOfVersions\": len(jsonData[\"versions\"]),\n",
    "            }\n",
    "            with features_lock:\n",
    "                package_features[package] = package_data\n",
    "\n",
    "        except Exception as e:\n",
    "            print(f\"[ERROR] for {package}: {e}\")\n",
    "    else:\n",
    "        failed_packages.append(f\"Package unavailable: {package}\\n\")\n",
    "\n",
    "# Initial call to fetch top-level packages in parallel\n",
    "def fetch_all_packages(packages):\n",
    "    with ThreadPoolExecutor() as executor:\n",
    "        futures = [executor.submit(get_package_features, package) for package in packages]\n",
    "        for future in tqdm(as_completed(futures), total=len(futures), desc=\"Processing packages\"):\n",
    "            try:\n",
    "                future.result()  # Retrieve result or raise any exceptions\n",
    "            except Exception as e:\n",
    "                print(f\"Failed to process package: {e}\")\n",
    "            \n",
    "fetch_all_packages(packages)"
   ],
   "outputs": [
    {
     "data": {
      "text/plain": [
       "Processing packages:   0%|          | 0/10089 [00:00<?, ?it/s]"
      ],
      "application/vnd.jupyter.widget-view+json": {
       "version_major": 2,
       "version_minor": 0,
       "model_id": "4c59ac2e30994930a7f65230c03f4caa"
      }
     },
     "metadata": {},
     "output_type": "display_data"
    }
   ],
   "execution_count": 11
  },
  {
   "metadata": {
    "ExecuteTime": {
     "end_time": "2024-11-07T09:00:54.850663Z",
     "start_time": "2024-11-07T09:00:54.838063Z"
    }
   },
   "cell_type": "code",
   "source": [
    "with open(\"failed_packages.txt\", \"w\") as f:\n",
    "    f.writelines(failed_packages)"
   ],
   "outputs": [],
   "execution_count": 14
  },
  {
   "metadata": {
    "ExecuteTime": {
     "end_time": "2024-11-07T15:52:08.638155Z",
     "start_time": "2024-11-07T15:52:08.586994Z"
    }
   },
   "cell_type": "code",
   "source": [
    "# divide into scoped and unscoped packages\n",
    "scoped = []\n",
    "unscoped = []\n",
    "for package in package_features.keys():\n",
    "    if package.find(\"@\") != -1:\n",
    "        scoped.append((package, package_features[package][\"creationDate\"]))\n",
    "    else:\n",
    "        unscoped.append(package)\n",
    "print(f'scoped: {len(scoped)}\\tunscope: {len(unscoped)}')"
   ],
   "outputs": [
    {
     "name": "stdout",
     "output_type": "stream",
     "text": [
      "scoped: 4369\tunscope: 6755\n"
     ]
    }
   ],
   "execution_count": 95
  },
  {
   "metadata": {
    "ExecuteTime": {
     "end_time": "2024-11-07T15:08:30.488819Z",
     "start_time": "2024-11-07T15:08:30.451025Z"
    }
   },
   "cell_type": "code",
   "source": [
    "chunks = []\n",
    "for i in range(0, len(unscoped), 128):\n",
    "    chunks.append(unscoped[i:i + 128])\n",
    "print(len(chunks))"
   ],
   "outputs": [
    {
     "name": "stdout",
     "output_type": "stream",
     "text": [
      "53\n"
     ]
    }
   ],
   "execution_count": 63
  },
  {
   "metadata": {
    "ExecuteTime": {
     "end_time": "2024-11-07T15:16:48.572751Z",
     "start_time": "2024-11-07T15:16:48.560792Z"
    }
   },
   "cell_type": "code",
   "source": [
    "# CAN GET DOWNLOAD COUNTS FOR UNSCOPED PACKAGES IN BULK\n",
    "from collections import defaultdict\n",
    "\n",
    "def get_all_time_download_counts_bulk(packages, format = \"%Y-%m-%d\"):\n",
    "    start_date = datetime(day=10, month=1, year=2015).date()\n",
    "    curr_date = datetime.now().date()\n",
    "    \n",
    "    intervals = []\n",
    "    while start_date < curr_date:\n",
    "        interval_end = min(start_date + timedelta(days=365), curr_date)\n",
    "        intervals.append(f'{start_date.strftime(format)}:{interval_end.strftime(format)}')\n",
    "        start_date = interval_end + timedelta(days=1)\n",
    "        \n",
    "    download_counts = defaultdict(int)\n",
    "    for interval in intervals:\n",
    "        url = f\"https://api.npmjs.org/downloads/point/{interval}/{','.join(packages)}\"\n",
    "        res = requests.get(url)\n",
    "        if res.status_code == 200:\n",
    "            download_data = res.json()\n",
    "            for package in packages:\n",
    "                download_counts[package] += download_data[package][\"downloads\"]\n",
    "    \n",
    "    return download_counts\n",
    "    "
   ],
   "outputs": [],
   "execution_count": 71
  },
  {
   "metadata": {
    "ExecuteTime": {
     "end_time": "2024-11-07T15:43:59.600800Z",
     "start_time": "2024-11-07T15:43:07.893731Z"
    }
   },
   "cell_type": "code",
   "source": [
    "with ThreadPoolExecutor() as executor:\n",
    "    futures = { executor.submit(get_all_time_download_counts_bulk, chunk): chunk for chunk in chunks }\n",
    "    \n",
    "    for future in tqdm(as_completed(futures), total=len(futures), desc=\"Getting download counts for unscoped packages\"):\n",
    "        for package, count in future.result().items():\n",
    "            package_features[package][\"download_count\"] = count"
   ],
   "outputs": [
    {
     "data": {
      "text/plain": [
       "Getting download counts for unscoped packages:   0%|          | 0/53 [00:00<?, ?it/s]"
      ],
      "application/vnd.jupyter.widget-view+json": {
       "version_major": 2,
       "version_minor": 0,
       "model_id": "a53524dcb04b475582632fe299dd5474"
      }
     },
     "metadata": {},
     "output_type": "display_data"
    }
   ],
   "execution_count": 82
  },
  {
   "metadata": {
    "ExecuteTime": {
     "end_time": "2024-11-07T18:38:19.368808Z",
     "start_time": "2024-11-07T18:38:19.106809Z"
    }
   },
   "cell_type": "code",
   "source": [
    "# FOR UNSCOPED, update download function to process one package concurrently\n",
    "def get_year_downloads(package, interval):\n",
    "    url = f\"https://api.npmjs.org/downloads/point/{interval}/{package}\"\n",
    "    res = requests.get(url)\n",
    "    if res.status_code == 200:\n",
    "        return res.json()[\"downloads\"]\n",
    "    \n",
    "    return 0\n",
    "\n",
    "\n",
    "def get_all_time_download_count_concurrent(package, creation_date, format=\"%Y-%m-%d\", max_retries=3, delay=2):\n",
    "    create_date = creation_date.replace('Z', '+00:00')\n",
    "    create_date = datetime.fromisoformat(create_date)\n",
    "    \n",
    "    start_date = max(datetime(day=10, month=1, year=2015).date(), create_date.date())\n",
    "    curr_date = datetime.now().date()\n",
    "    \n",
    "    intervals = []\n",
    "    while start_date < curr_date:\n",
    "        interval_end = min(start_date + timedelta(days=365), curr_date)\n",
    "        intervals.append(f'{start_date.strftime(format)}:{interval_end.strftime(format)}')\n",
    "        start_date = interval_end + timedelta(days=1)\n",
    "            \n",
    "    with ThreadPoolExecutor() as executor:\n",
    "        futures = { executor.submit(get_year_downloads, package, interval): interval for interval in intervals }\n",
    "        download_count = 0\n",
    "\n",
    "        for future in futures:\n",
    "            download_count += future.result()\n",
    "\n",
    "        return download_count\n",
    "\n",
    "count = get_all_time_download_count_concurrent(\"@glimmer/syntax\", \"2017-01-13T18:40:43.003Z\")\n",
    "print(f'{count:,}')\n",
    "    "
   ],
   "outputs": [
    {
     "name": "stdout",
     "output_type": "stream",
     "text": [
      "78,244,188\n"
     ]
    }
   ],
   "execution_count": 129
  },
  {
   "metadata": {
    "ExecuteTime": {
     "end_time": "2024-11-07T17:03:50.944989Z",
     "start_time": "2024-11-07T17:03:50.931690Z"
    }
   },
   "cell_type": "code",
   "source": [
    "# FOR UNSCOPED PACKAGES, DIVIDE INTO CHUNKS AND PROCESS ONE CHUNK AT A TIME\n",
    "def update_download_counts_in_chunks(packages, block_size=10,delay=1):\n",
    "    # divide data into blocks\n",
    "    blocks = [packages[i:i+block_size] for i in range(0, len(packages), block_size)]\n",
    "    \n",
    "    # download counts one block at a time\n",
    "    for i, block in tqdm(enumerate(blocks),total=len(blocks), desc=\"Blocks done\"):\n",
    "        with ThreadPoolExecutor() as executor:\n",
    "            futures = { executor.submit(get_all_time_download_count_concurrent, package, date): package for package, date in block }\n",
    "        \n",
    "            for future in futures:\n",
    "                package = futures[future]\n",
    "                download_count = future.result()\n",
    "                package_features[package][\"download_count\"] = download_count\n",
    "        \n",
    "        if delay > 0:\n",
    "            sleep(delay)\n",
    "    "
   ],
   "outputs": [],
   "execution_count": 119
  },
  {
   "metadata": {
    "ExecuteTime": {
     "end_time": "2024-11-07T18:33:58.096927Z",
     "start_time": "2024-11-07T18:11:45.405934Z"
    }
   },
   "cell_type": "code",
   "source": "update_download_counts_in_chunks(scoped, delay=2)",
   "outputs": [
    {
     "data": {
      "text/plain": [
       "Blocks done:   0%|          | 0/437 [00:00<?, ?it/s]"
      ],
      "application/vnd.jupyter.widget-view+json": {
       "version_major": 2,
       "version_minor": 0,
       "model_id": "d671aed8615942598a6517cc723a4a9b"
      }
     },
     "metadata": {},
     "output_type": "display_data"
    }
   ],
   "execution_count": 124
  },
  {
   "metadata": {
    "ExecuteTime": {
     "end_time": "2024-11-07T18:37:51.152096Z",
     "start_time": "2024-11-07T18:37:51.033328Z"
    }
   },
   "cell_type": "code",
   "source": [
    "with open(\"./dataset/dep-graph.json\", mode=\"w\") as file:\n",
    "    json.dump(dep_graph, file, indent=4)"
   ],
   "outputs": [],
   "execution_count": 127
  },
  {
   "metadata": {
    "ExecuteTime": {
     "end_time": "2024-11-07T18:37:53.107141Z",
     "start_time": "2024-11-07T18:37:53.004988Z"
    }
   },
   "cell_type": "code",
   "source": [
    "with open(\"./dataset/package-features.json\", mode=\"w\") as file:\n",
    "    json.dump(package_features, file, indent=4)"
   ],
   "outputs": [],
   "execution_count": 128
  },
  {
   "metadata": {
    "ExecuteTime": {
     "end_time": "2024-11-07T11:49:52.755957Z",
     "start_time": "2024-11-07T11:49:52.747806Z"
    }
   },
   "cell_type": "code",
   "source": [
    "print(len(package_features.keys()))\n",
    "print(len(dep_graph.keys()))"
   ],
   "outputs": [
    {
     "name": "stdout",
     "output_type": "stream",
     "text": [
      "11124\n",
      "11124\n"
     ]
    }
   ],
   "execution_count": 49
  },
  {
   "metadata": {
    "ExecuteTime": {
     "end_time": "2024-11-07T11:50:22.331311Z",
     "start_time": "2024-11-07T11:50:22.194233Z"
    }
   },
   "cell_type": "code",
   "source": [
    "edges = []\n",
    "\n",
    "for package, deps in dep_graph.items():\n",
    "    if len(deps) > 0:\n",
    "        for dep, version in deps.items():\n",
    "            edges.append((package, dep, version))\n",
    "\n",
    "headers = ['package', 'dependency', 'version']\n",
    "df = pd.DataFrame(edges, columns=headers)\n",
    "df.head()"
   ],
   "outputs": [
    {
     "data": {
      "text/plain": [
       "            package    dependency version\n",
       "0  minimist-options        arrify  ^1.0.1\n",
       "1  minimist-options  is-plain-obj  ^1.1.0\n",
       "2  minimist-options       kind-of  ^6.0.3\n",
       "3        atomically   stubborn-fs  ^1.2.5\n",
       "4        atomically     when-exit  ^2.1.1"
      ],
      "text/html": [
       "<div>\n",
       "<style scoped>\n",
       "    .dataframe tbody tr th:only-of-type {\n",
       "        vertical-align: middle;\n",
       "    }\n",
       "\n",
       "    .dataframe tbody tr th {\n",
       "        vertical-align: top;\n",
       "    }\n",
       "\n",
       "    .dataframe thead th {\n",
       "        text-align: right;\n",
       "    }\n",
       "</style>\n",
       "<table border=\"1\" class=\"dataframe\">\n",
       "  <thead>\n",
       "    <tr style=\"text-align: right;\">\n",
       "      <th></th>\n",
       "      <th>package</th>\n",
       "      <th>dependency</th>\n",
       "      <th>version</th>\n",
       "    </tr>\n",
       "  </thead>\n",
       "  <tbody>\n",
       "    <tr>\n",
       "      <th>0</th>\n",
       "      <td>minimist-options</td>\n",
       "      <td>arrify</td>\n",
       "      <td>^1.0.1</td>\n",
       "    </tr>\n",
       "    <tr>\n",
       "      <th>1</th>\n",
       "      <td>minimist-options</td>\n",
       "      <td>is-plain-obj</td>\n",
       "      <td>^1.1.0</td>\n",
       "    </tr>\n",
       "    <tr>\n",
       "      <th>2</th>\n",
       "      <td>minimist-options</td>\n",
       "      <td>kind-of</td>\n",
       "      <td>^6.0.3</td>\n",
       "    </tr>\n",
       "    <tr>\n",
       "      <th>3</th>\n",
       "      <td>atomically</td>\n",
       "      <td>stubborn-fs</td>\n",
       "      <td>^1.2.5</td>\n",
       "    </tr>\n",
       "    <tr>\n",
       "      <th>4</th>\n",
       "      <td>atomically</td>\n",
       "      <td>when-exit</td>\n",
       "      <td>^2.1.1</td>\n",
       "    </tr>\n",
       "  </tbody>\n",
       "</table>\n",
       "</div>"
      ]
     },
     "execution_count": 50,
     "metadata": {},
     "output_type": "execute_result"
    }
   ],
   "execution_count": 50
  },
  {
   "metadata": {
    "ExecuteTime": {
     "end_time": "2024-11-07T11:52:36.687406Z",
     "start_time": "2024-11-07T11:52:36.671712Z"
    }
   },
   "cell_type": "code",
   "source": "len(df)",
   "outputs": [
    {
     "data": {
      "text/plain": [
       "31983"
      ]
     },
     "execution_count": 55,
     "metadata": {},
     "output_type": "execute_result"
    }
   ],
   "execution_count": 55
  },
  {
   "metadata": {
    "ExecuteTime": {
     "end_time": "2024-11-07T11:51:35.208541Z",
     "start_time": "2024-11-07T11:51:35.101951Z"
    }
   },
   "cell_type": "code",
   "source": "df.to_csv(\"./dataset/dep-graph.csv\")",
   "outputs": [],
   "execution_count": 52
  },
  {
   "cell_type": "code",
   "source": [
    "feat_data = []\n",
    "headers = ['package', 'latest_version', 'keywords', 'publish_time', 'creation_date', 'number_of_versions', 'downloads']\n",
    "for package, feats in package_features.items():\n",
    "    feat_data.append([package] + list(feats.values()))\n",
    "\n",
    "feat_df = pd.DataFrame(feat_data, columns=headers)\n",
    "feat_df.head()"
   ],
   "metadata": {
    "collapsed": false,
    "ExecuteTime": {
     "end_time": "2024-11-07T11:50:28.259905Z",
     "start_time": "2024-11-07T11:50:28.184232Z"
    }
   },
   "outputs": [
    {
     "data": {
      "text/plain": [
       "                package latest_version  \\\n",
       "0            atomically          2.0.3   \n",
       "1  @fontsource/monofett          5.1.0   \n",
       "2           debounce-fn          6.0.0   \n",
       "3               kind-of          6.0.3   \n",
       "4           ajv-formats          3.0.1   \n",
       "\n",
       "                                            keywords publish_time  \\\n",
       "0              [atomic, read, write, file, reliable]   1712238627   \n",
       "1  [fontsource, font, font family, google fonts, ...   1726116813   \n",
       "2  [debounce, function, debouncer, fn, func, thro...   1699187981   \n",
       "3  [arguments, array, boolean, check, date, funct...   1579165159   \n",
       "4             [Ajv, JSON-Schema, format, validation]   1711769426   \n",
       "\n",
       "              creation_date  number_of_versions    downloads  \n",
       "0  2020-07-02T00:22:58.370Z                  14     69537822  \n",
       "1  2020-12-23T22:21:26.182Z                  42        68891  \n",
       "2  2014-08-04T22:46:13.182Z                  13     77911966  \n",
       "3  2014-09-26T08:08:38.913Z                  26  30221557144  \n",
       "4  2020-01-14T17:57:34.978Z                  36   2035572702  "
      ],
      "text/html": [
       "<div>\n",
       "<style scoped>\n",
       "    .dataframe tbody tr th:only-of-type {\n",
       "        vertical-align: middle;\n",
       "    }\n",
       "\n",
       "    .dataframe tbody tr th {\n",
       "        vertical-align: top;\n",
       "    }\n",
       "\n",
       "    .dataframe thead th {\n",
       "        text-align: right;\n",
       "    }\n",
       "</style>\n",
       "<table border=\"1\" class=\"dataframe\">\n",
       "  <thead>\n",
       "    <tr style=\"text-align: right;\">\n",
       "      <th></th>\n",
       "      <th>package</th>\n",
       "      <th>latest_version</th>\n",
       "      <th>keywords</th>\n",
       "      <th>publish_time</th>\n",
       "      <th>creation_date</th>\n",
       "      <th>number_of_versions</th>\n",
       "      <th>downloads</th>\n",
       "    </tr>\n",
       "  </thead>\n",
       "  <tbody>\n",
       "    <tr>\n",
       "      <th>0</th>\n",
       "      <td>atomically</td>\n",
       "      <td>2.0.3</td>\n",
       "      <td>[atomic, read, write, file, reliable]</td>\n",
       "      <td>1712238627</td>\n",
       "      <td>2020-07-02T00:22:58.370Z</td>\n",
       "      <td>14</td>\n",
       "      <td>69537822</td>\n",
       "    </tr>\n",
       "    <tr>\n",
       "      <th>1</th>\n",
       "      <td>@fontsource/monofett</td>\n",
       "      <td>5.1.0</td>\n",
       "      <td>[fontsource, font, font family, google fonts, ...</td>\n",
       "      <td>1726116813</td>\n",
       "      <td>2020-12-23T22:21:26.182Z</td>\n",
       "      <td>42</td>\n",
       "      <td>68891</td>\n",
       "    </tr>\n",
       "    <tr>\n",
       "      <th>2</th>\n",
       "      <td>debounce-fn</td>\n",
       "      <td>6.0.0</td>\n",
       "      <td>[debounce, function, debouncer, fn, func, thro...</td>\n",
       "      <td>1699187981</td>\n",
       "      <td>2014-08-04T22:46:13.182Z</td>\n",
       "      <td>13</td>\n",
       "      <td>77911966</td>\n",
       "    </tr>\n",
       "    <tr>\n",
       "      <th>3</th>\n",
       "      <td>kind-of</td>\n",
       "      <td>6.0.3</td>\n",
       "      <td>[arguments, array, boolean, check, date, funct...</td>\n",
       "      <td>1579165159</td>\n",
       "      <td>2014-09-26T08:08:38.913Z</td>\n",
       "      <td>26</td>\n",
       "      <td>30221557144</td>\n",
       "    </tr>\n",
       "    <tr>\n",
       "      <th>4</th>\n",
       "      <td>ajv-formats</td>\n",
       "      <td>3.0.1</td>\n",
       "      <td>[Ajv, JSON-Schema, format, validation]</td>\n",
       "      <td>1711769426</td>\n",
       "      <td>2020-01-14T17:57:34.978Z</td>\n",
       "      <td>36</td>\n",
       "      <td>2035572702</td>\n",
       "    </tr>\n",
       "  </tbody>\n",
       "</table>\n",
       "</div>"
      ]
     },
     "execution_count": 51,
     "metadata": {},
     "output_type": "execute_result"
    }
   ],
   "execution_count": 51
  },
  {
   "metadata": {
    "ExecuteTime": {
     "end_time": "2024-11-07T11:51:36.707984Z",
     "start_time": "2024-11-07T11:51:36.658325Z"
    }
   },
   "cell_type": "code",
   "source": "feat_df.to_csv(\"./dataset/package-feats.csv\")",
   "outputs": [],
   "execution_count": 53
  },
  {
   "metadata": {
    "ExecuteTime": {
     "end_time": "2024-11-07T11:52:50.271475Z",
     "start_time": "2024-11-07T11:52:50.254388Z"
    }
   },
   "cell_type": "code",
   "source": "len(feat_df)",
   "outputs": [
    {
     "data": {
      "text/plain": [
       "11124"
      ]
     },
     "execution_count": 56,
     "metadata": {},
     "output_type": "execute_result"
    }
   ],
   "execution_count": 56
  },
  {
   "cell_type": "markdown",
   "source": [
    "#### Versioning Info\n",
    "\n",
    "- `~version` **“Approximately equivalent to version”**, will automatically update you to all future patch versions that are backwards-compatible, without incrementing the minor version. `~1.2.3` will use releases from `1.2.3` to `< 1.3.0`.\n",
    "\n",
    "\n",
    "- `^version` **“Compatible with version”**, will automatically update you to all future minor/patch versions that are backwards-compatible, without incrementing the major version. `^1.2.3` will use releases from `1.2.3` to `< 2.0.0`."
   ],
   "metadata": {
    "collapsed": false
   }
  },
  {
   "cell_type": "code",
   "outputs": [],
   "source": [],
   "metadata": {
    "collapsed": false,
    "ExecuteTime": {
     "end_time": "2024-10-29T09:02:35.476425Z",
     "start_time": "2024-10-29T09:02:35.458045Z"
    }
   },
   "execution_count": 26
  },
  {
   "cell_type": "code",
   "outputs": [],
   "source": [],
   "metadata": {
    "collapsed": false
   },
   "execution_count": null
  }
 ],
 "metadata": {
  "kernelspec": {
   "display_name": "venv",
   "language": "python",
   "name": "python3"
  },
  "language_info": {
   "name": "python",
   "version": "3.8.11"
  }
 },
 "nbformat": 4,
 "nbformat_minor": 2
}
